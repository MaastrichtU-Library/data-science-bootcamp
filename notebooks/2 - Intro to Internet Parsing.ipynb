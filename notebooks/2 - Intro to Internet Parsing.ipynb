{
 "cells": [
  {
   "cell_type": "markdown",
   "metadata": {
    "slideshow": {
     "slide_type": "slide"
    }
   },
   "source": [
    "#### PGGM Data Science Bootcamp 2020\n",
    "*Notebook by [Pedro V Hernandez Serrano](https://github.com/pedrohserrano)*"
   ]
  },
  {
   "cell_type": "markdown",
   "metadata": {
    "slideshow": {
     "slide_type": "subslide"
    }
   },
   "source": [
    "---\n",
    "![](../img/image_2.png)"
   ]
  },
  {
   "cell_type": "markdown",
   "metadata": {},
   "source": [
    "# 2. Intro to Internet Parsing\n",
    "* [2.1. Internet parsing using API](#2.1)\n",
    "* [2.2. Internet parsing using BeautifulSoup](#2.2)\n",
    "\n",
    "---"
   ]
  },
  {
   "cell_type": "markdown",
   "metadata": {
    "slideshow": {
     "slide_type": "fragment"
    }
   },
   "source": [
    "### 2.1. Internet Parsing using API\n",
    "<a id=\"2.1\">"
   ]
  },
  {
   "cell_type": "markdown",
   "metadata": {
    "slideshow": {
     "slide_type": "fragment"
    }
   },
   "source": [
    "- Before we get deep into the EDGAR data we actually need to map the CIK codes with the company names so that we can automatically can gather information\n",
    "- A Central Index Key or CIK number is a number given to an individual, company, or foreign government by the United States Securities and Exchange Commission. \n",
    "- The number will help is to identify its filings in several online databases, including EDGAR.\n",
    "- The numbers are ten digits in length."
   ]
  },
  {
   "cell_type": "markdown",
   "metadata": {
    "slideshow": {
     "slide_type": "subslide"
    }
   },
   "source": [
    "Accessing CIK - Ticker mappings via API"
   ]
  },
  {
   "cell_type": "code",
   "execution_count": 2,
   "metadata": {},
   "outputs": [],
   "source": [
    "import pandas as pd"
   ]
  },
  {
   "cell_type": "code",
   "execution_count": 3,
   "metadata": {
    "slideshow": {
     "slide_type": "fragment"
    }
   },
   "outputs": [],
   "source": [
    "NASDAQ = pd.read_json('https://mapping-api.herokuapp.com/exchange/NASDAQ')\n",
    "OTC = pd.read_json('https://mapping-api.herokuapp.com/exchange/OTC')\n",
    "NYSE = pd.read_json('https://mapping-api.herokuapp.com/exchange/NYSE')"
   ]
  },
  {
   "cell_type": "code",
   "execution_count": 4,
   "metadata": {
    "slideshow": {
     "slide_type": "fragment"
    }
   },
   "outputs": [],
   "source": [
    "df = pd.DataFrame()\n",
    "df = df.append(NASDAQ)\n",
    "df = df.append(OTC)\n",
    "df = df.append(NYSE)"
   ]
  },
  {
   "cell_type": "code",
   "execution_count": 6,
   "metadata": {},
   "outputs": [
    {
     "data": {
      "text/html": [
       "<div>\n",
       "<style scoped>\n",
       "    .dataframe tbody tr th:only-of-type {\n",
       "        vertical-align: middle;\n",
       "    }\n",
       "\n",
       "    .dataframe tbody tr th {\n",
       "        vertical-align: top;\n",
       "    }\n",
       "\n",
       "    .dataframe thead th {\n",
       "        text-align: right;\n",
       "    }\n",
       "</style>\n",
       "<table border=\"1\" class=\"dataframe\">\n",
       "  <thead>\n",
       "    <tr style=\"text-align: right;\">\n",
       "      <th></th>\n",
       "      <th>cik</th>\n",
       "      <th>ticker</th>\n",
       "      <th>name</th>\n",
       "      <th>sic</th>\n",
       "      <th>exchange</th>\n",
       "      <th>irs</th>\n",
       "    </tr>\n",
       "  </thead>\n",
       "  <tbody>\n",
       "    <tr>\n",
       "      <td>0</td>\n",
       "      <td>1099290</td>\n",
       "      <td>AAC</td>\n",
       "      <td>Sinocoking Coal &amp; Coke Chemical Industries Inc</td>\n",
       "      <td>3312</td>\n",
       "      <td>NASDAQ</td>\n",
       "      <td>593404233</td>\n",
       "    </tr>\n",
       "    <tr>\n",
       "      <td>1</td>\n",
       "      <td>6201</td>\n",
       "      <td>AAL</td>\n",
       "      <td>American Airlines Group Inc</td>\n",
       "      <td>4512</td>\n",
       "      <td>NASDAQ</td>\n",
       "      <td>751825172</td>\n",
       "    </tr>\n",
       "    <tr>\n",
       "      <td>2</td>\n",
       "      <td>8177</td>\n",
       "      <td>AAME</td>\n",
       "      <td>Atlantic American Corp</td>\n",
       "      <td>6311</td>\n",
       "      <td>NASDAQ</td>\n",
       "      <td>581027114</td>\n",
       "    </tr>\n",
       "    <tr>\n",
       "      <td>3</td>\n",
       "      <td>1158114</td>\n",
       "      <td>AAOI</td>\n",
       "      <td>Applied Optoelectronics Inc</td>\n",
       "      <td>3674</td>\n",
       "      <td>NASDAQ</td>\n",
       "      <td>760533927</td>\n",
       "    </tr>\n",
       "    <tr>\n",
       "      <td>4</td>\n",
       "      <td>320193</td>\n",
       "      <td>AAPL</td>\n",
       "      <td>Apple Inc</td>\n",
       "      <td>3571</td>\n",
       "      <td>NASDAQ</td>\n",
       "      <td>942404110</td>\n",
       "    </tr>\n",
       "    <tr>\n",
       "      <td>...</td>\n",
       "      <td>...</td>\n",
       "      <td>...</td>\n",
       "      <td>...</td>\n",
       "      <td>...</td>\n",
       "      <td>...</td>\n",
       "      <td>...</td>\n",
       "    </tr>\n",
       "    <tr>\n",
       "      <td>2731</td>\n",
       "      <td>1024628</td>\n",
       "      <td>ZP</td>\n",
       "      <td>Zap</td>\n",
       "      <td>3751</td>\n",
       "      <td>NYSE ARCA</td>\n",
       "      <td>943210624</td>\n",
       "    </tr>\n",
       "    <tr>\n",
       "      <td>2732</td>\n",
       "      <td>805305</td>\n",
       "      <td>ZQK</td>\n",
       "      <td>Quiksilver Inc</td>\n",
       "      <td>2320</td>\n",
       "      <td>NYSE</td>\n",
       "      <td>330199426</td>\n",
       "    </tr>\n",
       "    <tr>\n",
       "      <td>2733</td>\n",
       "      <td>1052257</td>\n",
       "      <td>ZTM</td>\n",
       "      <td>Z Trim Holdings Inc</td>\n",
       "      <td>2040</td>\n",
       "      <td>NYSE</td>\n",
       "      <td>364197173</td>\n",
       "    </tr>\n",
       "    <tr>\n",
       "      <td>2734</td>\n",
       "      <td>1555280</td>\n",
       "      <td>ZTS</td>\n",
       "      <td>Zoetis Inc</td>\n",
       "      <td>2834</td>\n",
       "      <td>NYSE</td>\n",
       "      <td>460696167</td>\n",
       "    </tr>\n",
       "    <tr>\n",
       "      <td>2735</td>\n",
       "      <td>748015</td>\n",
       "      <td>ZZ</td>\n",
       "      <td>Sealy Corp</td>\n",
       "      <td>2510</td>\n",
       "      <td>NYSE</td>\n",
       "      <td>363284147</td>\n",
       "    </tr>\n",
       "  </tbody>\n",
       "</table>\n",
       "<p>7066 rows × 6 columns</p>\n",
       "</div>"
      ],
      "text/plain": [
       "          cik ticker                                            name   sic  \\\n",
       "0     1099290    AAC  Sinocoking Coal & Coke Chemical Industries Inc  3312   \n",
       "1        6201    AAL                     American Airlines Group Inc  4512   \n",
       "2        8177   AAME                          Atlantic American Corp  6311   \n",
       "3     1158114   AAOI                     Applied Optoelectronics Inc  3674   \n",
       "4      320193   AAPL                                       Apple Inc  3571   \n",
       "...       ...    ...                                             ...   ...   \n",
       "2731  1024628     ZP                                             Zap  3751   \n",
       "2732   805305    ZQK                                  Quiksilver Inc  2320   \n",
       "2733  1052257    ZTM                             Z Trim Holdings Inc  2040   \n",
       "2734  1555280    ZTS                                      Zoetis Inc  2834   \n",
       "2735   748015     ZZ                                      Sealy Corp  2510   \n",
       "\n",
       "       exchange        irs  \n",
       "0        NASDAQ  593404233  \n",
       "1        NASDAQ  751825172  \n",
       "2        NASDAQ  581027114  \n",
       "3        NASDAQ  760533927  \n",
       "4        NASDAQ  942404110  \n",
       "...         ...        ...  \n",
       "2731  NYSE ARCA  943210624  \n",
       "2732       NYSE  330199426  \n",
       "2733       NYSE  364197173  \n",
       "2734       NYSE  460696167  \n",
       "2735       NYSE  363284147  \n",
       "\n",
       "[7066 rows x 6 columns]"
      ]
     },
     "execution_count": 6,
     "metadata": {},
     "output_type": "execute_result"
    }
   ],
   "source": [
    "df"
   ]
  },
  {
   "cell_type": "code",
   "execution_count": null,
   "metadata": {
    "slideshow": {
     "slide_type": "subslide"
    }
   },
   "outputs": [],
   "source": [
    "# sample for example\n",
    "df = df.sample(120, random_state=1298, replace=True)"
   ]
  },
  {
   "cell_type": "code",
   "execution_count": 5,
   "metadata": {},
   "outputs": [
    {
     "data": {
      "text/html": [
       "<div>\n",
       "<style scoped>\n",
       "    .dataframe tbody tr th:only-of-type {\n",
       "        vertical-align: middle;\n",
       "    }\n",
       "\n",
       "    .dataframe tbody tr th {\n",
       "        vertical-align: top;\n",
       "    }\n",
       "\n",
       "    .dataframe thead th {\n",
       "        text-align: right;\n",
       "    }\n",
       "</style>\n",
       "<table border=\"1\" class=\"dataframe\">\n",
       "  <thead>\n",
       "    <tr style=\"text-align: right;\">\n",
       "      <th></th>\n",
       "      <th>cik</th>\n",
       "      <th>ticker</th>\n",
       "      <th>name</th>\n",
       "      <th>sic</th>\n",
       "      <th>exchange</th>\n",
       "      <th>irs</th>\n",
       "    </tr>\n",
       "  </thead>\n",
       "  <tbody>\n",
       "    <tr>\n",
       "      <td>0</td>\n",
       "      <td>1099290</td>\n",
       "      <td>AAC</td>\n",
       "      <td>Sinocoking Coal &amp; Coke Chemical Industries Inc</td>\n",
       "      <td>3312</td>\n",
       "      <td>NASDAQ</td>\n",
       "      <td>593404233</td>\n",
       "    </tr>\n",
       "    <tr>\n",
       "      <td>1</td>\n",
       "      <td>6201</td>\n",
       "      <td>AAL</td>\n",
       "      <td>American Airlines Group Inc</td>\n",
       "      <td>4512</td>\n",
       "      <td>NASDAQ</td>\n",
       "      <td>751825172</td>\n",
       "    </tr>\n",
       "    <tr>\n",
       "      <td>2</td>\n",
       "      <td>8177</td>\n",
       "      <td>AAME</td>\n",
       "      <td>Atlantic American Corp</td>\n",
       "      <td>6311</td>\n",
       "      <td>NASDAQ</td>\n",
       "      <td>581027114</td>\n",
       "    </tr>\n",
       "    <tr>\n",
       "      <td>3</td>\n",
       "      <td>1158114</td>\n",
       "      <td>AAOI</td>\n",
       "      <td>Applied Optoelectronics Inc</td>\n",
       "      <td>3674</td>\n",
       "      <td>NASDAQ</td>\n",
       "      <td>760533927</td>\n",
       "    </tr>\n",
       "    <tr>\n",
       "      <td>4</td>\n",
       "      <td>320193</td>\n",
       "      <td>AAPL</td>\n",
       "      <td>Apple Inc</td>\n",
       "      <td>3571</td>\n",
       "      <td>NASDAQ</td>\n",
       "      <td>942404110</td>\n",
       "    </tr>\n",
       "    <tr>\n",
       "      <td>...</td>\n",
       "      <td>...</td>\n",
       "      <td>...</td>\n",
       "      <td>...</td>\n",
       "      <td>...</td>\n",
       "      <td>...</td>\n",
       "      <td>...</td>\n",
       "    </tr>\n",
       "    <tr>\n",
       "      <td>2731</td>\n",
       "      <td>1024628</td>\n",
       "      <td>ZP</td>\n",
       "      <td>Zap</td>\n",
       "      <td>3751</td>\n",
       "      <td>NYSE ARCA</td>\n",
       "      <td>943210624</td>\n",
       "    </tr>\n",
       "    <tr>\n",
       "      <td>2732</td>\n",
       "      <td>805305</td>\n",
       "      <td>ZQK</td>\n",
       "      <td>Quiksilver Inc</td>\n",
       "      <td>2320</td>\n",
       "      <td>NYSE</td>\n",
       "      <td>330199426</td>\n",
       "    </tr>\n",
       "    <tr>\n",
       "      <td>2733</td>\n",
       "      <td>1052257</td>\n",
       "      <td>ZTM</td>\n",
       "      <td>Z Trim Holdings Inc</td>\n",
       "      <td>2040</td>\n",
       "      <td>NYSE</td>\n",
       "      <td>364197173</td>\n",
       "    </tr>\n",
       "    <tr>\n",
       "      <td>2734</td>\n",
       "      <td>1555280</td>\n",
       "      <td>ZTS</td>\n",
       "      <td>Zoetis Inc</td>\n",
       "      <td>2834</td>\n",
       "      <td>NYSE</td>\n",
       "      <td>460696167</td>\n",
       "    </tr>\n",
       "    <tr>\n",
       "      <td>2735</td>\n",
       "      <td>748015</td>\n",
       "      <td>ZZ</td>\n",
       "      <td>Sealy Corp</td>\n",
       "      <td>2510</td>\n",
       "      <td>NYSE</td>\n",
       "      <td>363284147</td>\n",
       "    </tr>\n",
       "  </tbody>\n",
       "</table>\n",
       "<p>7066 rows × 6 columns</p>\n",
       "</div>"
      ],
      "text/plain": [
       "          cik ticker                                            name   sic  \\\n",
       "0     1099290    AAC  Sinocoking Coal & Coke Chemical Industries Inc  3312   \n",
       "1        6201    AAL                     American Airlines Group Inc  4512   \n",
       "2        8177   AAME                          Atlantic American Corp  6311   \n",
       "3     1158114   AAOI                     Applied Optoelectronics Inc  3674   \n",
       "4      320193   AAPL                                       Apple Inc  3571   \n",
       "...       ...    ...                                             ...   ...   \n",
       "2731  1024628     ZP                                             Zap  3751   \n",
       "2732   805305    ZQK                                  Quiksilver Inc  2320   \n",
       "2733  1052257    ZTM                             Z Trim Holdings Inc  2040   \n",
       "2734  1555280    ZTS                                      Zoetis Inc  2834   \n",
       "2735   748015     ZZ                                      Sealy Corp  2510   \n",
       "\n",
       "       exchange        irs  \n",
       "0        NASDAQ  593404233  \n",
       "1        NASDAQ  751825172  \n",
       "2        NASDAQ  581027114  \n",
       "3        NASDAQ  760533927  \n",
       "4        NASDAQ  942404110  \n",
       "...         ...        ...  \n",
       "2731  NYSE ARCA  943210624  \n",
       "2732       NYSE  330199426  \n",
       "2733       NYSE  364197173  \n",
       "2734       NYSE  460696167  \n",
       "2735       NYSE  363284147  \n",
       "\n",
       "[7066 rows x 6 columns]"
      ]
     },
     "execution_count": 5,
     "metadata": {},
     "output_type": "execute_result"
    }
   ],
   "source": [
    "df"
   ]
  },
  {
   "cell_type": "code",
   "execution_count": 9,
   "metadata": {
    "slideshow": {
     "slide_type": "fragment"
    }
   },
   "outputs": [],
   "source": [
    "df = df.head(10) #Only taking the first 10 for the moment to avoid heavy processing\n",
    "len(df)"
   ]
  },
  {
   "cell_type": "code",
   "execution_count": 8,
   "metadata": {
    "slideshow": {
     "slide_type": "fragment"
    }
   },
   "outputs": [
    {
     "data": {
      "text/html": [
       "<div>\n",
       "<style scoped>\n",
       "    .dataframe tbody tr th:only-of-type {\n",
       "        vertical-align: middle;\n",
       "    }\n",
       "\n",
       "    .dataframe tbody tr th {\n",
       "        vertical-align: top;\n",
       "    }\n",
       "\n",
       "    .dataframe thead th {\n",
       "        text-align: right;\n",
       "    }\n",
       "</style>\n",
       "<table border=\"1\" class=\"dataframe\">\n",
       "  <thead>\n",
       "    <tr style=\"text-align: right;\">\n",
       "      <th></th>\n",
       "      <th>cik</th>\n",
       "      <th>ticker</th>\n",
       "      <th>name</th>\n",
       "      <th>sic</th>\n",
       "      <th>exchange</th>\n",
       "      <th>irs</th>\n",
       "    </tr>\n",
       "  </thead>\n",
       "  <tbody>\n",
       "    <tr>\n",
       "      <td>0</td>\n",
       "      <td>1099290</td>\n",
       "      <td>AAC</td>\n",
       "      <td>Sinocoking Coal &amp; Coke Chemical Industries Inc</td>\n",
       "      <td>3312</td>\n",
       "      <td>NASDAQ</td>\n",
       "      <td>593404233</td>\n",
       "    </tr>\n",
       "    <tr>\n",
       "      <td>1</td>\n",
       "      <td>6201</td>\n",
       "      <td>AAL</td>\n",
       "      <td>American Airlines Group Inc</td>\n",
       "      <td>4512</td>\n",
       "      <td>NASDAQ</td>\n",
       "      <td>751825172</td>\n",
       "    </tr>\n",
       "    <tr>\n",
       "      <td>2</td>\n",
       "      <td>8177</td>\n",
       "      <td>AAME</td>\n",
       "      <td>Atlantic American Corp</td>\n",
       "      <td>6311</td>\n",
       "      <td>NASDAQ</td>\n",
       "      <td>581027114</td>\n",
       "    </tr>\n",
       "    <tr>\n",
       "      <td>3</td>\n",
       "      <td>1158114</td>\n",
       "      <td>AAOI</td>\n",
       "      <td>Applied Optoelectronics Inc</td>\n",
       "      <td>3674</td>\n",
       "      <td>NASDAQ</td>\n",
       "      <td>760533927</td>\n",
       "    </tr>\n",
       "    <tr>\n",
       "      <td>4</td>\n",
       "      <td>320193</td>\n",
       "      <td>AAPL</td>\n",
       "      <td>Apple Inc</td>\n",
       "      <td>3571</td>\n",
       "      <td>NASDAQ</td>\n",
       "      <td>942404110</td>\n",
       "    </tr>\n",
       "    <tr>\n",
       "      <td>...</td>\n",
       "      <td>...</td>\n",
       "      <td>...</td>\n",
       "      <td>...</td>\n",
       "      <td>...</td>\n",
       "      <td>...</td>\n",
       "      <td>...</td>\n",
       "    </tr>\n",
       "    <tr>\n",
       "      <td>2731</td>\n",
       "      <td>1024628</td>\n",
       "      <td>ZP</td>\n",
       "      <td>Zap</td>\n",
       "      <td>3751</td>\n",
       "      <td>NYSE ARCA</td>\n",
       "      <td>943210624</td>\n",
       "    </tr>\n",
       "    <tr>\n",
       "      <td>2732</td>\n",
       "      <td>805305</td>\n",
       "      <td>ZQK</td>\n",
       "      <td>Quiksilver Inc</td>\n",
       "      <td>2320</td>\n",
       "      <td>NYSE</td>\n",
       "      <td>330199426</td>\n",
       "    </tr>\n",
       "    <tr>\n",
       "      <td>2733</td>\n",
       "      <td>1052257</td>\n",
       "      <td>ZTM</td>\n",
       "      <td>Z Trim Holdings Inc</td>\n",
       "      <td>2040</td>\n",
       "      <td>NYSE</td>\n",
       "      <td>364197173</td>\n",
       "    </tr>\n",
       "    <tr>\n",
       "      <td>2734</td>\n",
       "      <td>1555280</td>\n",
       "      <td>ZTS</td>\n",
       "      <td>Zoetis Inc</td>\n",
       "      <td>2834</td>\n",
       "      <td>NYSE</td>\n",
       "      <td>460696167</td>\n",
       "    </tr>\n",
       "    <tr>\n",
       "      <td>2735</td>\n",
       "      <td>748015</td>\n",
       "      <td>ZZ</td>\n",
       "      <td>Sealy Corp</td>\n",
       "      <td>2510</td>\n",
       "      <td>NYSE</td>\n",
       "      <td>363284147</td>\n",
       "    </tr>\n",
       "  </tbody>\n",
       "</table>\n",
       "<p>7066 rows × 6 columns</p>\n",
       "</div>"
      ],
      "text/plain": [
       "          cik ticker                                            name   sic  \\\n",
       "0     1099290    AAC  Sinocoking Coal & Coke Chemical Industries Inc  3312   \n",
       "1        6201    AAL                     American Airlines Group Inc  4512   \n",
       "2        8177   AAME                          Atlantic American Corp  6311   \n",
       "3     1158114   AAOI                     Applied Optoelectronics Inc  3674   \n",
       "4      320193   AAPL                                       Apple Inc  3571   \n",
       "...       ...    ...                                             ...   ...   \n",
       "2731  1024628     ZP                                             Zap  3751   \n",
       "2732   805305    ZQK                                  Quiksilver Inc  2320   \n",
       "2733  1052257    ZTM                             Z Trim Holdings Inc  2040   \n",
       "2734  1555280    ZTS                                      Zoetis Inc  2834   \n",
       "2735   748015     ZZ                                      Sealy Corp  2510   \n",
       "\n",
       "       exchange        irs  \n",
       "0        NASDAQ  593404233  \n",
       "1        NASDAQ  751825172  \n",
       "2        NASDAQ  581027114  \n",
       "3        NASDAQ  760533927  \n",
       "4        NASDAQ  942404110  \n",
       "...         ...        ...  \n",
       "2731  NYSE ARCA  943210624  \n",
       "2732       NYSE  330199426  \n",
       "2733       NYSE  364197173  \n",
       "2734       NYSE  460696167  \n",
       "2735       NYSE  363284147  \n",
       "\n",
       "[7066 rows x 6 columns]"
      ]
     },
     "execution_count": 8,
     "metadata": {},
     "output_type": "execute_result"
    }
   ],
   "source": [
    "df"
   ]
  },
  {
   "cell_type": "code",
   "execution_count": 10,
   "metadata": {},
   "outputs": [],
   "source": [
    "df.to_csv('output.csv')"
   ]
  },
  {
   "cell_type": "markdown",
   "metadata": {
    "slideshow": {
     "slide_type": "fragment"
    }
   },
   "source": [
    "**There are a couple of data sources that provide the information of companies names, ticker, CIK and Exchange schema like [rankandfiled.com](http://rankandfiled.com/#/data/tickers) or [dan.vonkohorn.com](https://dan.vonkohorn.com/2016/07/03/cik-ticker-mappings/)**"
   ]
  },
  {
   "cell_type": "code",
   "execution_count": 11,
   "metadata": {
    "slideshow": {
     "slide_type": "subslide"
    }
   },
   "outputs": [],
   "source": [
    "import pandas as pd"
   ]
  },
  {
   "cell_type": "code",
   "execution_count": 22,
   "metadata": {
    "slideshow": {
     "slide_type": "fragment"
    }
   },
   "outputs": [],
   "source": [
    "#reading the ticker file\n",
    "cik_ticker = pd.read_csv('../datasets/cik_ticker.csv', sep='|')"
   ]
  },
  {
   "cell_type": "code",
   "execution_count": 23,
   "metadata": {
    "slideshow": {
     "slide_type": "fragment"
    }
   },
   "outputs": [
    {
     "data": {
      "text/html": [
       "<div>\n",
       "<style scoped>\n",
       "    .dataframe tbody tr th:only-of-type {\n",
       "        vertical-align: middle;\n",
       "    }\n",
       "\n",
       "    .dataframe tbody tr th {\n",
       "        vertical-align: top;\n",
       "    }\n",
       "\n",
       "    .dataframe thead th {\n",
       "        text-align: right;\n",
       "    }\n",
       "</style>\n",
       "<table border=\"1\" class=\"dataframe\">\n",
       "  <thead>\n",
       "    <tr style=\"text-align: right;\">\n",
       "      <th></th>\n",
       "      <th>CIK</th>\n",
       "      <th>Ticker</th>\n",
       "      <th>Name</th>\n",
       "      <th>Exchange</th>\n",
       "      <th>SIC</th>\n",
       "      <th>Business</th>\n",
       "      <th>Incorporated</th>\n",
       "      <th>IRS</th>\n",
       "    </tr>\n",
       "  </thead>\n",
       "  <tbody>\n",
       "    <tr>\n",
       "      <td>0</td>\n",
       "      <td>1090872</td>\n",
       "      <td>A</td>\n",
       "      <td>Agilent Technologies Inc</td>\n",
       "      <td>NYSE</td>\n",
       "      <td>3825.0</td>\n",
       "      <td>CA</td>\n",
       "      <td>DE</td>\n",
       "      <td>770518772.0</td>\n",
       "    </tr>\n",
       "    <tr>\n",
       "      <td>1</td>\n",
       "      <td>4281</td>\n",
       "      <td>AA</td>\n",
       "      <td>Alcoa Inc</td>\n",
       "      <td>NYSE</td>\n",
       "      <td>3350.0</td>\n",
       "      <td>PA</td>\n",
       "      <td>PA</td>\n",
       "      <td>250317820.0</td>\n",
       "    </tr>\n",
       "  </tbody>\n",
       "</table>\n",
       "</div>"
      ],
      "text/plain": [
       "       CIK Ticker                      Name Exchange     SIC Business  \\\n",
       "0  1090872      A  Agilent Technologies Inc     NYSE  3825.0       CA   \n",
       "1     4281     AA                 Alcoa Inc     NYSE  3350.0       PA   \n",
       "\n",
       "  Incorporated          IRS  \n",
       "0           DE  770518772.0  \n",
       "1           PA  250317820.0  "
      ]
     },
     "execution_count": 23,
     "metadata": {},
     "output_type": "execute_result"
    }
   ],
   "source": [
    "cik_ticker.head(2)"
   ]
  },
  {
   "cell_type": "code",
   "execution_count": 15,
   "metadata": {},
   "outputs": [
    {
     "data": {
      "text/plain": [
       "pandas.core.frame.DataFrame"
      ]
     },
     "execution_count": 15,
     "metadata": {},
     "output_type": "execute_result"
    }
   ],
   "source": [
    "type(cik_ticker)"
   ]
  },
  {
   "cell_type": "code",
   "execution_count": 18,
   "metadata": {
    "slideshow": {
     "slide_type": "subslide"
    }
   },
   "outputs": [
    {
     "data": {
      "text/plain": [
       "array(['NYSE', nan, 'OTC', 'NASDAQ', 'OTCBB', 'NYSE ARCA', 'NYSE MKT',\n",
       "       'BATS'], dtype=object)"
      ]
     },
     "execution_count": 18,
     "metadata": {},
     "output_type": "execute_result"
    }
   ],
   "source": [
    "cik_ticker['Exchange'].unique()"
   ]
  },
  {
   "cell_type": "code",
   "execution_count": 19,
   "metadata": {
    "scrolled": true,
    "slideshow": {
     "slide_type": "fragment"
    }
   },
   "outputs": [
    {
     "data": {
      "text/plain": [
       "13737"
      ]
     },
     "execution_count": 19,
     "metadata": {},
     "output_type": "execute_result"
    }
   ],
   "source": [
    "len(cik_ticker)"
   ]
  },
  {
   "cell_type": "markdown",
   "metadata": {
    "slideshow": {
     "slide_type": "fragment"
    }
   },
   "source": [
    "---\n",
    "#### *Learn more about API at [dataquest.io](https://www.dataquest.io/blog/python-api-tutorial/) and [freecodecamp.org](https://www.freecodecamp.org/news/what-is-an-api-in-english-please-b880a3214a82/)*"
   ]
  },
  {
   "cell_type": "markdown",
   "metadata": {
    "slideshow": {
     "slide_type": "slide"
    }
   },
   "source": [
    "---\n",
    "### 2.2. Internet Parsing using BeautifulSoup\n",
    "<a id=\"2.2\">"
   ]
  },
  {
   "cell_type": "markdown",
   "metadata": {
    "slideshow": {
     "slide_type": "fragment"
    }
   },
   "source": [
    "The main idea is to automate the search of companies and extract the information of the annual filings since there is no proper data source of annual reports we can always access them using BeautifulSoup from [EDGAR Company Filings](https://www.sec.gov/edgar/searchedgar/companysearch.html) official website "
   ]
  },
  {
   "cell_type": "markdown",
   "metadata": {
    "slideshow": {
     "slide_type": "fragment"
    }
   },
   "source": [
    "EDGAR data analysis sources:\n",
    "- [SEC Edgar Crawler](https://github.com/coyo8/sec-edgar)\n",
    "- [OpenEDGAR by LexPredict](https://github.com/LexPredict/openedgar) and [Paper](https://arxiv.org/pdf/1806.04973.pdf)     "
   ]
  },
  {
   "cell_type": "code",
   "execution_count": 24,
   "metadata": {
    "slideshow": {
     "slide_type": "subslide"
    }
   },
   "outputs": [],
   "source": [
    "#main libraries for internet parsing\n",
    "import requests\n",
    "from bs4 import BeautifulSoup"
   ]
  },
  {
   "cell_type": "code",
   "execution_count": 25,
   "metadata": {
    "slideshow": {
     "slide_type": "-"
    }
   },
   "outputs": [],
   "source": [
    "import re\n",
    "import time\n",
    "from datetime import datetime, timedelta"
   ]
  },
  {
   "cell_type": "markdown",
   "metadata": {
    "slideshow": {
     "slide_type": "subslide"
    }
   },
   "source": [
    "Let's go step by step into EDGAR database"
   ]
  },
  {
   "cell_type": "markdown",
   "metadata": {
    "slideshow": {
     "slide_type": "fragment"
    }
   },
   "source": [
    "1. In the main page we insert a ticker to look for `AAL` for example\n",
    "2. Check at the URL, it has a query sintax `https://www.sec.gov/cgi-bin/browse-edgar?CIK=AAL`\n",
    "3. We have the annual reports listed, ordered by the date added, the last year should be the first one"
   ]
  },
  {
   "cell_type": "code",
   "execution_count": 28,
   "metadata": {
    "slideshow": {
     "slide_type": "subslide"
    }
   },
   "outputs": [],
   "source": [
    "# query search\n",
    "cik = 'AAL'\n",
    "#query_search = 'https://www.sec.gov/cgi-bin/browse-edgar?CIK='+str(cik)+'&type=10-K'\n",
    "query_search = 'https://www.sec.gov/cgi-bin/browse-edgar?CIK={}&type=10-K'.format(str(cik))"
   ]
  },
  {
   "cell_type": "code",
   "execution_count": 29,
   "metadata": {},
   "outputs": [
    {
     "data": {
      "text/plain": [
       "'https://www.sec.gov/cgi-bin/browse-edgar?CIK=AAL&type=10-K'"
      ]
     },
     "execution_count": 29,
     "metadata": {},
     "output_type": "execute_result"
    }
   ],
   "source": [
    "query_search"
   ]
  },
  {
   "cell_type": "code",
   "execution_count": 30,
   "metadata": {
    "slideshow": {
     "slide_type": "fragment"
    }
   },
   "outputs": [
    {
     "data": {
      "text/plain": [
       "<Response [200]>"
      ]
     },
     "execution_count": 30,
     "metadata": {},
     "output_type": "execute_result"
    }
   ],
   "source": [
    "# internet request\n",
    "page = requests.get(query_search)\n",
    "page"
   ]
  },
  {
   "cell_type": "code",
   "execution_count": 31,
   "metadata": {
    "slideshow": {
     "slide_type": "fragment"
    }
   },
   "outputs": [],
   "source": [
    "# parsing the page\n",
    "page_parsed = BeautifulSoup(page.text, 'html.parser')"
   ]
  },
  {
   "cell_type": "code",
   "execution_count": 33,
   "metadata": {},
   "outputs": [],
   "source": [
    "#page_parsed"
   ]
  },
  {
   "cell_type": "code",
   "execution_count": 34,
   "metadata": {
    "slideshow": {
     "slide_type": "fragment"
    }
   },
   "outputs": [],
   "source": [
    "# looking for the right doc\n",
    "results_table = page_parsed.find(class_='tableFile2')"
   ]
  },
  {
   "cell_type": "code",
   "execution_count": 41,
   "metadata": {},
   "outputs": [
    {
     "data": {
      "text/plain": [
       "<a href=\"/Archives/edgar/data/6201/000000620120000023/0000006201-20-000023-index.htm\" id=\"documentsbutton\"> Documents</a>"
      ]
     },
     "execution_count": 41,
     "metadata": {},
     "output_type": "execute_result"
    }
   ],
   "source": [
    "results_table.find_all('a')[0]"
   ]
  },
  {
   "cell_type": "code",
   "execution_count": null,
   "metadata": {},
   "outputs": [],
   "source": [
    "'https://www.sec.gov/Archives/edgar/data/6201/000000620120000023/0000006201-20-000023.txt"
   ]
  },
  {
   "cell_type": "markdown",
   "metadata": {
    "slideshow": {
     "slide_type": "subslide"
    }
   },
   "source": [
    "Make the procedure modular"
   ]
  },
  {
   "cell_type": "code",
   "execution_count": 43,
   "metadata": {
    "slideshow": {
     "slide_type": "fragment"
    }
   },
   "outputs": [],
   "source": [
    "#list of cik codes\n",
    "cik_codes = list(df.cik.unique())"
   ]
  },
  {
   "cell_type": "code",
   "execution_count": 44,
   "metadata": {
    "slideshow": {
     "slide_type": "fragment"
    }
   },
   "outputs": [],
   "source": [
    "# function to get the url to the file\n",
    "def get_url(query):\n",
    "    page = requests.get(query)\n",
    "    page_parsed = BeautifulSoup(page.text, 'html.parser')\n",
    "    results_table = page_parsed.find(class_='tableFile2')\n",
    "    return results_table.find_all('a')"
   ]
  },
  {
   "cell_type": "code",
   "execution_count": 45,
   "metadata": {
    "slideshow": {
     "slide_type": "fragment"
    }
   },
   "outputs": [],
   "source": [
    "# function to get the txt files\n",
    "def get_txt_files(cik_codes):\n",
    "    # INPUT = list of CIK codes\n",
    "    docs_urls = []\n",
    "    for cik in cik_codes:\n",
    "        query = 'https://www.sec.gov/cgi-bin/browse-edgar?CIK='+str(cik)+'&type=10-K'\n",
    "        results_files = get_url(query)\n",
    "        #if there is no files in the registry means the table and list are empty\n",
    "        if results_files != []:\n",
    "            #print(str(query))\n",
    "            results_items = results_files[0].prettify()  #here access the company\n",
    "            raw_url = 'https://www.sec.gov'+re.findall(r'\\\"(.+?)\\\"',results_items)[0]\n",
    "            url = raw_url.replace('-index.htm','.txt')\n",
    "            docs_urls.append(url)\n",
    "        else:\n",
    "            docs_urls.append('https://www.google.com/')#'no-url')\n",
    "    return docs_urls"
   ]
  },
  {
   "cell_type": "markdown",
   "metadata": {
    "slideshow": {
     "slide_type": "fragment"
    }
   },
   "source": [
    "**Web crawler to extract the URL of the text files from EDGAR database**"
   ]
  },
  {
   "cell_type": "code",
   "execution_count": 46,
   "metadata": {
    "slideshow": {
     "slide_type": "fragment"
    }
   },
   "outputs": [
    {
     "name": "stdout",
     "output_type": "stream",
     "text": [
      "Execution time: 0:34:09.126541\n"
     ]
    }
   ],
   "source": [
    "start_time = time.monotonic()\n",
    "#execution\n",
    "urls_files = get_txt_files(cik_codes)\n",
    "#time\n",
    "sttime = datetime.now().strftime('%Y%m%d_%H:%M_')\n",
    "end_time = time.monotonic()\n",
    "ex_time = timedelta(seconds=end_time - start_time)\n",
    "print(\"Execution time: {}\".format(ex_time))"
   ]
  },
  {
   "cell_type": "markdown",
   "metadata": {
    "slideshow": {
     "slide_type": "fragment"
    }
   },
   "source": [
    "Now we can define a new column, and add the URL of each company related to each CIK"
   ]
  },
  {
   "cell_type": "code",
   "execution_count": 47,
   "metadata": {
    "slideshow": {
     "slide_type": "fragment"
    }
   },
   "outputs": [
    {
     "name": "stderr",
     "output_type": "stream",
     "text": [
      "/Users/pedrohserrano/opt/anaconda3/lib/python3.7/site-packages/ipykernel_launcher.py:2: SettingWithCopyWarning: \n",
      "A value is trying to be set on a copy of a slice from a DataFrame.\n",
      "Try using .loc[row_indexer,col_indexer] = value instead\n",
      "\n",
      "See the caveats in the documentation: http://pandas.pydata.org/pandas-docs/stable/user_guide/indexing.html#returning-a-view-versus-a-copy\n",
      "  \n"
     ]
    }
   ],
   "source": [
    "df = df.head(len(urls_files))\n",
    "df['file'] = urls_files"
   ]
  },
  {
   "cell_type": "code",
   "execution_count": 48,
   "metadata": {
    "slideshow": {
     "slide_type": "fragment"
    }
   },
   "outputs": [
    {
     "data": {
      "text/plain": [
       "'https://www.sec.gov/Archives/edgar/data/1099290/000114420417037280/0001144204-17-037280.txt'"
      ]
     },
     "execution_count": 48,
     "metadata": {},
     "output_type": "execute_result"
    }
   ],
   "source": [
    "# check the first URL\n",
    "urls_files[0]"
   ]
  },
  {
   "cell_type": "code",
   "execution_count": 50,
   "metadata": {},
   "outputs": [
    {
     "data": {
      "text/html": [
       "<div>\n",
       "<style scoped>\n",
       "    .dataframe tbody tr th:only-of-type {\n",
       "        vertical-align: middle;\n",
       "    }\n",
       "\n",
       "    .dataframe tbody tr th {\n",
       "        vertical-align: top;\n",
       "    }\n",
       "\n",
       "    .dataframe thead th {\n",
       "        text-align: right;\n",
       "    }\n",
       "</style>\n",
       "<table border=\"1\" class=\"dataframe\">\n",
       "  <thead>\n",
       "    <tr style=\"text-align: right;\">\n",
       "      <th></th>\n",
       "      <th>cik</th>\n",
       "      <th>ticker</th>\n",
       "      <th>name</th>\n",
       "      <th>sic</th>\n",
       "      <th>exchange</th>\n",
       "      <th>irs</th>\n",
       "      <th>file</th>\n",
       "    </tr>\n",
       "  </thead>\n",
       "  <tbody>\n",
       "    <tr>\n",
       "      <td>0</td>\n",
       "      <td>1099290</td>\n",
       "      <td>AAC</td>\n",
       "      <td>Sinocoking Coal &amp; Coke Chemical Industries Inc</td>\n",
       "      <td>3312</td>\n",
       "      <td>NASDAQ</td>\n",
       "      <td>593404233</td>\n",
       "      <td>https://www.sec.gov/Archives/edgar/data/109929...</td>\n",
       "    </tr>\n",
       "    <tr>\n",
       "      <td>1</td>\n",
       "      <td>6201</td>\n",
       "      <td>AAL</td>\n",
       "      <td>American Airlines Group Inc</td>\n",
       "      <td>4512</td>\n",
       "      <td>NASDAQ</td>\n",
       "      <td>751825172</td>\n",
       "      <td>https://www.sec.gov/Archives/edgar/data/6201/0...</td>\n",
       "    </tr>\n",
       "    <tr>\n",
       "      <td>2</td>\n",
       "      <td>8177</td>\n",
       "      <td>AAME</td>\n",
       "      <td>Atlantic American Corp</td>\n",
       "      <td>6311</td>\n",
       "      <td>NASDAQ</td>\n",
       "      <td>581027114</td>\n",
       "      <td>https://www.sec.gov/Archives/edgar/data/8177/0...</td>\n",
       "    </tr>\n",
       "    <tr>\n",
       "      <td>3</td>\n",
       "      <td>1158114</td>\n",
       "      <td>AAOI</td>\n",
       "      <td>Applied Optoelectronics Inc</td>\n",
       "      <td>3674</td>\n",
       "      <td>NASDAQ</td>\n",
       "      <td>760533927</td>\n",
       "      <td>https://www.sec.gov/Archives/edgar/data/115811...</td>\n",
       "    </tr>\n",
       "    <tr>\n",
       "      <td>4</td>\n",
       "      <td>320193</td>\n",
       "      <td>AAPL</td>\n",
       "      <td>Apple Inc</td>\n",
       "      <td>3571</td>\n",
       "      <td>NASDAQ</td>\n",
       "      <td>942404110</td>\n",
       "      <td>https://www.sec.gov/Archives/edgar/data/320193...</td>\n",
       "    </tr>\n",
       "    <tr>\n",
       "      <td>...</td>\n",
       "      <td>...</td>\n",
       "      <td>...</td>\n",
       "      <td>...</td>\n",
       "      <td>...</td>\n",
       "      <td>...</td>\n",
       "      <td>...</td>\n",
       "      <td>...</td>\n",
       "    </tr>\n",
       "    <tr>\n",
       "      <td>2731</td>\n",
       "      <td>1024628</td>\n",
       "      <td>ZP</td>\n",
       "      <td>Zap</td>\n",
       "      <td>3751</td>\n",
       "      <td>NYSE ARCA</td>\n",
       "      <td>943210624</td>\n",
       "      <td>https://www.sec.gov/Archives/edgar/data/102462...</td>\n",
       "    </tr>\n",
       "    <tr>\n",
       "      <td>2732</td>\n",
       "      <td>805305</td>\n",
       "      <td>ZQK</td>\n",
       "      <td>Quiksilver Inc</td>\n",
       "      <td>2320</td>\n",
       "      <td>NYSE</td>\n",
       "      <td>330199426</td>\n",
       "      <td>https://www.sec.gov/Archives/edgar/data/805305...</td>\n",
       "    </tr>\n",
       "    <tr>\n",
       "      <td>2733</td>\n",
       "      <td>1052257</td>\n",
       "      <td>ZTM</td>\n",
       "      <td>Z Trim Holdings Inc</td>\n",
       "      <td>2040</td>\n",
       "      <td>NYSE</td>\n",
       "      <td>364197173</td>\n",
       "      <td>https://www.sec.gov/Archives/edgar/data/105225...</td>\n",
       "    </tr>\n",
       "    <tr>\n",
       "      <td>2734</td>\n",
       "      <td>1555280</td>\n",
       "      <td>ZTS</td>\n",
       "      <td>Zoetis Inc</td>\n",
       "      <td>2834</td>\n",
       "      <td>NYSE</td>\n",
       "      <td>460696167</td>\n",
       "      <td>https://www.sec.gov/Archives/edgar/data/155528...</td>\n",
       "    </tr>\n",
       "    <tr>\n",
       "      <td>2735</td>\n",
       "      <td>748015</td>\n",
       "      <td>ZZ</td>\n",
       "      <td>Sealy Corp</td>\n",
       "      <td>2510</td>\n",
       "      <td>NYSE</td>\n",
       "      <td>363284147</td>\n",
       "      <td>https://www.sec.gov/Archives/edgar/data/748015...</td>\n",
       "    </tr>\n",
       "  </tbody>\n",
       "</table>\n",
       "<p>7066 rows × 7 columns</p>\n",
       "</div>"
      ],
      "text/plain": [
       "          cik ticker                                            name   sic  \\\n",
       "0     1099290    AAC  Sinocoking Coal & Coke Chemical Industries Inc  3312   \n",
       "1        6201    AAL                     American Airlines Group Inc  4512   \n",
       "2        8177   AAME                          Atlantic American Corp  6311   \n",
       "3     1158114   AAOI                     Applied Optoelectronics Inc  3674   \n",
       "4      320193   AAPL                                       Apple Inc  3571   \n",
       "...       ...    ...                                             ...   ...   \n",
       "2731  1024628     ZP                                             Zap  3751   \n",
       "2732   805305    ZQK                                  Quiksilver Inc  2320   \n",
       "2733  1052257    ZTM                             Z Trim Holdings Inc  2040   \n",
       "2734  1555280    ZTS                                      Zoetis Inc  2834   \n",
       "2735   748015     ZZ                                      Sealy Corp  2510   \n",
       "\n",
       "       exchange        irs                                               file  \n",
       "0        NASDAQ  593404233  https://www.sec.gov/Archives/edgar/data/109929...  \n",
       "1        NASDAQ  751825172  https://www.sec.gov/Archives/edgar/data/6201/0...  \n",
       "2        NASDAQ  581027114  https://www.sec.gov/Archives/edgar/data/8177/0...  \n",
       "3        NASDAQ  760533927  https://www.sec.gov/Archives/edgar/data/115811...  \n",
       "4        NASDAQ  942404110  https://www.sec.gov/Archives/edgar/data/320193...  \n",
       "...         ...        ...                                                ...  \n",
       "2731  NYSE ARCA  943210624  https://www.sec.gov/Archives/edgar/data/102462...  \n",
       "2732       NYSE  330199426  https://www.sec.gov/Archives/edgar/data/805305...  \n",
       "2733       NYSE  364197173  https://www.sec.gov/Archives/edgar/data/105225...  \n",
       "2734       NYSE  460696167  https://www.sec.gov/Archives/edgar/data/155528...  \n",
       "2735       NYSE  363284147  https://www.sec.gov/Archives/edgar/data/748015...  \n",
       "\n",
       "[7066 rows x 7 columns]"
      ]
     },
     "execution_count": 50,
     "metadata": {},
     "output_type": "execute_result"
    }
   ],
   "source": [
    "df"
   ]
  },
  {
   "cell_type": "code",
   "execution_count": 49,
   "metadata": {},
   "outputs": [],
   "source": [
    "df.to_csv('output.csv')"
   ]
  },
  {
   "cell_type": "markdown",
   "metadata": {
    "slideshow": {
     "slide_type": "fragment"
    }
   },
   "source": [
    "---\n",
    "#### *Learn more about BeautifulSoup at [dataquest.io](https://www.dataquest.io/blog/web-scraping-beautifulsoup/ ) and [BeautifulSoup official documentation](https://www.crummy.com/software/BeautifulSoup/bs4/doc/), the implementation is inspired from [scrapsfromtheloft.com](scrapsfromtheloft.com)*"
   ]
  }
 ],
 "metadata": {
  "kernelspec": {
   "display_name": "Python 3",
   "language": "python",
   "name": "python3"
  },
  "language_info": {
   "codemirror_mode": {
    "name": "ipython",
    "version": 3
   },
   "file_extension": ".py",
   "mimetype": "text/x-python",
   "name": "python",
   "nbconvert_exporter": "python",
   "pygments_lexer": "ipython3",
   "version": "3.7.4"
  },
  "nteract": {
   "version": "0.15.0"
  },
  "toc": {
   "nav_menu": {},
   "number_sections": true,
   "sideBar": true,
   "skip_h1_title": false,
   "toc_cell": false,
   "toc_position": {},
   "toc_section_display": "block",
   "toc_window_display": false
  },
  "varInspector": {
   "cols": {
    "lenName": 16,
    "lenType": 16,
    "lenVar": 40
   },
   "kernels_config": {
    "python": {
     "delete_cmd_postfix": "",
     "delete_cmd_prefix": "del ",
     "library": "var_list.py",
     "varRefreshCmd": "print(var_dic_list())"
    },
    "r": {
     "delete_cmd_postfix": ") ",
     "delete_cmd_prefix": "rm(",
     "library": "var_list.r",
     "varRefreshCmd": "cat(var_dic_list()) "
    }
   },
   "types_to_exclude": [
    "module",
    "function",
    "builtin_function_or_method",
    "instance",
    "_Feature"
   ],
   "window_display": false
  }
 },
 "nbformat": 4,
 "nbformat_minor": 4
}
