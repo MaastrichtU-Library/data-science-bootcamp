{
 "cells": [
  {
   "cell_type": "markdown",
   "metadata": {
    "slideshow": {
     "slide_type": "slide"
    }
   },
   "source": [
    "#### PGGM Data Science Bootcamp 2020\n",
    "*Notebook by [Pedro V Hernandez Serrano](https://github.com/pedrohserrano)*"
   ]
  },
  {
   "cell_type": "markdown",
   "metadata": {},
   "source": [
    "---\n",
    "![](../img/image_3.png)"
   ]
  },
  {
   "cell_type": "markdown",
   "metadata": {},
   "source": [
    "# 3. Data Wrangling with Pandas\n",
    "* [3.1. Pandas Functions](#3.1)\n",
    "* [3.2. Data Transformations](#3.2)\n",
    "\n",
    "---"
   ]
  },
  {
   "cell_type": "markdown",
   "metadata": {
    "colab_type": "text",
    "id": "cWBtBMlJEjpD",
    "slideshow": {
     "slide_type": "fragment"
    }
   },
   "source": [
    "**[Pandas](http://pandas.pydata.org)** is a Python library that provides extensive means for data analysis. Data scientists often work with data stored in table formats like `.csv`, `.tsv`, or `.xlsx`. Pandas makes it very convenient to load, process, and analyze such tabular data using SQL-like queries. In conjunction with `Matplotlib` and `Seaborn`, `Pandas` provides a wide range of opportunities for visual analysis of tabular data. \n",
    "\n",
    "The main data structures in `Pandas` are implemented with **Series** and **DataFrame** classes. The former is a one-dimensional indexed array of some fixed data type. The latter is a two-dimensional data structure - a table - where each column contains data of the same type. You can see it as a dictionary of `Series` instances. `DataFrames` are great for representing real data: rows correspond to instances (examples, observations, etc.), and columns correspond to features of these instances."
   ]
  },
  {
   "cell_type": "markdown",
   "metadata": {
    "slideshow": {
     "slide_type": "slide"
    }
   },
   "source": [
    "# Book \n",
    "# http://bit.ly/2RJCXx3"
   ]
  },
  {
   "cell_type": "markdown",
   "metadata": {
    "slideshow": {
     "slide_type": "subslide"
    }
   },
   "source": [
    "![](../img/books.png)"
   ]
  },
  {
   "cell_type": "markdown",
   "metadata": {},
   "source": [
    "---\n",
    "### 3.1. Pandas Functions\n",
    "<a id=\"3.1\">"
   ]
  },
  {
   "cell_type": "code",
   "execution_count": 1,
   "metadata": {
    "slideshow": {
     "slide_type": "fragment"
    }
   },
   "outputs": [],
   "source": [
    "import pandas as pd"
   ]
  },
  {
   "cell_type": "markdown",
   "metadata": {
    "colab_type": "text",
    "id": "5LoG4cbMFjoo",
    "slideshow": {
     "slide_type": "fragment"
    }
   },
   "source": [
    "We’ll demonstrate the main methods in action by analyzing a sample dataset provided by PGGM. Let’s read the data (using `read_csv`), and take a look at the first 5 lines using the `head` method:"
   ]
  },
  {
   "cell_type": "code",
   "execution_count": 3,
   "metadata": {
    "slideshow": {
     "slide_type": "fragment"
    }
   },
   "outputs": [],
   "source": [
    "data = pd.read_csv('pggm_dataset.csv')"
   ]
  },
  {
   "cell_type": "markdown",
   "metadata": {
    "slideshow": {
     "slide_type": "slide"
    }
   },
   "source": [
    "** Shape of the data **"
   ]
  },
  {
   "cell_type": "code",
   "execution_count": 4,
   "metadata": {
    "slideshow": {
     "slide_type": "fragment"
    }
   },
   "outputs": [
    {
     "data": {
      "text/html": [
       "<div>\n",
       "<style scoped>\n",
       "    .dataframe tbody tr th:only-of-type {\n",
       "        vertical-align: middle;\n",
       "    }\n",
       "\n",
       "    .dataframe tbody tr th {\n",
       "        vertical-align: top;\n",
       "    }\n",
       "\n",
       "    .dataframe thead th {\n",
       "        text-align: right;\n",
       "    }\n",
       "</style>\n",
       "<table border=\"1\" class=\"dataframe\">\n",
       "  <thead>\n",
       "    <tr style=\"text-align: right;\">\n",
       "      <th></th>\n",
       "      <th>Identifier</th>\n",
       "      <th>Name</th>\n",
       "      <th>Period</th>\n",
       "      <th>Period_YYYYMMDD</th>\n",
       "      <th>Ticker</th>\n",
       "      <th>Universe_Returns_F1W</th>\n",
       "      <th>Universe_Returns_F4W</th>\n",
       "      <th>Universe_Returns_F12W</th>\n",
       "      <th>Weight</th>\n",
       "      <th>GICS_Sector</th>\n",
       "      <th>GICS_Ind_Grp</th>\n",
       "      <th>Market_Cap_USD</th>\n",
       "      <th>Price_USD</th>\n",
       "      <th>NTM_EP</th>\n",
       "      <th>LTM_ROA</th>\n",
       "      <th>BP</th>\n",
       "      <th>LTM_EP</th>\n",
       "      <th>5Y_Sales_Growth</th>\n",
       "    </tr>\n",
       "  </thead>\n",
       "  <tbody>\n",
       "    <tr>\n",
       "      <th>0</th>\n",
       "      <td>17290810</td>\n",
       "      <td>Cintas Corporation</td>\n",
       "      <td>12/31/2014</td>\n",
       "      <td>20141231</td>\n",
       "      <td>CTAS-US</td>\n",
       "      <td>-2.517855</td>\n",
       "      <td>-0.121111</td>\n",
       "      <td>4.156041</td>\n",
       "      <td>0.000402</td>\n",
       "      <td>Industrials</td>\n",
       "      <td>Commercial &amp; Professional Services</td>\n",
       "      <td>7761.120</td>\n",
       "      <td>78.44</td>\n",
       "      <td>0.044387</td>\n",
       "      <td>9.089989</td>\n",
       "      <td>0.246962</td>\n",
       "      <td>0.042708</td>\n",
       "      <td>4.718765</td>\n",
       "    </tr>\n",
       "    <tr>\n",
       "      <th>1</th>\n",
       "      <td>80589M10</td>\n",
       "      <td>SCANA Corporation</td>\n",
       "      <td>12/31/2014</td>\n",
       "      <td>20141231</td>\n",
       "      <td>SCG-US</td>\n",
       "      <td>2.036428</td>\n",
       "      <td>6.307948</td>\n",
       "      <td>-8.426744</td>\n",
       "      <td>0.000422</td>\n",
       "      <td>Utilities</td>\n",
       "      <td>Utilities</td>\n",
       "      <td>8151.001</td>\n",
       "      <td>60.40</td>\n",
       "      <td>0.061397</td>\n",
       "      <td>3.472852</td>\n",
       "      <td>0.572871</td>\n",
       "      <td>0.062748</td>\n",
       "      <td>-0.949881</td>\n",
       "    </tr>\n",
       "    <tr>\n",
       "      <th>2</th>\n",
       "      <td>50241310</td>\n",
       "      <td>L-3 Communications Holdings Inc.</td>\n",
       "      <td>12/31/2014</td>\n",
       "      <td>20141231</td>\n",
       "      <td>LLL-US</td>\n",
       "      <td>-0.396162</td>\n",
       "      <td>-1.283580</td>\n",
       "      <td>-0.753021</td>\n",
       "      <td>0.000563</td>\n",
       "      <td>Industrials</td>\n",
       "      <td>Capital Goods</td>\n",
       "      <td>10883.341</td>\n",
       "      <td>126.21</td>\n",
       "      <td>0.060554</td>\n",
       "      <td>4.744629</td>\n",
       "      <td>0.570099</td>\n",
       "      <td>0.059821</td>\n",
       "      <td>-4.316938</td>\n",
       "    </tr>\n",
       "    <tr>\n",
       "      <th>3</th>\n",
       "      <td>91301710</td>\n",
       "      <td>United Technologies Corporation</td>\n",
       "      <td>12/31/2014</td>\n",
       "      <td>20141231</td>\n",
       "      <td>UTX-US</td>\n",
       "      <td>-1.973909</td>\n",
       "      <td>1.669562</td>\n",
       "      <td>1.815629</td>\n",
       "      <td>0.005174</td>\n",
       "      <td>Industrials</td>\n",
       "      <td>Capital Goods</td>\n",
       "      <td>99942.990</td>\n",
       "      <td>115.00</td>\n",
       "      <td>0.062889</td>\n",
       "      <td>6.805052</td>\n",
       "      <td>0.325584</td>\n",
       "      <td>0.059088</td>\n",
       "      <td>3.083364</td>\n",
       "    </tr>\n",
       "    <tr>\n",
       "      <th>4</th>\n",
       "      <td>92939U10</td>\n",
       "      <td>Wisconsin Energy Corporation</td>\n",
       "      <td>12/31/2014</td>\n",
       "      <td>20141231</td>\n",
       "      <td>WEC-US</td>\n",
       "      <td>1.118696</td>\n",
       "      <td>7.679176</td>\n",
       "      <td>-6.160975</td>\n",
       "      <td>0.000616</td>\n",
       "      <td>Utilities</td>\n",
       "      <td>Utilities</td>\n",
       "      <td>11893.872</td>\n",
       "      <td>52.74</td>\n",
       "      <td>0.051359</td>\n",
       "      <td>4.201019</td>\n",
       "      <td>0.369798</td>\n",
       "      <td>0.050815</td>\n",
       "      <td>1.421392</td>\n",
       "    </tr>\n",
       "  </tbody>\n",
       "</table>\n",
       "</div>"
      ],
      "text/plain": [
       "  Identifier                              Name      Period  Period_YYYYMMDD  \\\n",
       "0   17290810                Cintas Corporation  12/31/2014         20141231   \n",
       "1   80589M10                 SCANA Corporation  12/31/2014         20141231   \n",
       "2   50241310  L-3 Communications Holdings Inc.  12/31/2014         20141231   \n",
       "3   91301710   United Technologies Corporation  12/31/2014         20141231   \n",
       "4   92939U10      Wisconsin Energy Corporation  12/31/2014         20141231   \n",
       "\n",
       "    Ticker  Universe_Returns_F1W  Universe_Returns_F4W  Universe_Returns_F12W  \\\n",
       "0  CTAS-US             -2.517855             -0.121111               4.156041   \n",
       "1   SCG-US              2.036428              6.307948              -8.426744   \n",
       "2   LLL-US             -0.396162             -1.283580              -0.753021   \n",
       "3   UTX-US             -1.973909              1.669562               1.815629   \n",
       "4   WEC-US              1.118696              7.679176              -6.160975   \n",
       "\n",
       "     Weight  GICS_Sector                        GICS_Ind_Grp  Market_Cap_USD  \\\n",
       "0  0.000402  Industrials  Commercial & Professional Services        7761.120   \n",
       "1  0.000422    Utilities                           Utilities        8151.001   \n",
       "2  0.000563  Industrials                       Capital Goods       10883.341   \n",
       "3  0.005174  Industrials                       Capital Goods       99942.990   \n",
       "4  0.000616    Utilities                           Utilities       11893.872   \n",
       "\n",
       "   Price_USD    NTM_EP   LTM_ROA        BP    LTM_EP  5Y_Sales_Growth  \n",
       "0      78.44  0.044387  9.089989  0.246962  0.042708         4.718765  \n",
       "1      60.40  0.061397  3.472852  0.572871  0.062748        -0.949881  \n",
       "2     126.21  0.060554  4.744629  0.570099  0.059821        -4.316938  \n",
       "3     115.00  0.062889  6.805052  0.325584  0.059088         3.083364  \n",
       "4      52.74  0.051359  4.201019  0.369798  0.050815         1.421392  "
      ]
     },
     "execution_count": 4,
     "metadata": {},
     "output_type": "execute_result"
    }
   ],
   "source": [
    "data.head()"
   ]
  },
  {
   "cell_type": "code",
   "execution_count": 5,
   "metadata": {
    "slideshow": {
     "slide_type": "fragment"
    }
   },
   "outputs": [
    {
     "data": {
      "text/html": [
       "<div>\n",
       "<style scoped>\n",
       "    .dataframe tbody tr th:only-of-type {\n",
       "        vertical-align: middle;\n",
       "    }\n",
       "\n",
       "    .dataframe tbody tr th {\n",
       "        vertical-align: top;\n",
       "    }\n",
       "\n",
       "    .dataframe thead th {\n",
       "        text-align: right;\n",
       "    }\n",
       "</style>\n",
       "<table border=\"1\" class=\"dataframe\">\n",
       "  <thead>\n",
       "    <tr style=\"text-align: right;\">\n",
       "      <th></th>\n",
       "      <th>Period_YYYYMMDD</th>\n",
       "      <th>Universe_Returns_F1W</th>\n",
       "      <th>Universe_Returns_F4W</th>\n",
       "      <th>Universe_Returns_F12W</th>\n",
       "      <th>Weight</th>\n",
       "      <th>Market_Cap_USD</th>\n",
       "      <th>Price_USD</th>\n",
       "      <th>NTM_EP</th>\n",
       "      <th>LTM_ROA</th>\n",
       "      <th>BP</th>\n",
       "      <th>LTM_EP</th>\n",
       "      <th>5Y_Sales_Growth</th>\n",
       "    </tr>\n",
       "  </thead>\n",
       "  <tbody>\n",
       "    <tr>\n",
       "      <th>count</th>\n",
       "      <td>3.830400e+04</td>\n",
       "      <td>38300.000000</td>\n",
       "      <td>38296.000000</td>\n",
       "      <td>38268.000000</td>\n",
       "      <td>38304.000000</td>\n",
       "      <td>3.830400e+04</td>\n",
       "      <td>38304.000000</td>\n",
       "      <td>38246.000000</td>\n",
       "      <td>38245.000000</td>\n",
       "      <td>38288.000000</td>\n",
       "      <td>38215.000000</td>\n",
       "      <td>38197.000000</td>\n",
       "    </tr>\n",
       "    <tr>\n",
       "      <th>mean</th>\n",
       "      <td>2.017809e+07</td>\n",
       "      <td>0.037778</td>\n",
       "      <td>-0.025070</td>\n",
       "      <td>-0.534635</td>\n",
       "      <td>0.001593</td>\n",
       "      <td>3.828089e+04</td>\n",
       "      <td>111.173980</td>\n",
       "      <td>0.060218</td>\n",
       "      <td>5.842138</td>\n",
       "      <td>0.365269</td>\n",
       "      <td>0.039273</td>\n",
       "      <td>16.717226</td>\n",
       "    </tr>\n",
       "    <tr>\n",
       "      <th>std</th>\n",
       "      <td>7.340507e+03</td>\n",
       "      <td>3.982946</td>\n",
       "      <td>7.509304</td>\n",
       "      <td>11.969478</td>\n",
       "      <td>0.003048</td>\n",
       "      <td>7.374643e+04</td>\n",
       "      <td>178.296736</td>\n",
       "      <td>0.031881</td>\n",
       "      <td>7.245260</td>\n",
       "      <td>0.308932</td>\n",
       "      <td>0.056394</td>\n",
       "      <td>312.939623</td>\n",
       "    </tr>\n",
       "    <tr>\n",
       "      <th>min</th>\n",
       "      <td>2.014123e+07</td>\n",
       "      <td>-47.561474</td>\n",
       "      <td>-67.705421</td>\n",
       "      <td>-68.235580</td>\n",
       "      <td>0.000069</td>\n",
       "      <td>1.432547e+03</td>\n",
       "      <td>3.410000</td>\n",
       "      <td>-0.346678</td>\n",
       "      <td>-80.447959</td>\n",
       "      <td>-0.896646</td>\n",
       "      <td>-1.689621</td>\n",
       "      <td>-100.000000</td>\n",
       "    </tr>\n",
       "    <tr>\n",
       "      <th>25%</th>\n",
       "      <td>2.018021e+07</td>\n",
       "      <td>-1.843239</td>\n",
       "      <td>-4.256311</td>\n",
       "      <td>-7.583998</td>\n",
       "      <td>0.000403</td>\n",
       "      <td>9.659986e+03</td>\n",
       "      <td>45.170000</td>\n",
       "      <td>0.042177</td>\n",
       "      <td>1.739803</td>\n",
       "      <td>0.151267</td>\n",
       "      <td>0.020475</td>\n",
       "      <td>0.497268</td>\n",
       "    </tr>\n",
       "    <tr>\n",
       "      <th>50%</th>\n",
       "      <td>2.018053e+07</td>\n",
       "      <td>0.277680</td>\n",
       "      <td>0.329203</td>\n",
       "      <td>-0.362670</td>\n",
       "      <td>0.000652</td>\n",
       "      <td>1.568286e+04</td>\n",
       "      <td>73.820000</td>\n",
       "      <td>0.057110</td>\n",
       "      <td>4.923546</td>\n",
       "      <td>0.292937</td>\n",
       "      <td>0.040028</td>\n",
       "      <td>5.253313</td>\n",
       "    </tr>\n",
       "    <tr>\n",
       "      <th>75%</th>\n",
       "      <td>2.018091e+07</td>\n",
       "      <td>2.159980</td>\n",
       "      <td>4.400995</td>\n",
       "      <td>6.686374</td>\n",
       "      <td>0.001454</td>\n",
       "      <td>3.509461e+04</td>\n",
       "      <td>123.830000</td>\n",
       "      <td>0.076561</td>\n",
       "      <td>9.015668</td>\n",
       "      <td>0.504965</td>\n",
       "      <td>0.059893</td>\n",
       "      <td>11.886979</td>\n",
       "    </tr>\n",
       "    <tr>\n",
       "      <th>max</th>\n",
       "      <td>2.018123e+07</td>\n",
       "      <td>46.864033</td>\n",
       "      <td>63.502525</td>\n",
       "      <td>114.599991</td>\n",
       "      <td>0.044994</td>\n",
       "      <td>1.140656e+06</td>\n",
       "      <td>3646.690000</td>\n",
       "      <td>0.345388</td>\n",
       "      <td>64.735065</td>\n",
       "      <td>3.589774</td>\n",
       "      <td>0.383827</td>\n",
       "      <td>14039.748000</td>\n",
       "    </tr>\n",
       "  </tbody>\n",
       "</table>\n",
       "</div>"
      ],
      "text/plain": [
       "       Period_YYYYMMDD  Universe_Returns_F1W  Universe_Returns_F4W  \\\n",
       "count     3.830400e+04          38300.000000          38296.000000   \n",
       "mean      2.017809e+07              0.037778             -0.025070   \n",
       "std       7.340507e+03              3.982946              7.509304   \n",
       "min       2.014123e+07            -47.561474            -67.705421   \n",
       "25%       2.018021e+07             -1.843239             -4.256311   \n",
       "50%       2.018053e+07              0.277680              0.329203   \n",
       "75%       2.018091e+07              2.159980              4.400995   \n",
       "max       2.018123e+07             46.864033             63.502525   \n",
       "\n",
       "       Universe_Returns_F12W        Weight  Market_Cap_USD     Price_USD  \\\n",
       "count           38268.000000  38304.000000    3.830400e+04  38304.000000   \n",
       "mean               -0.534635      0.001593    3.828089e+04    111.173980   \n",
       "std                11.969478      0.003048    7.374643e+04    178.296736   \n",
       "min               -68.235580      0.000069    1.432547e+03      3.410000   \n",
       "25%                -7.583998      0.000403    9.659986e+03     45.170000   \n",
       "50%                -0.362670      0.000652    1.568286e+04     73.820000   \n",
       "75%                 6.686374      0.001454    3.509461e+04    123.830000   \n",
       "max               114.599991      0.044994    1.140656e+06   3646.690000   \n",
       "\n",
       "             NTM_EP       LTM_ROA            BP        LTM_EP  5Y_Sales_Growth  \n",
       "count  38246.000000  38245.000000  38288.000000  38215.000000     38197.000000  \n",
       "mean       0.060218      5.842138      0.365269      0.039273        16.717226  \n",
       "std        0.031881      7.245260      0.308932      0.056394       312.939623  \n",
       "min       -0.346678    -80.447959     -0.896646     -1.689621      -100.000000  \n",
       "25%        0.042177      1.739803      0.151267      0.020475         0.497268  \n",
       "50%        0.057110      4.923546      0.292937      0.040028         5.253313  \n",
       "75%        0.076561      9.015668      0.504965      0.059893        11.886979  \n",
       "max        0.345388     64.735065      3.589774      0.383827     14039.748000  "
      ]
     },
     "execution_count": 5,
     "metadata": {},
     "output_type": "execute_result"
    }
   ],
   "source": [
    "data.describe()"
   ]
  },
  {
   "cell_type": "code",
   "execution_count": 6,
   "metadata": {
    "slideshow": {
     "slide_type": "fragment"
    }
   },
   "outputs": [
    {
     "data": {
      "text/plain": [
       "Index(['Identifier', 'Name', 'Period', 'Period_YYYYMMDD', 'Ticker',\n",
       "       'Universe_Returns_F1W', 'Universe_Returns_F4W', 'Universe_Returns_F12W',\n",
       "       'Weight', 'GICS_Sector', 'GICS_Ind_Grp', 'Market_Cap_USD', 'Price_USD',\n",
       "       'NTM_EP', 'LTM_ROA', 'BP', 'LTM_EP', '5Y_Sales_Growth'],\n",
       "      dtype='object')"
      ]
     },
     "execution_count": 6,
     "metadata": {},
     "output_type": "execute_result"
    }
   ],
   "source": [
    "data.columns"
   ]
  },
  {
   "cell_type": "code",
   "execution_count": 7,
   "metadata": {
    "slideshow": {
     "slide_type": "fragment"
    }
   },
   "outputs": [
    {
     "name": "stdout",
     "output_type": "stream",
     "text": [
      "<class 'pandas.core.frame.DataFrame'>\n",
      "RangeIndex: 38304 entries, 0 to 38303\n",
      "Data columns (total 18 columns):\n",
      "Identifier               38304 non-null object\n",
      "Name                     38304 non-null object\n",
      "Period                   38304 non-null object\n",
      "Period_YYYYMMDD          38304 non-null int64\n",
      "Ticker                   38304 non-null object\n",
      "Universe_Returns_F1W     38300 non-null float64\n",
      "Universe_Returns_F4W     38296 non-null float64\n",
      "Universe_Returns_F12W    38268 non-null float64\n",
      "Weight                   38304 non-null float64\n",
      "GICS_Sector              38304 non-null object\n",
      "GICS_Ind_Grp             38304 non-null object\n",
      "Market_Cap_USD           38304 non-null float64\n",
      "Price_USD                38304 non-null float64\n",
      "NTM_EP                   38246 non-null float64\n",
      "LTM_ROA                  38245 non-null float64\n",
      "BP                       38288 non-null float64\n",
      "LTM_EP                   38215 non-null float64\n",
      "5Y_Sales_Growth          38197 non-null float64\n",
      "dtypes: float64(11), int64(1), object(6)\n",
      "memory usage: 5.3+ MB\n"
     ]
    }
   ],
   "source": [
    "data.info()"
   ]
  },
  {
   "cell_type": "markdown",
   "metadata": {
    "colab_type": "text",
    "id": "FOyOn3zRIyrt",
    "slideshow": {
     "slide_type": "subslide"
    }
   },
   "source": [
    "In order to see statistics on non-numerical features, one has to explicitly indicate data types of interest in the `include` parameter."
   ]
  },
  {
   "cell_type": "code",
   "execution_count": 8,
   "metadata": {
    "colab": {
     "base_uri": "https://localhost:8080/",
     "height": 173
    },
    "colab_type": "code",
    "id": "iX6LzOwVIz99",
    "outputId": "6e83949f-717f-404d-8157-f8f36f3145f0",
    "slideshow": {
     "slide_type": "subslide"
    }
   },
   "outputs": [
    {
     "data": {
      "text/html": [
       "<div>\n",
       "<style scoped>\n",
       "    .dataframe tbody tr th:only-of-type {\n",
       "        vertical-align: middle;\n",
       "    }\n",
       "\n",
       "    .dataframe tbody tr th {\n",
       "        vertical-align: top;\n",
       "    }\n",
       "\n",
       "    .dataframe thead th {\n",
       "        text-align: right;\n",
       "    }\n",
       "</style>\n",
       "<table border=\"1\" class=\"dataframe\">\n",
       "  <thead>\n",
       "    <tr style=\"text-align: right;\">\n",
       "      <th></th>\n",
       "      <th>Identifier</th>\n",
       "      <th>Name</th>\n",
       "      <th>Period</th>\n",
       "      <th>Ticker</th>\n",
       "      <th>GICS_Sector</th>\n",
       "      <th>GICS_Ind_Grp</th>\n",
       "    </tr>\n",
       "  </thead>\n",
       "  <tbody>\n",
       "    <tr>\n",
       "      <th>count</th>\n",
       "      <td>38304</td>\n",
       "      <td>38304</td>\n",
       "      <td>38304</td>\n",
       "      <td>38304</td>\n",
       "      <td>38304</td>\n",
       "      <td>38304</td>\n",
       "    </tr>\n",
       "    <tr>\n",
       "      <th>unique</th>\n",
       "      <td>781</td>\n",
       "      <td>814</td>\n",
       "      <td>61</td>\n",
       "      <td>781</td>\n",
       "      <td>11</td>\n",
       "      <td>25</td>\n",
       "    </tr>\n",
       "    <tr>\n",
       "      <th>top</th>\n",
       "      <td>21036P10</td>\n",
       "      <td>eBay Inc.</td>\n",
       "      <td>9/30/2015</td>\n",
       "      <td>SLG-US</td>\n",
       "      <td>Information Technology</td>\n",
       "      <td>Software &amp; Services</td>\n",
       "    </tr>\n",
       "    <tr>\n",
       "      <th>freq</th>\n",
       "      <td>61</td>\n",
       "      <td>61</td>\n",
       "      <td>637</td>\n",
       "      <td>61</td>\n",
       "      <td>6117</td>\n",
       "      <td>3507</td>\n",
       "    </tr>\n",
       "  </tbody>\n",
       "</table>\n",
       "</div>"
      ],
      "text/plain": [
       "       Identifier       Name     Period  Ticker             GICS_Sector  \\\n",
       "count       38304      38304      38304   38304                   38304   \n",
       "unique        781        814         61     781                      11   \n",
       "top      21036P10  eBay Inc.  9/30/2015  SLG-US  Information Technology   \n",
       "freq           61         61        637      61                    6117   \n",
       "\n",
       "               GICS_Ind_Grp  \n",
       "count                 38304  \n",
       "unique                   25  \n",
       "top     Software & Services  \n",
       "freq                   3507  "
      ]
     },
     "execution_count": 8,
     "metadata": {},
     "output_type": "execute_result"
    }
   ],
   "source": [
    "data.describe(include=['object'])"
   ]
  },
  {
   "cell_type": "markdown",
   "metadata": {
    "colab_type": "text",
    "id": "LlNmgdfJKb4a",
    "slideshow": {
     "slide_type": "fragment"
    }
   },
   "source": [
    "For categorical (type `object`) and boolean (type `bool`) features we can use the `value_counts` method. Let’s have a look at the distribution of `Sector`:"
   ]
  },
  {
   "cell_type": "markdown",
   "metadata": {
    "colab_type": "text",
    "id": "RbXqg8UFLCoZ",
    "slideshow": {
     "slide_type": "fragment"
    }
   },
   "source": [
    "To calculate fractions, pass `normalize=True` to the `value_counts` function."
   ]
  },
  {
   "cell_type": "code",
   "execution_count": 9,
   "metadata": {
    "colab": {
     "base_uri": "https://localhost:8080/",
     "height": 119
    },
    "colab_type": "code",
    "id": "FRVvbpLuLMwx",
    "outputId": "606ada0d-02ce-4303-a151-fe8e92f1c374",
    "slideshow": {
     "slide_type": "fragment"
    }
   },
   "outputs": [
    {
     "data": {
      "text/plain": [
       "Information Technology    0.159696\n",
       "Consumer Discretionary    0.157764\n",
       "Financials                0.144737\n",
       "Industrials               0.137009\n",
       "Health Care               0.109649\n",
       "Energy                    0.061534\n",
       "Real Estate               0.059106\n",
       "Consumer Staples          0.057357\n",
       "Utilities                 0.051117\n",
       "Materials                 0.048846\n",
       "Communication Services    0.013184\n",
       "Name: GICS_Sector, dtype: float64"
      ]
     },
     "execution_count": 9,
     "metadata": {},
     "output_type": "execute_result"
    }
   ],
   "source": [
    "data['GICS_Sector'].value_counts(normalize=True)"
   ]
  },
  {
   "cell_type": "markdown",
   "metadata": {
    "colab_type": "text",
    "id": "ksUFXzb9NQCJ",
    "slideshow": {
     "slide_type": "slide"
    }
   },
   "source": [
    "### Sorting\n",
    "\n",
    "A DataFrame can be sorted by the value of one of the variables (i.e columns). For example, we can sort by values of a variable (use ascending=False to sort in descending order):"
   ]
  },
  {
   "cell_type": "code",
   "execution_count": 10,
   "metadata": {
    "colab": {
     "base_uri": "https://localhost:8080/",
     "height": 233
    },
    "colab_type": "code",
    "id": "alc3ClcaNX9B",
    "outputId": "f7665f2e-1492-4e8b-8a2c-a1e8d59efea5",
    "slideshow": {
     "slide_type": "fragment"
    }
   },
   "outputs": [
    {
     "data": {
      "text/html": [
       "<div>\n",
       "<style scoped>\n",
       "    .dataframe tbody tr th:only-of-type {\n",
       "        vertical-align: middle;\n",
       "    }\n",
       "\n",
       "    .dataframe tbody tr th {\n",
       "        vertical-align: top;\n",
       "    }\n",
       "\n",
       "    .dataframe thead th {\n",
       "        text-align: right;\n",
       "    }\n",
       "</style>\n",
       "<table border=\"1\" class=\"dataframe\">\n",
       "  <thead>\n",
       "    <tr style=\"text-align: right;\">\n",
       "      <th></th>\n",
       "      <th>Identifier</th>\n",
       "      <th>Name</th>\n",
       "      <th>Period</th>\n",
       "      <th>Period_YYYYMMDD</th>\n",
       "      <th>Ticker</th>\n",
       "      <th>Universe_Returns_F1W</th>\n",
       "      <th>Universe_Returns_F4W</th>\n",
       "      <th>Universe_Returns_F12W</th>\n",
       "      <th>Weight</th>\n",
       "      <th>GICS_Sector</th>\n",
       "      <th>GICS_Ind_Grp</th>\n",
       "      <th>Market_Cap_USD</th>\n",
       "      <th>Price_USD</th>\n",
       "      <th>NTM_EP</th>\n",
       "      <th>LTM_ROA</th>\n",
       "      <th>BP</th>\n",
       "      <th>LTM_EP</th>\n",
       "      <th>5Y_Sales_Growth</th>\n",
       "    </tr>\n",
       "  </thead>\n",
       "  <tbody>\n",
       "    <tr>\n",
       "      <th>7049</th>\n",
       "      <td>62944T10</td>\n",
       "      <td>NVR, Inc.</td>\n",
       "      <td>1/17/2018</td>\n",
       "      <td>20180117</td>\n",
       "      <td>NVR-US</td>\n",
       "      <td>-1.631343</td>\n",
       "      <td>-16.088015</td>\n",
       "      <td>-15.265626</td>\n",
       "      <td>0.000517</td>\n",
       "      <td>Consumer Discretionary</td>\n",
       "      <td>Consumer Durables &amp; Apparel</td>\n",
       "      <td>12969.2300</td>\n",
       "      <td>3646.69</td>\n",
       "      <td>0.051379</td>\n",
       "      <td>19.738139</td>\n",
       "      <td>0.127477</td>\n",
       "      <td>0.038805</td>\n",
       "      <td>15.803665</td>\n",
       "    </tr>\n",
       "    <tr>\n",
       "      <th>7681</th>\n",
       "      <td>62944T10</td>\n",
       "      <td>NVR, Inc.</td>\n",
       "      <td>1/24/2018</td>\n",
       "      <td>20180124</td>\n",
       "      <td>NVR-US</td>\n",
       "      <td>-11.402488</td>\n",
       "      <td>-11.211806</td>\n",
       "      <td>-15.226358</td>\n",
       "      <td>0.000502</td>\n",
       "      <td>Consumer Discretionary</td>\n",
       "      <td>Consumer Durables &amp; Apparel</td>\n",
       "      <td>12757.6580</td>\n",
       "      <td>3587.20</td>\n",
       "      <td>0.053347</td>\n",
       "      <td>19.738139</td>\n",
       "      <td>0.127477</td>\n",
       "      <td>0.038805</td>\n",
       "      <td>15.803665</td>\n",
       "    </tr>\n",
       "    <tr>\n",
       "      <th>5785</th>\n",
       "      <td>62944T10</td>\n",
       "      <td>NVR, Inc.</td>\n",
       "      <td>1-3-2018</td>\n",
       "      <td>20180103</td>\n",
       "      <td>NVR-US</td>\n",
       "      <td>-1.318616</td>\n",
       "      <td>-10.796475</td>\n",
       "      <td>-16.417854</td>\n",
       "      <td>0.000522</td>\n",
       "      <td>Consumer Discretionary</td>\n",
       "      <td>Consumer Durables &amp; Apparel</td>\n",
       "      <td>12670.9870</td>\n",
       "      <td>3562.83</td>\n",
       "      <td>0.048533</td>\n",
       "      <td>19.738139</td>\n",
       "      <td>0.127477</td>\n",
       "      <td>0.038805</td>\n",
       "      <td>15.803665</td>\n",
       "    </tr>\n",
       "    <tr>\n",
       "      <th>6417</th>\n",
       "      <td>62944T10</td>\n",
       "      <td>NVR, Inc.</td>\n",
       "      <td>1-10-2018</td>\n",
       "      <td>20180110</td>\n",
       "      <td>NVR-US</td>\n",
       "      <td>3.721428</td>\n",
       "      <td>-15.135461</td>\n",
       "      <td>-11.072147</td>\n",
       "      <td>0.000508</td>\n",
       "      <td>Consumer Discretionary</td>\n",
       "      <td>Consumer Durables &amp; Apparel</td>\n",
       "      <td>12503.9060</td>\n",
       "      <td>3515.85</td>\n",
       "      <td>0.052303</td>\n",
       "      <td>19.738139</td>\n",
       "      <td>0.127477</td>\n",
       "      <td>0.038805</td>\n",
       "      <td>15.803665</td>\n",
       "    </tr>\n",
       "    <tr>\n",
       "      <th>5152</th>\n",
       "      <td>62944T10</td>\n",
       "      <td>NVR, Inc.</td>\n",
       "      <td>12/27/2017</td>\n",
       "      <td>20171227</td>\n",
       "      <td>NVR-US</td>\n",
       "      <td>2.912486</td>\n",
       "      <td>3.616405</td>\n",
       "      <td>-10.324955</td>\n",
       "      <td>0.000512</td>\n",
       "      <td>Consumer Discretionary</td>\n",
       "      <td>Consumer Durables &amp; Apparel</td>\n",
       "      <td>12312.3920</td>\n",
       "      <td>3462.00</td>\n",
       "      <td>0.049253</td>\n",
       "      <td>19.738139</td>\n",
       "      <td>0.127150</td>\n",
       "      <td>0.039176</td>\n",
       "      <td>15.803665</td>\n",
       "    </tr>\n",
       "    <tr>\n",
       "      <th>4519</th>\n",
       "      <td>62944T10</td>\n",
       "      <td>NVR, Inc.</td>\n",
       "      <td>12/20/2017</td>\n",
       "      <td>20171220</td>\n",
       "      <td>NVR-US</td>\n",
       "      <td>1.228070</td>\n",
       "      <td>6.628358</td>\n",
       "      <td>-10.680115</td>\n",
       "      <td>0.000507</td>\n",
       "      <td>Consumer Discretionary</td>\n",
       "      <td>Consumer Durables &amp; Apparel</td>\n",
       "      <td>12163.0210</td>\n",
       "      <td>3420.00</td>\n",
       "      <td>0.049719</td>\n",
       "      <td>19.738139</td>\n",
       "      <td>0.127150</td>\n",
       "      <td>0.039176</td>\n",
       "      <td>15.803665</td>\n",
       "    </tr>\n",
       "    <tr>\n",
       "      <th>3253</th>\n",
       "      <td>62944T10</td>\n",
       "      <td>NVR, Inc.</td>\n",
       "      <td>12-6-2017</td>\n",
       "      <td>20171206</td>\n",
       "      <td>NVR-US</td>\n",
       "      <td>-0.113821</td>\n",
       "      <td>5.601633</td>\n",
       "      <td>-15.728969</td>\n",
       "      <td>0.000510</td>\n",
       "      <td>Consumer Discretionary</td>\n",
       "      <td>Consumer Durables &amp; Apparel</td>\n",
       "      <td>11998.8560</td>\n",
       "      <td>3373.84</td>\n",
       "      <td>0.050118</td>\n",
       "      <td>19.738139</td>\n",
       "      <td>0.127150</td>\n",
       "      <td>0.039176</td>\n",
       "      <td>15.803665</td>\n",
       "    </tr>\n",
       "    <tr>\n",
       "      <th>3886</th>\n",
       "      <td>62944T10</td>\n",
       "      <td>NVR, Inc.</td>\n",
       "      <td>12/13/2017</td>\n",
       "      <td>20171213</td>\n",
       "      <td>NVR-US</td>\n",
       "      <td>1.483679</td>\n",
       "      <td>4.327893</td>\n",
       "      <td>-11.305046</td>\n",
       "      <td>0.000503</td>\n",
       "      <td>Consumer Discretionary</td>\n",
       "      <td>Consumer Durables &amp; Apparel</td>\n",
       "      <td>11985.1990</td>\n",
       "      <td>3370.00</td>\n",
       "      <td>0.050316</td>\n",
       "      <td>19.738139</td>\n",
       "      <td>0.127150</td>\n",
       "      <td>0.039176</td>\n",
       "      <td>15.803665</td>\n",
       "    </tr>\n",
       "    <tr>\n",
       "      <th>10209</th>\n",
       "      <td>62944T10</td>\n",
       "      <td>NVR, Inc.</td>\n",
       "      <td>2/21/2018</td>\n",
       "      <td>20180221</td>\n",
       "      <td>NVR-US</td>\n",
       "      <td>-10.732782</td>\n",
       "      <td>-2.526206</td>\n",
       "      <td>-8.414734</td>\n",
       "      <td>0.000468</td>\n",
       "      <td>Consumer Discretionary</td>\n",
       "      <td>Consumer Durables &amp; Apparel</td>\n",
       "      <td>11327.2940</td>\n",
       "      <td>3185.01</td>\n",
       "      <td>0.060763</td>\n",
       "      <td>19.083963</td>\n",
       "      <td>0.136863</td>\n",
       "      <td>0.040028</td>\n",
       "      <td>15.803665</td>\n",
       "    </tr>\n",
       "    <tr>\n",
       "      <th>8313</th>\n",
       "      <td>62944T10</td>\n",
       "      <td>NVR, Inc.</td>\n",
       "      <td>1/31/2018</td>\n",
       "      <td>20180131</td>\n",
       "      <td>NVR-US</td>\n",
       "      <td>-6.118613</td>\n",
       "      <td>-10.540658</td>\n",
       "      <td>-2.421832</td>\n",
       "      <td>0.000447</td>\n",
       "      <td>Consumer Discretionary</td>\n",
       "      <td>Consumer Durables &amp; Apparel</td>\n",
       "      <td>11302.9680</td>\n",
       "      <td>3178.17</td>\n",
       "      <td>0.060424</td>\n",
       "      <td>19.738139</td>\n",
       "      <td>0.140715</td>\n",
       "      <td>0.042834</td>\n",
       "      <td>15.803665</td>\n",
       "    </tr>\n",
       "    <tr>\n",
       "      <th>23438</th>\n",
       "      <td>62944T10</td>\n",
       "      <td>NVR, Inc.</td>\n",
       "      <td>7/18/2018</td>\n",
       "      <td>20180718</td>\n",
       "      <td>NVR-US</td>\n",
       "      <td>-10.854542</td>\n",
       "      <td>-14.694220</td>\n",
       "      <td>-24.947845</td>\n",
       "      <td>0.000436</td>\n",
       "      <td>Consumer Discretionary</td>\n",
       "      <td>Consumer Durables &amp; Apparel</td>\n",
       "      <td>10952.4120</td>\n",
       "      <td>3130.21</td>\n",
       "      <td>0.067910</td>\n",
       "      <td>21.496345</td>\n",
       "      <td>0.140264</td>\n",
       "      <td>0.047618</td>\n",
       "      <td>13.307220</td>\n",
       "    </tr>\n",
       "    <tr>\n",
       "      <th>13997</th>\n",
       "      <td>62944T10</td>\n",
       "      <td>NVR, Inc.</td>\n",
       "      <td>4-4-2018</td>\n",
       "      <td>20180404</td>\n",
       "      <td>NVR-US</td>\n",
       "      <td>-1.169652</td>\n",
       "      <td>-1.066667</td>\n",
       "      <td>-5.937820</td>\n",
       "      <td>0.000470</td>\n",
       "      <td>Consumer Discretionary</td>\n",
       "      <td>Consumer Durables &amp; Apparel</td>\n",
       "      <td>11108.2810</td>\n",
       "      <td>3126.57</td>\n",
       "      <td>0.062949</td>\n",
       "      <td>19.083963</td>\n",
       "      <td>0.158450</td>\n",
       "      <td>0.045434</td>\n",
       "      <td>13.307220</td>\n",
       "    </tr>\n",
       "    <tr>\n",
       "      <th>19675</th>\n",
       "      <td>62944T10</td>\n",
       "      <td>NVR, Inc.</td>\n",
       "      <td>6-6-2018</td>\n",
       "      <td>20180606</td>\n",
       "      <td>NVR-US</td>\n",
       "      <td>-0.212795</td>\n",
       "      <td>-2.491158</td>\n",
       "      <td>-14.543229</td>\n",
       "      <td>0.000438</td>\n",
       "      <td>Consumer Discretionary</td>\n",
       "      <td>Consumer Durables &amp; Apparel</td>\n",
       "      <td>10885.1970</td>\n",
       "      <td>3111.00</td>\n",
       "      <td>0.067463</td>\n",
       "      <td>21.496345</td>\n",
       "      <td>0.135539</td>\n",
       "      <td>0.047297</td>\n",
       "      <td>13.307220</td>\n",
       "    </tr>\n",
       "    <tr>\n",
       "      <th>12735</th>\n",
       "      <td>62944T10</td>\n",
       "      <td>NVR, Inc.</td>\n",
       "      <td>3/21/2018</td>\n",
       "      <td>20180321</td>\n",
       "      <td>NVR-US</td>\n",
       "      <td>-4.079824</td>\n",
       "      <td>-2.046996</td>\n",
       "      <td>-0.005484</td>\n",
       "      <td>0.000455</td>\n",
       "      <td>Consumer Discretionary</td>\n",
       "      <td>Consumer Durables &amp; Apparel</td>\n",
       "      <td>11030.0470</td>\n",
       "      <td>3104.55</td>\n",
       "      <td>0.063030</td>\n",
       "      <td>19.083963</td>\n",
       "      <td>0.152989</td>\n",
       "      <td>0.044744</td>\n",
       "      <td>15.803665</td>\n",
       "    </tr>\n",
       "    <tr>\n",
       "      <th>20303</th>\n",
       "      <td>62944T10</td>\n",
       "      <td>NVR, Inc.</td>\n",
       "      <td>6/13/2018</td>\n",
       "      <td>20180613</td>\n",
       "      <td>NVR-US</td>\n",
       "      <td>-0.143665</td>\n",
       "      <td>-1.312661</td>\n",
       "      <td>-14.447647</td>\n",
       "      <td>0.000438</td>\n",
       "      <td>Consumer Discretionary</td>\n",
       "      <td>Consumer Durables &amp; Apparel</td>\n",
       "      <td>10862.0340</td>\n",
       "      <td>3104.38</td>\n",
       "      <td>0.067670</td>\n",
       "      <td>21.496345</td>\n",
       "      <td>0.135539</td>\n",
       "      <td>0.047297</td>\n",
       "      <td>13.307220</td>\n",
       "    </tr>\n",
       "    <tr>\n",
       "      <th>15890</th>\n",
       "      <td>62944T10</td>\n",
       "      <td>NVR, Inc.</td>\n",
       "      <td>4/25/2018</td>\n",
       "      <td>20180425</td>\n",
       "      <td>NVR-US</td>\n",
       "      <td>-0.257319</td>\n",
       "      <td>-3.520572</td>\n",
       "      <td>0.935447</td>\n",
       "      <td>0.000467</td>\n",
       "      <td>Consumer Discretionary</td>\n",
       "      <td>Consumer Durables &amp; Apparel</td>\n",
       "      <td>11018.1455</td>\n",
       "      <td>3101.20</td>\n",
       "      <td>0.066680</td>\n",
       "      <td>19.083963</td>\n",
       "      <td>0.158450</td>\n",
       "      <td>0.045434</td>\n",
       "      <td>13.307220</td>\n",
       "    </tr>\n",
       "    <tr>\n",
       "      <th>20931</th>\n",
       "      <td>62944T10</td>\n",
       "      <td>NVR, Inc.</td>\n",
       "      <td>6/20/2018</td>\n",
       "      <td>20180620</td>\n",
       "      <td>NVR-US</td>\n",
       "      <td>-5.129165</td>\n",
       "      <td>0.977123</td>\n",
       "      <td>-14.278430</td>\n",
       "      <td>0.000439</td>\n",
       "      <td>Consumer Discretionary</td>\n",
       "      <td>Consumer Durables &amp; Apparel</td>\n",
       "      <td>10846.4290</td>\n",
       "      <td>3099.92</td>\n",
       "      <td>0.067929</td>\n",
       "      <td>21.496345</td>\n",
       "      <td>0.135539</td>\n",
       "      <td>0.047297</td>\n",
       "      <td>13.307220</td>\n",
       "    </tr>\n",
       "    <tr>\n",
       "      <th>16521</th>\n",
       "      <td>62944T10</td>\n",
       "      <td>NVR, Inc.</td>\n",
       "      <td>5-2-2018</td>\n",
       "      <td>20180502</td>\n",
       "      <td>NVR-US</td>\n",
       "      <td>-2.270448</td>\n",
       "      <td>-1.135385</td>\n",
       "      <td>-9.788507</td>\n",
       "      <td>0.000466</td>\n",
       "      <td>Consumer Discretionary</td>\n",
       "      <td>Consumer Durables &amp; Apparel</td>\n",
       "      <td>10989.7930</td>\n",
       "      <td>3093.22</td>\n",
       "      <td>0.067019</td>\n",
       "      <td>19.083963</td>\n",
       "      <td>0.143116</td>\n",
       "      <td>0.041037</td>\n",
       "      <td>13.307220</td>\n",
       "    </tr>\n",
       "    <tr>\n",
       "      <th>14628</th>\n",
       "      <td>62944T10</td>\n",
       "      <td>NVR, Inc.</td>\n",
       "      <td>4-11-2018</td>\n",
       "      <td>20180411</td>\n",
       "      <td>NVR-US</td>\n",
       "      <td>-1.585758</td>\n",
       "      <td>-2.168608</td>\n",
       "      <td>-1.828480</td>\n",
       "      <td>0.000465</td>\n",
       "      <td>Consumer Discretionary</td>\n",
       "      <td>Consumer Durables &amp; Apparel</td>\n",
       "      <td>10978.3540</td>\n",
       "      <td>3090.00</td>\n",
       "      <td>0.063848</td>\n",
       "      <td>19.083963</td>\n",
       "      <td>0.158450</td>\n",
       "      <td>0.045434</td>\n",
       "      <td>13.307220</td>\n",
       "    </tr>\n",
       "    <tr>\n",
       "      <th>22812</th>\n",
       "      <td>62944T10</td>\n",
       "      <td>NVR, Inc.</td>\n",
       "      <td>7-11-2018</td>\n",
       "      <td>20180711</td>\n",
       "      <td>NVR-US</td>\n",
       "      <td>2.173245</td>\n",
       "      <td>-11.017645</td>\n",
       "      <td>-20.894491</td>\n",
       "      <td>0.000433</td>\n",
       "      <td>Consumer Discretionary</td>\n",
       "      <td>Consumer Durables &amp; Apparel</td>\n",
       "      <td>10719.4520</td>\n",
       "      <td>3063.63</td>\n",
       "      <td>0.069223</td>\n",
       "      <td>21.496345</td>\n",
       "      <td>0.140264</td>\n",
       "      <td>0.047618</td>\n",
       "      <td>13.307220</td>\n",
       "    </tr>\n",
       "    <tr>\n",
       "      <th>9577</th>\n",
       "      <td>62944T10</td>\n",
       "      <td>NVR, Inc.</td>\n",
       "      <td>2/14/2018</td>\n",
       "      <td>20180214</td>\n",
       "      <td>NVR-US</td>\n",
       "      <td>4.084957</td>\n",
       "      <td>-0.172222</td>\n",
       "      <td>-1.209801</td>\n",
       "      <td>0.000450</td>\n",
       "      <td>Consumer Discretionary</td>\n",
       "      <td>Consumer Durables &amp; Apparel</td>\n",
       "      <td>10882.7390</td>\n",
       "      <td>3060.01</td>\n",
       "      <td>0.063083</td>\n",
       "      <td>19.083963</td>\n",
       "      <td>0.136863</td>\n",
       "      <td>0.040028</td>\n",
       "      <td>15.803665</td>\n",
       "    </tr>\n",
       "    <tr>\n",
       "      <th>19045</th>\n",
       "      <td>62944T10</td>\n",
       "      <td>NVR, Inc.</td>\n",
       "      <td>5/30/2018</td>\n",
       "      <td>20180530</td>\n",
       "      <td>NVR-US</td>\n",
       "      <td>1.729834</td>\n",
       "      <td>-3.831798</td>\n",
       "      <td>-11.876988</td>\n",
       "      <td>0.000446</td>\n",
       "      <td>Consumer Discretionary</td>\n",
       "      <td>Consumer Durables &amp; Apparel</td>\n",
       "      <td>10865.0170</td>\n",
       "      <td>3058.10</td>\n",
       "      <td>0.068461</td>\n",
       "      <td>21.496345</td>\n",
       "      <td>0.130754</td>\n",
       "      <td>0.045627</td>\n",
       "      <td>13.307220</td>\n",
       "    </tr>\n",
       "    <tr>\n",
       "      <th>12104</th>\n",
       "      <td>62944T10</td>\n",
       "      <td>NVR, Inc.</td>\n",
       "      <td>3/14/2018</td>\n",
       "      <td>20180314</td>\n",
       "      <td>NVR-US</td>\n",
       "      <td>1.630580</td>\n",
       "      <td>1.154268</td>\n",
       "      <td>1.841724</td>\n",
       "      <td>0.000441</td>\n",
       "      <td>Consumer Discretionary</td>\n",
       "      <td>Consumer Durables &amp; Apparel</td>\n",
       "      <td>10853.0790</td>\n",
       "      <td>3054.74</td>\n",
       "      <td>0.063844</td>\n",
       "      <td>19.083963</td>\n",
       "      <td>0.152989</td>\n",
       "      <td>0.044744</td>\n",
       "      <td>15.803665</td>\n",
       "    </tr>\n",
       "    <tr>\n",
       "      <th>15259</th>\n",
       "      <td>62944T10</td>\n",
       "      <td>NVR, Inc.</td>\n",
       "      <td>4/18/2018</td>\n",
       "      <td>20180418</td>\n",
       "      <td>NVR-US</td>\n",
       "      <td>1.979613</td>\n",
       "      <td>-4.077607</td>\n",
       "      <td>0.744164</td>\n",
       "      <td>0.000446</td>\n",
       "      <td>Consumer Discretionary</td>\n",
       "      <td>Consumer Durables &amp; Apparel</td>\n",
       "      <td>10804.2630</td>\n",
       "      <td>3041.00</td>\n",
       "      <td>0.065060</td>\n",
       "      <td>19.083963</td>\n",
       "      <td>0.158450</td>\n",
       "      <td>0.045434</td>\n",
       "      <td>13.307220</td>\n",
       "    </tr>\n",
       "    <tr>\n",
       "      <th>22185</th>\n",
       "      <td>62944T10</td>\n",
       "      <td>NVR, Inc.</td>\n",
       "      <td>7-3-2018</td>\n",
       "      <td>20180703</td>\n",
       "      <td>NVR-US</td>\n",
       "      <td>0.993240</td>\n",
       "      <td>-10.169768</td>\n",
       "      <td>-16.921049</td>\n",
       "      <td>0.000439</td>\n",
       "      <td>Consumer Discretionary</td>\n",
       "      <td>Consumer Durables &amp; Apparel</td>\n",
       "      <td>10614.0290</td>\n",
       "      <td>3033.50</td>\n",
       "      <td>0.069722</td>\n",
       "      <td>21.496345</td>\n",
       "      <td>0.140264</td>\n",
       "      <td>0.047618</td>\n",
       "      <td>13.307220</td>\n",
       "    </tr>\n",
       "    <tr>\n",
       "      <th>17152</th>\n",
       "      <td>62944T10</td>\n",
       "      <td>NVR, Inc.</td>\n",
       "      <td>5-9-2018</td>\n",
       "      <td>20180509</td>\n",
       "      <td>NVR-US</td>\n",
       "      <td>-3.506130</td>\n",
       "      <td>2.911353</td>\n",
       "      <td>-9.857458</td>\n",
       "      <td>0.000445</td>\n",
       "      <td>Consumer Discretionary</td>\n",
       "      <td>Consumer Durables &amp; Apparel</td>\n",
       "      <td>10740.2750</td>\n",
       "      <td>3022.99</td>\n",
       "      <td>0.068746</td>\n",
       "      <td>19.083963</td>\n",
       "      <td>0.143116</td>\n",
       "      <td>0.041037</td>\n",
       "      <td>13.307220</td>\n",
       "    </tr>\n",
       "    <tr>\n",
       "      <th>18414</th>\n",
       "      <td>62944T10</td>\n",
       "      <td>NVR, Inc.</td>\n",
       "      <td>5/23/2018</td>\n",
       "      <td>20180523</td>\n",
       "      <td>NVR-US</td>\n",
       "      <td>2.208543</td>\n",
       "      <td>3.606260</td>\n",
       "      <td>-10.754275</td>\n",
       "      <td>0.000435</td>\n",
       "      <td>Consumer Discretionary</td>\n",
       "      <td>Consumer Durables &amp; Apparel</td>\n",
       "      <td>10630.2430</td>\n",
       "      <td>2992.02</td>\n",
       "      <td>0.069801</td>\n",
       "      <td>21.496345</td>\n",
       "      <td>0.130754</td>\n",
       "      <td>0.045627</td>\n",
       "      <td>13.307220</td>\n",
       "    </tr>\n",
       "    <tr>\n",
       "      <th>11473</th>\n",
       "      <td>62944T10</td>\n",
       "      <td>NVR, Inc.</td>\n",
       "      <td>3-7-2018</td>\n",
       "      <td>20180307</td>\n",
       "      <td>NVR-US</td>\n",
       "      <td>2.198708</td>\n",
       "      <td>4.601848</td>\n",
       "      <td>2.311122</td>\n",
       "      <td>0.000435</td>\n",
       "      <td>Consumer Discretionary</td>\n",
       "      <td>Consumer Durables &amp; Apparel</td>\n",
       "      <td>10619.5850</td>\n",
       "      <td>2989.02</td>\n",
       "      <td>0.065081</td>\n",
       "      <td>19.083963</td>\n",
       "      <td>0.152989</td>\n",
       "      <td>0.044744</td>\n",
       "      <td>15.803665</td>\n",
       "    </tr>\n",
       "    <tr>\n",
       "      <th>8945</th>\n",
       "      <td>62944T10</td>\n",
       "      <td>NVR, Inc.</td>\n",
       "      <td>2-7-2018</td>\n",
       "      <td>20180207</td>\n",
       "      <td>NVR-US</td>\n",
       "      <td>2.557218</td>\n",
       "      <td>0.177968</td>\n",
       "      <td>3.670263</td>\n",
       "      <td>0.000441</td>\n",
       "      <td>Consumer Discretionary</td>\n",
       "      <td>Consumer Durables &amp; Apparel</td>\n",
       "      <td>10611.3830</td>\n",
       "      <td>2983.71</td>\n",
       "      <td>0.064529</td>\n",
       "      <td>19.738139</td>\n",
       "      <td>0.140715</td>\n",
       "      <td>0.042834</td>\n",
       "      <td>15.803665</td>\n",
       "    </tr>\n",
       "    <tr>\n",
       "      <th>13366</th>\n",
       "      <td>62944T10</td>\n",
       "      <td>NVR, Inc.</td>\n",
       "      <td>3/28/2018</td>\n",
       "      <td>20180328</td>\n",
       "      <td>NVR-US</td>\n",
       "      <td>4.992807</td>\n",
       "      <td>4.140854</td>\n",
       "      <td>4.097867</td>\n",
       "      <td>0.000454</td>\n",
       "      <td>Consumer Discretionary</td>\n",
       "      <td>Consumer Durables &amp; Apparel</td>\n",
       "      <td>10580.0410</td>\n",
       "      <td>2977.89</td>\n",
       "      <td>0.065902</td>\n",
       "      <td>19.083963</td>\n",
       "      <td>0.152989</td>\n",
       "      <td>0.044744</td>\n",
       "      <td>15.803665</td>\n",
       "    </tr>\n",
       "    <tr>\n",
       "      <th>...</th>\n",
       "      <td>...</td>\n",
       "      <td>...</td>\n",
       "      <td>...</td>\n",
       "      <td>...</td>\n",
       "      <td>...</td>\n",
       "      <td>...</td>\n",
       "      <td>...</td>\n",
       "      <td>...</td>\n",
       "      <td>...</td>\n",
       "      <td>...</td>\n",
       "      <td>...</td>\n",
       "      <td>...</td>\n",
       "      <td>...</td>\n",
       "      <td>...</td>\n",
       "      <td>...</td>\n",
       "      <td>...</td>\n",
       "      <td>...</td>\n",
       "      <td>...</td>\n",
       "    </tr>\n",
       "    <tr>\n",
       "      <th>24921</th>\n",
       "      <td>85207U10</td>\n",
       "      <td>Sprint Corp.</td>\n",
       "      <td>8-1-2018</td>\n",
       "      <td>20180801</td>\n",
       "      <td>S-US</td>\n",
       "      <td>13.011146</td>\n",
       "      <td>13.940525</td>\n",
       "      <td>10.408926</td>\n",
       "      <td>0.000172</td>\n",
       "      <td>Communication Services</td>\n",
       "      <td>Telecommunication Services</td>\n",
       "      <td>4307.2690</td>\n",
       "      <td>5.38</td>\n",
       "      <td>-0.008312</td>\n",
       "      <td>8.440857</td>\n",
       "      <td>1.209814</td>\n",
       "      <td>0.335175</td>\n",
       "      <td>33.633015</td>\n",
       "    </tr>\n",
       "    <tr>\n",
       "      <th>20534</th>\n",
       "      <td>85207U10</td>\n",
       "      <td>Sprint Corp.</td>\n",
       "      <td>6/13/2018</td>\n",
       "      <td>20180613</td>\n",
       "      <td>S-US</td>\n",
       "      <td>1.672852</td>\n",
       "      <td>2.230477</td>\n",
       "      <td>13.011146</td>\n",
       "      <td>0.000174</td>\n",
       "      <td>Communication Services</td>\n",
       "      <td>Telecommunication Services</td>\n",
       "      <td>4307.2690</td>\n",
       "      <td>5.38</td>\n",
       "      <td>-0.007524</td>\n",
       "      <td>8.440857</td>\n",
       "      <td>1.280306</td>\n",
       "      <td>0.354086</td>\n",
       "      <td>49.069523</td>\n",
       "    </tr>\n",
       "    <tr>\n",
       "      <th>10439</th>\n",
       "      <td>85207U10</td>\n",
       "      <td>Sprint Corp.</td>\n",
       "      <td>2/21/2018</td>\n",
       "      <td>20180221</td>\n",
       "      <td>S-US</td>\n",
       "      <td>-2.990651</td>\n",
       "      <td>-3.551406</td>\n",
       "      <td>-5.233640</td>\n",
       "      <td>0.000177</td>\n",
       "      <td>Communication Services</td>\n",
       "      <td>Telecommunication Services</td>\n",
       "      <td>4276.6650</td>\n",
       "      <td>5.35</td>\n",
       "      <td>0.037551</td>\n",
       "      <td>8.649532</td>\n",
       "      <td>1.229920</td>\n",
       "      <td>0.324390</td>\n",
       "      <td>49.069523</td>\n",
       "    </tr>\n",
       "    <tr>\n",
       "      <th>8543</th>\n",
       "      <td>85207U10</td>\n",
       "      <td>Sprint Corp.</td>\n",
       "      <td>1/31/2018</td>\n",
       "      <td>20180131</td>\n",
       "      <td>S-US</td>\n",
       "      <td>3.377116</td>\n",
       "      <td>-2.626640</td>\n",
       "      <td>12.945593</td>\n",
       "      <td>0.000168</td>\n",
       "      <td>Communication Services</td>\n",
       "      <td>Telecommunication Services</td>\n",
       "      <td>4260.6777</td>\n",
       "      <td>5.33</td>\n",
       "      <td>0.001553</td>\n",
       "      <td>-0.739770</td>\n",
       "      <td>0.891674</td>\n",
       "      <td>-0.028330</td>\n",
       "      <td>49.069523</td>\n",
       "    </tr>\n",
       "    <tr>\n",
       "      <th>11703</th>\n",
       "      <td>85207U10</td>\n",
       "      <td>Sprint Corp.</td>\n",
       "      <td>3-7-2018</td>\n",
       "      <td>20180307</td>\n",
       "      <td>S-US</td>\n",
       "      <td>-0.753295</td>\n",
       "      <td>-4.708099</td>\n",
       "      <td>-1.694918</td>\n",
       "      <td>0.000174</td>\n",
       "      <td>Communication Services</td>\n",
       "      <td>Telecommunication Services</td>\n",
       "      <td>4248.3670</td>\n",
       "      <td>5.31</td>\n",
       "      <td>0.025341</td>\n",
       "      <td>8.649532</td>\n",
       "      <td>1.263097</td>\n",
       "      <td>0.333141</td>\n",
       "      <td>49.069523</td>\n",
       "    </tr>\n",
       "    <tr>\n",
       "      <th>9807</th>\n",
       "      <td>85207U10</td>\n",
       "      <td>Sprint Corp.</td>\n",
       "      <td>2/14/2018</td>\n",
       "      <td>20180214</td>\n",
       "      <td>S-US</td>\n",
       "      <td>0.753295</td>\n",
       "      <td>-0.753295</td>\n",
       "      <td>-2.448213</td>\n",
       "      <td>0.000175</td>\n",
       "      <td>Communication Services</td>\n",
       "      <td>Telecommunication Services</td>\n",
       "      <td>4244.6900</td>\n",
       "      <td>5.31</td>\n",
       "      <td>0.040856</td>\n",
       "      <td>8.649532</td>\n",
       "      <td>1.229920</td>\n",
       "      <td>0.324390</td>\n",
       "      <td>49.069523</td>\n",
       "    </tr>\n",
       "    <tr>\n",
       "      <th>12334</th>\n",
       "      <td>85207U10</td>\n",
       "      <td>Sprint Corp.</td>\n",
       "      <td>3/14/2018</td>\n",
       "      <td>20180314</td>\n",
       "      <td>S-US</td>\n",
       "      <td>-2.087289</td>\n",
       "      <td>13.851988</td>\n",
       "      <td>-0.759012</td>\n",
       "      <td>0.000172</td>\n",
       "      <td>Communication Services</td>\n",
       "      <td>Telecommunication Services</td>\n",
       "      <td>4216.3643</td>\n",
       "      <td>5.27</td>\n",
       "      <td>0.017912</td>\n",
       "      <td>8.649532</td>\n",
       "      <td>1.263097</td>\n",
       "      <td>0.333141</td>\n",
       "      <td>49.069523</td>\n",
       "    </tr>\n",
       "    <tr>\n",
       "      <th>4540</th>\n",
       "      <td>82968B10</td>\n",
       "      <td>Sirius XM Holdings, Inc.</td>\n",
       "      <td>12/20/2017</td>\n",
       "      <td>20171220</td>\n",
       "      <td>SIRI-US</td>\n",
       "      <td>2.471471</td>\n",
       "      <td>3.422046</td>\n",
       "      <td>23.417902</td>\n",
       "      <td>0.000354</td>\n",
       "      <td>Consumer Discretionary</td>\n",
       "      <td>Media</td>\n",
       "      <td>8492.5620</td>\n",
       "      <td>5.26</td>\n",
       "      <td>0.039134</td>\n",
       "      <td>10.418956</td>\n",
       "      <td>-0.041488</td>\n",
       "      <td>0.032727</td>\n",
       "      <td>10.382892</td>\n",
       "    </tr>\n",
       "    <tr>\n",
       "      <th>7911</th>\n",
       "      <td>85207U10</td>\n",
       "      <td>Sprint Corp.</td>\n",
       "      <td>1/24/2018</td>\n",
       "      <td>20180124</td>\n",
       "      <td>S-US</td>\n",
       "      <td>1.330793</td>\n",
       "      <td>1.711023</td>\n",
       "      <td>14.068437</td>\n",
       "      <td>0.000165</td>\n",
       "      <td>Communication Services</td>\n",
       "      <td>Telecommunication Services</td>\n",
       "      <td>4204.7210</td>\n",
       "      <td>5.26</td>\n",
       "      <td>0.001504</td>\n",
       "      <td>-0.739770</td>\n",
       "      <td>0.806897</td>\n",
       "      <td>-0.025637</td>\n",
       "      <td>49.069523</td>\n",
       "    </tr>\n",
       "    <tr>\n",
       "      <th>2647</th>\n",
       "      <td>82968B10</td>\n",
       "      <td>Sirius XM Holdings, Inc.</td>\n",
       "      <td>5/31/2017</td>\n",
       "      <td>20170531</td>\n",
       "      <td>SIRI-US</td>\n",
       "      <td>1.333332</td>\n",
       "      <td>2.857149</td>\n",
       "      <td>6.095588</td>\n",
       "      <td>0.000409</td>\n",
       "      <td>Consumer Discretionary</td>\n",
       "      <td>Media</td>\n",
       "      <td>8865.7290</td>\n",
       "      <td>5.25</td>\n",
       "      <td>0.037178</td>\n",
       "      <td>9.818583</td>\n",
       "      <td>-0.037460</td>\n",
       "      <td>0.028571</td>\n",
       "      <td>10.382892</td>\n",
       "    </tr>\n",
       "    <tr>\n",
       "      <th>19906</th>\n",
       "      <td>85207U10</td>\n",
       "      <td>Sprint Corp.</td>\n",
       "      <td>6-6-2018</td>\n",
       "      <td>20180606</td>\n",
       "      <td>S-US</td>\n",
       "      <td>2.868068</td>\n",
       "      <td>3.441679</td>\n",
       "      <td>17.208408</td>\n",
       "      <td>0.000169</td>\n",
       "      <td>Communication Services</td>\n",
       "      <td>Telecommunication Services</td>\n",
       "      <td>4187.1777</td>\n",
       "      <td>5.23</td>\n",
       "      <td>-0.003310</td>\n",
       "      <td>8.440857</td>\n",
       "      <td>1.280306</td>\n",
       "      <td>0.354086</td>\n",
       "      <td>49.069523</td>\n",
       "    </tr>\n",
       "    <tr>\n",
       "      <th>19275</th>\n",
       "      <td>85207U10</td>\n",
       "      <td>Sprint Corp.</td>\n",
       "      <td>5/30/2018</td>\n",
       "      <td>20180530</td>\n",
       "      <td>S-US</td>\n",
       "      <td>0.191569</td>\n",
       "      <td>3.639853</td>\n",
       "      <td>17.624521</td>\n",
       "      <td>0.000171</td>\n",
       "      <td>Communication Services</td>\n",
       "      <td>Telecommunication Services</td>\n",
       "      <td>4176.3610</td>\n",
       "      <td>5.22</td>\n",
       "      <td>-0.003445</td>\n",
       "      <td>8.440857</td>\n",
       "      <td>1.173043</td>\n",
       "      <td>0.324421</td>\n",
       "      <td>49.069523</td>\n",
       "    </tr>\n",
       "    <tr>\n",
       "      <th>5806</th>\n",
       "      <td>82968B10</td>\n",
       "      <td>Sirius XM Holdings, Inc.</td>\n",
       "      <td>1-3-2018</td>\n",
       "      <td>20180103</td>\n",
       "      <td>SIRI-US</td>\n",
       "      <td>6.621873</td>\n",
       "      <td>17.274475</td>\n",
       "      <td>18.737566</td>\n",
       "      <td>0.000346</td>\n",
       "      <td>Consumer Discretionary</td>\n",
       "      <td>Media</td>\n",
       "      <td>8411.8340</td>\n",
       "      <td>5.21</td>\n",
       "      <td>0.039701</td>\n",
       "      <td>10.418956</td>\n",
       "      <td>-0.043270</td>\n",
       "      <td>0.033582</td>\n",
       "      <td>10.382892</td>\n",
       "    </tr>\n",
       "    <tr>\n",
       "      <th>11071</th>\n",
       "      <td>85207U10</td>\n",
       "      <td>Sprint Corp.</td>\n",
       "      <td>2/28/2018</td>\n",
       "      <td>20180228</td>\n",
       "      <td>S-US</td>\n",
       "      <td>2.312136</td>\n",
       "      <td>-6.358379</td>\n",
       "      <td>-0.963396</td>\n",
       "      <td>0.000171</td>\n",
       "      <td>Communication Services</td>\n",
       "      <td>Telecommunication Services</td>\n",
       "      <td>4148.7650</td>\n",
       "      <td>5.19</td>\n",
       "      <td>0.031940</td>\n",
       "      <td>8.649532</td>\n",
       "      <td>1.263097</td>\n",
       "      <td>0.333141</td>\n",
       "      <td>49.069523</td>\n",
       "    </tr>\n",
       "    <tr>\n",
       "      <th>17382</th>\n",
       "      <td>85207U10</td>\n",
       "      <td>Sprint Corp.</td>\n",
       "      <td>5-9-2018</td>\n",
       "      <td>20180509</td>\n",
       "      <td>S-US</td>\n",
       "      <td>-2.123547</td>\n",
       "      <td>0.965250</td>\n",
       "      <td>3.861010</td>\n",
       "      <td>0.000172</td>\n",
       "      <td>Communication Services</td>\n",
       "      <td>Telecommunication Services</td>\n",
       "      <td>4144.3580</td>\n",
       "      <td>5.18</td>\n",
       "      <td>-0.006169</td>\n",
       "      <td>8.649532</td>\n",
       "      <td>1.167658</td>\n",
       "      <td>0.308200</td>\n",
       "      <td>49.069523</td>\n",
       "    </tr>\n",
       "    <tr>\n",
       "      <th>16751</th>\n",
       "      <td>85207U10</td>\n",
       "      <td>Sprint Corp.</td>\n",
       "      <td>5-2-2018</td>\n",
       "      <td>20180502</td>\n",
       "      <td>S-US</td>\n",
       "      <td>0.193417</td>\n",
       "      <td>0.967109</td>\n",
       "      <td>4.835594</td>\n",
       "      <td>0.000175</td>\n",
       "      <td>Communication Services</td>\n",
       "      <td>Telecommunication Services</td>\n",
       "      <td>4136.3574</td>\n",
       "      <td>5.17</td>\n",
       "      <td>-0.010306</td>\n",
       "      <td>8.649532</td>\n",
       "      <td>1.167658</td>\n",
       "      <td>0.308200</td>\n",
       "      <td>49.069523</td>\n",
       "    </tr>\n",
       "    <tr>\n",
       "      <th>12965</th>\n",
       "      <td>85207U10</td>\n",
       "      <td>Sprint Corp.</td>\n",
       "      <td>3/21/2018</td>\n",
       "      <td>20180321</td>\n",
       "      <td>S-US</td>\n",
       "      <td>-5.813951</td>\n",
       "      <td>16.279078</td>\n",
       "      <td>4.263568</td>\n",
       "      <td>0.000170</td>\n",
       "      <td>Communication Services</td>\n",
       "      <td>Telecommunication Services</td>\n",
       "      <td>4128.3564</td>\n",
       "      <td>5.16</td>\n",
       "      <td>0.013476</td>\n",
       "      <td>8.649532</td>\n",
       "      <td>1.263097</td>\n",
       "      <td>0.333141</td>\n",
       "      <td>49.069523</td>\n",
       "    </tr>\n",
       "    <tr>\n",
       "      <th>18644</th>\n",
       "      <td>85207U10</td>\n",
       "      <td>Sprint Corp.</td>\n",
       "      <td>5/23/2018</td>\n",
       "      <td>20180523</td>\n",
       "      <td>S-US</td>\n",
       "      <td>1.556420</td>\n",
       "      <td>6.420231</td>\n",
       "      <td>16.926075</td>\n",
       "      <td>0.000168</td>\n",
       "      <td>Communication Services</td>\n",
       "      <td>Telecommunication Services</td>\n",
       "      <td>4112.3555</td>\n",
       "      <td>5.14</td>\n",
       "      <td>-0.003629</td>\n",
       "      <td>8.440857</td>\n",
       "      <td>1.173043</td>\n",
       "      <td>0.324421</td>\n",
       "      <td>49.069523</td>\n",
       "    </tr>\n",
       "    <tr>\n",
       "      <th>2026</th>\n",
       "      <td>G4883310</td>\n",
       "      <td>Weatherford International plc</td>\n",
       "      <td>11/30/2016</td>\n",
       "      <td>20161130</td>\n",
       "      <td>WFT-US</td>\n",
       "      <td>3.718197</td>\n",
       "      <td>-2.935421</td>\n",
       "      <td>11.937368</td>\n",
       "      <td>0.000240</td>\n",
       "      <td>Energy</td>\n",
       "      <td>Energy</td>\n",
       "      <td>4766.0386</td>\n",
       "      <td>5.11</td>\n",
       "      <td>-0.152421</td>\n",
       "      <td>-27.525990</td>\n",
       "      <td>0.507583</td>\n",
       "      <td>-0.931507</td>\n",
       "      <td>-5.507381</td>\n",
       "    </tr>\n",
       "    <tr>\n",
       "      <th>18013</th>\n",
       "      <td>85207U10</td>\n",
       "      <td>Sprint Corp.</td>\n",
       "      <td>5/16/2018</td>\n",
       "      <td>20180516</td>\n",
       "      <td>S-US</td>\n",
       "      <td>1.380670</td>\n",
       "      <td>6.114399</td>\n",
       "      <td>19.921101</td>\n",
       "      <td>0.000167</td>\n",
       "      <td>Communication Services</td>\n",
       "      <td>Telecommunication Services</td>\n",
       "      <td>4056.3503</td>\n",
       "      <td>5.07</td>\n",
       "      <td>-0.004412</td>\n",
       "      <td>8.440857</td>\n",
       "      <td>1.173043</td>\n",
       "      <td>0.324421</td>\n",
       "      <td>49.069523</td>\n",
       "    </tr>\n",
       "    <tr>\n",
       "      <th>14227</th>\n",
       "      <td>85207U10</td>\n",
       "      <td>Sprint Corp.</td>\n",
       "      <td>4-4-2018</td>\n",
       "      <td>20180404</td>\n",
       "      <td>S-US</td>\n",
       "      <td>18.577076</td>\n",
       "      <td>2.173913</td>\n",
       "      <td>6.917000</td>\n",
       "      <td>0.000171</td>\n",
       "      <td>Communication Services</td>\n",
       "      <td>Telecommunication Services</td>\n",
       "      <td>4048.3499</td>\n",
       "      <td>5.06</td>\n",
       "      <td>0.006757</td>\n",
       "      <td>8.649532</td>\n",
       "      <td>1.342328</td>\n",
       "      <td>0.354303</td>\n",
       "      <td>49.069523</td>\n",
       "    </tr>\n",
       "    <tr>\n",
       "      <th>13596</th>\n",
       "      <td>85207U10</td>\n",
       "      <td>Sprint Corp.</td>\n",
       "      <td>3/28/2018</td>\n",
       "      <td>20180328</td>\n",
       "      <td>S-US</td>\n",
       "      <td>4.115224</td>\n",
       "      <td>23.868311</td>\n",
       "      <td>12.551439</td>\n",
       "      <td>0.000167</td>\n",
       "      <td>Communication Services</td>\n",
       "      <td>Telecommunication Services</td>\n",
       "      <td>3888.3360</td>\n",
       "      <td>4.86</td>\n",
       "      <td>0.009706</td>\n",
       "      <td>8.649532</td>\n",
       "      <td>1.263097</td>\n",
       "      <td>0.333141</td>\n",
       "      <td>49.069523</td>\n",
       "    </tr>\n",
       "    <tr>\n",
       "      <th>2640</th>\n",
       "      <td>G4883310</td>\n",
       "      <td>Weatherford International plc</td>\n",
       "      <td>5/31/2017</td>\n",
       "      <td>20170531</td>\n",
       "      <td>WFT-US</td>\n",
       "      <td>-9.166670</td>\n",
       "      <td>-21.458340</td>\n",
       "      <td>-18.541670</td>\n",
       "      <td>0.000206</td>\n",
       "      <td>Energy</td>\n",
       "      <td>Energy</td>\n",
       "      <td>4476.9053</td>\n",
       "      <td>4.80</td>\n",
       "      <td>-0.133691</td>\n",
       "      <td>-25.054352</td>\n",
       "      <td>0.345812</td>\n",
       "      <td>-0.760417</td>\n",
       "      <td>-18.664734</td>\n",
       "    </tr>\n",
       "    <tr>\n",
       "      <th>2034</th>\n",
       "      <td>82968B10</td>\n",
       "      <td>Sirius XM Holdings, Inc.</td>\n",
       "      <td>11/30/2016</td>\n",
       "      <td>20161130</td>\n",
       "      <td>SIRI-US</td>\n",
       "      <td>-1.531732</td>\n",
       "      <td>-1.531732</td>\n",
       "      <td>12.926233</td>\n",
       "      <td>0.000456</td>\n",
       "      <td>Consumer Discretionary</td>\n",
       "      <td>Media</td>\n",
       "      <td>9063.4800</td>\n",
       "      <td>4.57</td>\n",
       "      <td>0.038323</td>\n",
       "      <td>8.124847</td>\n",
       "      <td>-0.022885</td>\n",
       "      <td>0.028446</td>\n",
       "      <td>10.194650</td>\n",
       "    </tr>\n",
       "    <tr>\n",
       "      <th>377</th>\n",
       "      <td>85207U10</td>\n",
       "      <td>Sprint Corp.</td>\n",
       "      <td>12/31/2014</td>\n",
       "      <td>20141231</td>\n",
       "      <td>S-US</td>\n",
       "      <td>1.686740</td>\n",
       "      <td>5.060244</td>\n",
       "      <td>14.698803</td>\n",
       "      <td>0.000170</td>\n",
       "      <td>Communication Services</td>\n",
       "      <td>Telecommunication Services</td>\n",
       "      <td>3274.7593</td>\n",
       "      <td>4.15</td>\n",
       "      <td>-0.091683</td>\n",
       "      <td>NaN</td>\n",
       "      <td>1.502248</td>\n",
       "      <td>NaN</td>\n",
       "      <td>-74.890366</td>\n",
       "    </tr>\n",
       "    <tr>\n",
       "      <th>1415</th>\n",
       "      <td>82968B10</td>\n",
       "      <td>Sirius XM Holdings, Inc.</td>\n",
       "      <td>8/31/2016</td>\n",
       "      <td>20160831</td>\n",
       "      <td>SIRI-US</td>\n",
       "      <td>0.845420</td>\n",
       "      <td>0.603867</td>\n",
       "      <td>11.132610</td>\n",
       "      <td>0.000426</td>\n",
       "      <td>Consumer Discretionary</td>\n",
       "      <td>Media</td>\n",
       "      <td>8438.9680</td>\n",
       "      <td>4.14</td>\n",
       "      <td>0.040102</td>\n",
       "      <td>7.802034</td>\n",
       "      <td>-0.038301</td>\n",
       "      <td>0.028986</td>\n",
       "      <td>10.194650</td>\n",
       "    </tr>\n",
       "    <tr>\n",
       "      <th>1001</th>\n",
       "      <td>85207U10</td>\n",
       "      <td>Sprint Corp.</td>\n",
       "      <td>9/30/2015</td>\n",
       "      <td>20150930</td>\n",
       "      <td>S-US</td>\n",
       "      <td>19.531261</td>\n",
       "      <td>30.468761</td>\n",
       "      <td>2.083337</td>\n",
       "      <td>0.000170</td>\n",
       "      <td>Communication Services</td>\n",
       "      <td>Telecommunication Services</td>\n",
       "      <td>3046.8218</td>\n",
       "      <td>3.84</td>\n",
       "      <td>-0.075271</td>\n",
       "      <td>-4.085422</td>\n",
       "      <td>1.425435</td>\n",
       "      <td>-0.223047</td>\n",
       "      <td>127.322590</td>\n",
       "    </tr>\n",
       "    <tr>\n",
       "      <th>781</th>\n",
       "      <td>82968B10</td>\n",
       "      <td>Sirius XM Holdings, Inc.</td>\n",
       "      <td>9/30/2015</td>\n",
       "      <td>20150930</td>\n",
       "      <td>SIRI-US</td>\n",
       "      <td>4.010701</td>\n",
       "      <td>9.759355</td>\n",
       "      <td>8.823538</td>\n",
       "      <td>0.000514</td>\n",
       "      <td>Consumer Discretionary</td>\n",
       "      <td>Media</td>\n",
       "      <td>9210.6950</td>\n",
       "      <td>3.74</td>\n",
       "      <td>0.037779</td>\n",
       "      <td>5.728225</td>\n",
       "      <td>0.022849</td>\n",
       "      <td>0.024064</td>\n",
       "      <td>10.980970</td>\n",
       "    </tr>\n",
       "    <tr>\n",
       "      <th>156</th>\n",
       "      <td>82968B10</td>\n",
       "      <td>Sirius XM Holdings, Inc.</td>\n",
       "      <td>12/31/2014</td>\n",
       "      <td>20141231</td>\n",
       "      <td>SIRI-US</td>\n",
       "      <td>-2.571428</td>\n",
       "      <td>1.714289</td>\n",
       "      <td>9.428573</td>\n",
       "      <td>0.000462</td>\n",
       "      <td>Consumer Discretionary</td>\n",
       "      <td>Media</td>\n",
       "      <td>8933.2060</td>\n",
       "      <td>3.50</td>\n",
       "      <td>0.033501</td>\n",
       "      <td>4.790147</td>\n",
       "      <td>0.059379</td>\n",
       "      <td>0.020000</td>\n",
       "      <td>15.908640</td>\n",
       "    </tr>\n",
       "    <tr>\n",
       "      <th>2737</th>\n",
       "      <td>76775410</td>\n",
       "      <td>Rite Aid Corporation</td>\n",
       "      <td>5/31/2017</td>\n",
       "      <td>20170531</td>\n",
       "      <td>RAD-US</td>\n",
       "      <td>0.000000</td>\n",
       "      <td>15.249264</td>\n",
       "      <td>-34.017597</td>\n",
       "      <td>0.000165</td>\n",
       "      <td>Consumer Staples</td>\n",
       "      <td>Food &amp; Staples Retailing</td>\n",
       "      <td>3587.7778</td>\n",
       "      <td>3.41</td>\n",
       "      <td>0.000843</td>\n",
       "      <td>0.035443</td>\n",
       "      <td>0.170904</td>\n",
       "      <td>-0.001290</td>\n",
       "      <td>6.303495</td>\n",
       "    </tr>\n",
       "  </tbody>\n",
       "</table>\n",
       "<p>38304 rows × 18 columns</p>\n",
       "</div>"
      ],
      "text/plain": [
       "      Identifier                           Name      Period  Period_YYYYMMDD  \\\n",
       "7049    62944T10                      NVR, Inc.   1/17/2018         20180117   \n",
       "7681    62944T10                      NVR, Inc.   1/24/2018         20180124   \n",
       "5785    62944T10                      NVR, Inc.    1-3-2018         20180103   \n",
       "6417    62944T10                      NVR, Inc.   1-10-2018         20180110   \n",
       "5152    62944T10                      NVR, Inc.  12/27/2017         20171227   \n",
       "4519    62944T10                      NVR, Inc.  12/20/2017         20171220   \n",
       "3253    62944T10                      NVR, Inc.   12-6-2017         20171206   \n",
       "3886    62944T10                      NVR, Inc.  12/13/2017         20171213   \n",
       "10209   62944T10                      NVR, Inc.   2/21/2018         20180221   \n",
       "8313    62944T10                      NVR, Inc.   1/31/2018         20180131   \n",
       "23438   62944T10                      NVR, Inc.   7/18/2018         20180718   \n",
       "13997   62944T10                      NVR, Inc.    4-4-2018         20180404   \n",
       "19675   62944T10                      NVR, Inc.    6-6-2018         20180606   \n",
       "12735   62944T10                      NVR, Inc.   3/21/2018         20180321   \n",
       "20303   62944T10                      NVR, Inc.   6/13/2018         20180613   \n",
       "15890   62944T10                      NVR, Inc.   4/25/2018         20180425   \n",
       "20931   62944T10                      NVR, Inc.   6/20/2018         20180620   \n",
       "16521   62944T10                      NVR, Inc.    5-2-2018         20180502   \n",
       "14628   62944T10                      NVR, Inc.   4-11-2018         20180411   \n",
       "22812   62944T10                      NVR, Inc.   7-11-2018         20180711   \n",
       "9577    62944T10                      NVR, Inc.   2/14/2018         20180214   \n",
       "19045   62944T10                      NVR, Inc.   5/30/2018         20180530   \n",
       "12104   62944T10                      NVR, Inc.   3/14/2018         20180314   \n",
       "15259   62944T10                      NVR, Inc.   4/18/2018         20180418   \n",
       "22185   62944T10                      NVR, Inc.    7-3-2018         20180703   \n",
       "17152   62944T10                      NVR, Inc.    5-9-2018         20180509   \n",
       "18414   62944T10                      NVR, Inc.   5/23/2018         20180523   \n",
       "11473   62944T10                      NVR, Inc.    3-7-2018         20180307   \n",
       "8945    62944T10                      NVR, Inc.    2-7-2018         20180207   \n",
       "13366   62944T10                      NVR, Inc.   3/28/2018         20180328   \n",
       "...          ...                            ...         ...              ...   \n",
       "24921   85207U10                   Sprint Corp.    8-1-2018         20180801   \n",
       "20534   85207U10                   Sprint Corp.   6/13/2018         20180613   \n",
       "10439   85207U10                   Sprint Corp.   2/21/2018         20180221   \n",
       "8543    85207U10                   Sprint Corp.   1/31/2018         20180131   \n",
       "11703   85207U10                   Sprint Corp.    3-7-2018         20180307   \n",
       "9807    85207U10                   Sprint Corp.   2/14/2018         20180214   \n",
       "12334   85207U10                   Sprint Corp.   3/14/2018         20180314   \n",
       "4540    82968B10       Sirius XM Holdings, Inc.  12/20/2017         20171220   \n",
       "7911    85207U10                   Sprint Corp.   1/24/2018         20180124   \n",
       "2647    82968B10       Sirius XM Holdings, Inc.   5/31/2017         20170531   \n",
       "19906   85207U10                   Sprint Corp.    6-6-2018         20180606   \n",
       "19275   85207U10                   Sprint Corp.   5/30/2018         20180530   \n",
       "5806    82968B10       Sirius XM Holdings, Inc.    1-3-2018         20180103   \n",
       "11071   85207U10                   Sprint Corp.   2/28/2018         20180228   \n",
       "17382   85207U10                   Sprint Corp.    5-9-2018         20180509   \n",
       "16751   85207U10                   Sprint Corp.    5-2-2018         20180502   \n",
       "12965   85207U10                   Sprint Corp.   3/21/2018         20180321   \n",
       "18644   85207U10                   Sprint Corp.   5/23/2018         20180523   \n",
       "2026    G4883310  Weatherford International plc  11/30/2016         20161130   \n",
       "18013   85207U10                   Sprint Corp.   5/16/2018         20180516   \n",
       "14227   85207U10                   Sprint Corp.    4-4-2018         20180404   \n",
       "13596   85207U10                   Sprint Corp.   3/28/2018         20180328   \n",
       "2640    G4883310  Weatherford International plc   5/31/2017         20170531   \n",
       "2034    82968B10       Sirius XM Holdings, Inc.  11/30/2016         20161130   \n",
       "377     85207U10                   Sprint Corp.  12/31/2014         20141231   \n",
       "1415    82968B10       Sirius XM Holdings, Inc.   8/31/2016         20160831   \n",
       "1001    85207U10                   Sprint Corp.   9/30/2015         20150930   \n",
       "781     82968B10       Sirius XM Holdings, Inc.   9/30/2015         20150930   \n",
       "156     82968B10       Sirius XM Holdings, Inc.  12/31/2014         20141231   \n",
       "2737    76775410           Rite Aid Corporation   5/31/2017         20170531   \n",
       "\n",
       "        Ticker  Universe_Returns_F1W  Universe_Returns_F4W  \\\n",
       "7049    NVR-US             -1.631343            -16.088015   \n",
       "7681    NVR-US            -11.402488            -11.211806   \n",
       "5785    NVR-US             -1.318616            -10.796475   \n",
       "6417    NVR-US              3.721428            -15.135461   \n",
       "5152    NVR-US              2.912486              3.616405   \n",
       "4519    NVR-US              1.228070              6.628358   \n",
       "3253    NVR-US             -0.113821              5.601633   \n",
       "3886    NVR-US              1.483679              4.327893   \n",
       "10209   NVR-US            -10.732782             -2.526206   \n",
       "8313    NVR-US             -6.118613            -10.540658   \n",
       "23438   NVR-US            -10.854542            -14.694220   \n",
       "13997   NVR-US             -1.169652             -1.066667   \n",
       "19675   NVR-US             -0.212795             -2.491158   \n",
       "12735   NVR-US             -4.079824             -2.046996   \n",
       "20303   NVR-US             -0.143665             -1.312661   \n",
       "15890   NVR-US             -0.257319             -3.520572   \n",
       "20931   NVR-US             -5.129165              0.977123   \n",
       "16521   NVR-US             -2.270448             -1.135385   \n",
       "14628   NVR-US             -1.585758             -2.168608   \n",
       "22812   NVR-US              2.173245            -11.017645   \n",
       "9577    NVR-US              4.084957             -0.172222   \n",
       "19045   NVR-US              1.729834             -3.831798   \n",
       "12104   NVR-US              1.630580              1.154268   \n",
       "15259   NVR-US              1.979613             -4.077607   \n",
       "22185   NVR-US              0.993240            -10.169768   \n",
       "17152   NVR-US             -3.506130              2.911353   \n",
       "18414   NVR-US              2.208543              3.606260   \n",
       "11473   NVR-US              2.198708              4.601848   \n",
       "8945    NVR-US              2.557218              0.177968   \n",
       "13366   NVR-US              4.992807              4.140854   \n",
       "...        ...                   ...                   ...   \n",
       "24921     S-US             13.011146             13.940525   \n",
       "20534     S-US              1.672852              2.230477   \n",
       "10439     S-US             -2.990651             -3.551406   \n",
       "8543      S-US              3.377116             -2.626640   \n",
       "11703     S-US             -0.753295             -4.708099   \n",
       "9807      S-US              0.753295             -0.753295   \n",
       "12334     S-US             -2.087289             13.851988   \n",
       "4540   SIRI-US              2.471471              3.422046   \n",
       "7911      S-US              1.330793              1.711023   \n",
       "2647   SIRI-US              1.333332              2.857149   \n",
       "19906     S-US              2.868068              3.441679   \n",
       "19275     S-US              0.191569              3.639853   \n",
       "5806   SIRI-US              6.621873             17.274475   \n",
       "11071     S-US              2.312136             -6.358379   \n",
       "17382     S-US             -2.123547              0.965250   \n",
       "16751     S-US              0.193417              0.967109   \n",
       "12965     S-US             -5.813951             16.279078   \n",
       "18644     S-US              1.556420              6.420231   \n",
       "2026    WFT-US              3.718197             -2.935421   \n",
       "18013     S-US              1.380670              6.114399   \n",
       "14227     S-US             18.577076              2.173913   \n",
       "13596     S-US              4.115224             23.868311   \n",
       "2640    WFT-US             -9.166670            -21.458340   \n",
       "2034   SIRI-US             -1.531732             -1.531732   \n",
       "377       S-US              1.686740              5.060244   \n",
       "1415   SIRI-US              0.845420              0.603867   \n",
       "1001      S-US             19.531261             30.468761   \n",
       "781    SIRI-US              4.010701              9.759355   \n",
       "156    SIRI-US             -2.571428              1.714289   \n",
       "2737    RAD-US              0.000000             15.249264   \n",
       "\n",
       "       Universe_Returns_F12W    Weight             GICS_Sector  \\\n",
       "7049              -15.265626  0.000517  Consumer Discretionary   \n",
       "7681              -15.226358  0.000502  Consumer Discretionary   \n",
       "5785              -16.417854  0.000522  Consumer Discretionary   \n",
       "6417              -11.072147  0.000508  Consumer Discretionary   \n",
       "5152              -10.324955  0.000512  Consumer Discretionary   \n",
       "4519              -10.680115  0.000507  Consumer Discretionary   \n",
       "3253              -15.728969  0.000510  Consumer Discretionary   \n",
       "3886              -11.305046  0.000503  Consumer Discretionary   \n",
       "10209              -8.414734  0.000468  Consumer Discretionary   \n",
       "8313               -2.421832  0.000447  Consumer Discretionary   \n",
       "23438             -24.947845  0.000436  Consumer Discretionary   \n",
       "13997              -5.937820  0.000470  Consumer Discretionary   \n",
       "19675             -14.543229  0.000438  Consumer Discretionary   \n",
       "12735              -0.005484  0.000455  Consumer Discretionary   \n",
       "20303             -14.447647  0.000438  Consumer Discretionary   \n",
       "15890               0.935447  0.000467  Consumer Discretionary   \n",
       "20931             -14.278430  0.000439  Consumer Discretionary   \n",
       "16521              -9.788507  0.000466  Consumer Discretionary   \n",
       "14628              -1.828480  0.000465  Consumer Discretionary   \n",
       "22812             -20.894491  0.000433  Consumer Discretionary   \n",
       "9577               -1.209801  0.000450  Consumer Discretionary   \n",
       "19045             -11.876988  0.000446  Consumer Discretionary   \n",
       "12104               1.841724  0.000441  Consumer Discretionary   \n",
       "15259               0.744164  0.000446  Consumer Discretionary   \n",
       "22185             -16.921049  0.000439  Consumer Discretionary   \n",
       "17152              -9.857458  0.000445  Consumer Discretionary   \n",
       "18414             -10.754275  0.000435  Consumer Discretionary   \n",
       "11473               2.311122  0.000435  Consumer Discretionary   \n",
       "8945                3.670263  0.000441  Consumer Discretionary   \n",
       "13366               4.097867  0.000454  Consumer Discretionary   \n",
       "...                      ...       ...                     ...   \n",
       "24921              10.408926  0.000172  Communication Services   \n",
       "20534              13.011146  0.000174  Communication Services   \n",
       "10439              -5.233640  0.000177  Communication Services   \n",
       "8543               12.945593  0.000168  Communication Services   \n",
       "11703              -1.694918  0.000174  Communication Services   \n",
       "9807               -2.448213  0.000175  Communication Services   \n",
       "12334              -0.759012  0.000172  Communication Services   \n",
       "4540               23.417902  0.000354  Consumer Discretionary   \n",
       "7911               14.068437  0.000165  Communication Services   \n",
       "2647                6.095588  0.000409  Consumer Discretionary   \n",
       "19906              17.208408  0.000169  Communication Services   \n",
       "19275              17.624521  0.000171  Communication Services   \n",
       "5806               18.737566  0.000346  Consumer Discretionary   \n",
       "11071              -0.963396  0.000171  Communication Services   \n",
       "17382               3.861010  0.000172  Communication Services   \n",
       "16751               4.835594  0.000175  Communication Services   \n",
       "12965               4.263568  0.000170  Communication Services   \n",
       "18644              16.926075  0.000168  Communication Services   \n",
       "2026               11.937368  0.000240                  Energy   \n",
       "18013              19.921101  0.000167  Communication Services   \n",
       "14227               6.917000  0.000171  Communication Services   \n",
       "13596              12.551439  0.000167  Communication Services   \n",
       "2640              -18.541670  0.000206                  Energy   \n",
       "2034               12.926233  0.000456  Consumer Discretionary   \n",
       "377                14.698803  0.000170  Communication Services   \n",
       "1415               11.132610  0.000426  Consumer Discretionary   \n",
       "1001                2.083337  0.000170  Communication Services   \n",
       "781                 8.823538  0.000514  Consumer Discretionary   \n",
       "156                 9.428573  0.000462  Consumer Discretionary   \n",
       "2737              -34.017597  0.000165        Consumer Staples   \n",
       "\n",
       "                      GICS_Ind_Grp  Market_Cap_USD  Price_USD    NTM_EP  \\\n",
       "7049   Consumer Durables & Apparel      12969.2300    3646.69  0.051379   \n",
       "7681   Consumer Durables & Apparel      12757.6580    3587.20  0.053347   \n",
       "5785   Consumer Durables & Apparel      12670.9870    3562.83  0.048533   \n",
       "6417   Consumer Durables & Apparel      12503.9060    3515.85  0.052303   \n",
       "5152   Consumer Durables & Apparel      12312.3920    3462.00  0.049253   \n",
       "4519   Consumer Durables & Apparel      12163.0210    3420.00  0.049719   \n",
       "3253   Consumer Durables & Apparel      11998.8560    3373.84  0.050118   \n",
       "3886   Consumer Durables & Apparel      11985.1990    3370.00  0.050316   \n",
       "10209  Consumer Durables & Apparel      11327.2940    3185.01  0.060763   \n",
       "8313   Consumer Durables & Apparel      11302.9680    3178.17  0.060424   \n",
       "23438  Consumer Durables & Apparel      10952.4120    3130.21  0.067910   \n",
       "13997  Consumer Durables & Apparel      11108.2810    3126.57  0.062949   \n",
       "19675  Consumer Durables & Apparel      10885.1970    3111.00  0.067463   \n",
       "12735  Consumer Durables & Apparel      11030.0470    3104.55  0.063030   \n",
       "20303  Consumer Durables & Apparel      10862.0340    3104.38  0.067670   \n",
       "15890  Consumer Durables & Apparel      11018.1455    3101.20  0.066680   \n",
       "20931  Consumer Durables & Apparel      10846.4290    3099.92  0.067929   \n",
       "16521  Consumer Durables & Apparel      10989.7930    3093.22  0.067019   \n",
       "14628  Consumer Durables & Apparel      10978.3540    3090.00  0.063848   \n",
       "22812  Consumer Durables & Apparel      10719.4520    3063.63  0.069223   \n",
       "9577   Consumer Durables & Apparel      10882.7390    3060.01  0.063083   \n",
       "19045  Consumer Durables & Apparel      10865.0170    3058.10  0.068461   \n",
       "12104  Consumer Durables & Apparel      10853.0790    3054.74  0.063844   \n",
       "15259  Consumer Durables & Apparel      10804.2630    3041.00  0.065060   \n",
       "22185  Consumer Durables & Apparel      10614.0290    3033.50  0.069722   \n",
       "17152  Consumer Durables & Apparel      10740.2750    3022.99  0.068746   \n",
       "18414  Consumer Durables & Apparel      10630.2430    2992.02  0.069801   \n",
       "11473  Consumer Durables & Apparel      10619.5850    2989.02  0.065081   \n",
       "8945   Consumer Durables & Apparel      10611.3830    2983.71  0.064529   \n",
       "13366  Consumer Durables & Apparel      10580.0410    2977.89  0.065902   \n",
       "...                            ...             ...        ...       ...   \n",
       "24921   Telecommunication Services       4307.2690       5.38 -0.008312   \n",
       "20534   Telecommunication Services       4307.2690       5.38 -0.007524   \n",
       "10439   Telecommunication Services       4276.6650       5.35  0.037551   \n",
       "8543    Telecommunication Services       4260.6777       5.33  0.001553   \n",
       "11703   Telecommunication Services       4248.3670       5.31  0.025341   \n",
       "9807    Telecommunication Services       4244.6900       5.31  0.040856   \n",
       "12334   Telecommunication Services       4216.3643       5.27  0.017912   \n",
       "4540                         Media       8492.5620       5.26  0.039134   \n",
       "7911    Telecommunication Services       4204.7210       5.26  0.001504   \n",
       "2647                         Media       8865.7290       5.25  0.037178   \n",
       "19906   Telecommunication Services       4187.1777       5.23 -0.003310   \n",
       "19275   Telecommunication Services       4176.3610       5.22 -0.003445   \n",
       "5806                         Media       8411.8340       5.21  0.039701   \n",
       "11071   Telecommunication Services       4148.7650       5.19  0.031940   \n",
       "17382   Telecommunication Services       4144.3580       5.18 -0.006169   \n",
       "16751   Telecommunication Services       4136.3574       5.17 -0.010306   \n",
       "12965   Telecommunication Services       4128.3564       5.16  0.013476   \n",
       "18644   Telecommunication Services       4112.3555       5.14 -0.003629   \n",
       "2026                        Energy       4766.0386       5.11 -0.152421   \n",
       "18013   Telecommunication Services       4056.3503       5.07 -0.004412   \n",
       "14227   Telecommunication Services       4048.3499       5.06  0.006757   \n",
       "13596   Telecommunication Services       3888.3360       4.86  0.009706   \n",
       "2640                        Energy       4476.9053       4.80 -0.133691   \n",
       "2034                         Media       9063.4800       4.57  0.038323   \n",
       "377     Telecommunication Services       3274.7593       4.15 -0.091683   \n",
       "1415                         Media       8438.9680       4.14  0.040102   \n",
       "1001    Telecommunication Services       3046.8218       3.84 -0.075271   \n",
       "781                          Media       9210.6950       3.74  0.037779   \n",
       "156                          Media       8933.2060       3.50  0.033501   \n",
       "2737      Food & Staples Retailing       3587.7778       3.41  0.000843   \n",
       "\n",
       "         LTM_ROA        BP    LTM_EP  5Y_Sales_Growth  \n",
       "7049   19.738139  0.127477  0.038805        15.803665  \n",
       "7681   19.738139  0.127477  0.038805        15.803665  \n",
       "5785   19.738139  0.127477  0.038805        15.803665  \n",
       "6417   19.738139  0.127477  0.038805        15.803665  \n",
       "5152   19.738139  0.127150  0.039176        15.803665  \n",
       "4519   19.738139  0.127150  0.039176        15.803665  \n",
       "3253   19.738139  0.127150  0.039176        15.803665  \n",
       "3886   19.738139  0.127150  0.039176        15.803665  \n",
       "10209  19.083963  0.136863  0.040028        15.803665  \n",
       "8313   19.738139  0.140715  0.042834        15.803665  \n",
       "23438  21.496345  0.140264  0.047618        13.307220  \n",
       "13997  19.083963  0.158450  0.045434        13.307220  \n",
       "19675  21.496345  0.135539  0.047297        13.307220  \n",
       "12735  19.083963  0.152989  0.044744        15.803665  \n",
       "20303  21.496345  0.135539  0.047297        13.307220  \n",
       "15890  19.083963  0.158450  0.045434        13.307220  \n",
       "20931  21.496345  0.135539  0.047297        13.307220  \n",
       "16521  19.083963  0.143116  0.041037        13.307220  \n",
       "14628  19.083963  0.158450  0.045434        13.307220  \n",
       "22812  21.496345  0.140264  0.047618        13.307220  \n",
       "9577   19.083963  0.136863  0.040028        15.803665  \n",
       "19045  21.496345  0.130754  0.045627        13.307220  \n",
       "12104  19.083963  0.152989  0.044744        15.803665  \n",
       "15259  19.083963  0.158450  0.045434        13.307220  \n",
       "22185  21.496345  0.140264  0.047618        13.307220  \n",
       "17152  19.083963  0.143116  0.041037        13.307220  \n",
       "18414  21.496345  0.130754  0.045627        13.307220  \n",
       "11473  19.083963  0.152989  0.044744        15.803665  \n",
       "8945   19.738139  0.140715  0.042834        15.803665  \n",
       "13366  19.083963  0.152989  0.044744        15.803665  \n",
       "...          ...       ...       ...              ...  \n",
       "24921   8.440857  1.209814  0.335175        33.633015  \n",
       "20534   8.440857  1.280306  0.354086        49.069523  \n",
       "10439   8.649532  1.229920  0.324390        49.069523  \n",
       "8543   -0.739770  0.891674 -0.028330        49.069523  \n",
       "11703   8.649532  1.263097  0.333141        49.069523  \n",
       "9807    8.649532  1.229920  0.324390        49.069523  \n",
       "12334   8.649532  1.263097  0.333141        49.069523  \n",
       "4540   10.418956 -0.041488  0.032727        10.382892  \n",
       "7911   -0.739770  0.806897 -0.025637        49.069523  \n",
       "2647    9.818583 -0.037460  0.028571        10.382892  \n",
       "19906   8.440857  1.280306  0.354086        49.069523  \n",
       "19275   8.440857  1.173043  0.324421        49.069523  \n",
       "5806   10.418956 -0.043270  0.033582        10.382892  \n",
       "11071   8.649532  1.263097  0.333141        49.069523  \n",
       "17382   8.649532  1.167658  0.308200        49.069523  \n",
       "16751   8.649532  1.167658  0.308200        49.069523  \n",
       "12965   8.649532  1.263097  0.333141        49.069523  \n",
       "18644   8.440857  1.173043  0.324421        49.069523  \n",
       "2026  -27.525990  0.507583 -0.931507        -5.507381  \n",
       "18013   8.440857  1.173043  0.324421        49.069523  \n",
       "14227   8.649532  1.342328  0.354303        49.069523  \n",
       "13596   8.649532  1.263097  0.333141        49.069523  \n",
       "2640  -25.054352  0.345812 -0.760417       -18.664734  \n",
       "2034    8.124847 -0.022885  0.028446        10.194650  \n",
       "377          NaN  1.502248       NaN       -74.890366  \n",
       "1415    7.802034 -0.038301  0.028986        10.194650  \n",
       "1001   -4.085422  1.425435 -0.223047       127.322590  \n",
       "781     5.728225  0.022849  0.024064        10.980970  \n",
       "156     4.790147  0.059379  0.020000        15.908640  \n",
       "2737    0.035443  0.170904 -0.001290         6.303495  \n",
       "\n",
       "[38304 rows x 18 columns]"
      ]
     },
     "execution_count": 10,
     "metadata": {},
     "output_type": "execute_result"
    }
   ],
   "source": [
    "data.sort_values(by='Price_USD', ascending=False)"
   ]
  },
  {
   "cell_type": "markdown",
   "metadata": {
    "slideshow": {
     "slide_type": "slide"
    }
   },
   "source": [
    "### Missing values"
   ]
  },
  {
   "cell_type": "code",
   "execution_count": 11,
   "metadata": {
    "slideshow": {
     "slide_type": "fragment"
    }
   },
   "outputs": [],
   "source": [
    "mis_val = data.isnull().sum()\n",
    "mis_val_percent = 100 * data.isnull().sum()/len(data)\n",
    "mis_val_table = pd.concat([mis_val, mis_val_percent], axis=1)"
   ]
  },
  {
   "cell_type": "code",
   "execution_count": 12,
   "metadata": {
    "slideshow": {
     "slide_type": "fragment"
    }
   },
   "outputs": [
    {
     "data": {
      "text/plain": [
       "Identifier                 0\n",
       "Name                       0\n",
       "Period                     0\n",
       "Period_YYYYMMDD            0\n",
       "Ticker                     0\n",
       "Universe_Returns_F1W       4\n",
       "Universe_Returns_F4W       8\n",
       "Universe_Returns_F12W     36\n",
       "Weight                     0\n",
       "GICS_Sector                0\n",
       "GICS_Ind_Grp               0\n",
       "Market_Cap_USD             0\n",
       "Price_USD                  0\n",
       "NTM_EP                    58\n",
       "LTM_ROA                   59\n",
       "BP                        16\n",
       "LTM_EP                    89\n",
       "5Y_Sales_Growth          107\n",
       "dtype: int64"
      ]
     },
     "execution_count": 12,
     "metadata": {},
     "output_type": "execute_result"
    }
   ],
   "source": [
    "data.isnull().sum()"
   ]
  },
  {
   "cell_type": "markdown",
   "metadata": {
    "slideshow": {
     "slide_type": "subslide"
    }
   },
   "source": [
    "**Direct replacement**"
   ]
  },
  {
   "cell_type": "code",
   "execution_count": 13,
   "metadata": {
    "slideshow": {
     "slide_type": "fragment"
    }
   },
   "outputs": [
    {
     "data": {
      "text/plain": [
       "2862    NaN\n",
       "19657   NaN\n",
       "35229   NaN\n",
       "35411   NaN\n",
       "Name: Universe_Returns_F1W, dtype: float64"
      ]
     },
     "execution_count": 13,
     "metadata": {},
     "output_type": "execute_result"
    }
   ],
   "source": [
    "data[data.Universe_Returns_F1W.isnull()]['Universe_Returns_F1W']"
   ]
  },
  {
   "cell_type": "code",
   "execution_count": 14,
   "metadata": {
    "slideshow": {
     "slide_type": "fragment"
    }
   },
   "outputs": [],
   "source": [
    "data.loc[[2862,19657,35229,35411],'Universe_Returns_F1W'] = 0"
   ]
  },
  {
   "cell_type": "markdown",
   "metadata": {
    "slideshow": {
     "slide_type": "subslide"
    }
   },
   "source": [
    "**Loop replacement**"
   ]
  },
  {
   "cell_type": "code",
   "execution_count": 15,
   "metadata": {
    "slideshow": {
     "slide_type": "fragment"
    }
   },
   "outputs": [],
   "source": [
    "indexes_to_check = data[data.Universe_Returns_F4W.isnull()].index"
   ]
  },
  {
   "cell_type": "code",
   "execution_count": 16,
   "metadata": {
    "slideshow": {
     "slide_type": "fragment"
    }
   },
   "outputs": [],
   "source": [
    "for i in indexes_to_check:\n",
    "    data.loc[i,'Universe_Returns_F4W'] = 0"
   ]
  },
  {
   "cell_type": "markdown",
   "metadata": {
    "slideshow": {
     "slide_type": "subslide"
    }
   },
   "source": [
    "**Just Fill in**"
   ]
  },
  {
   "cell_type": "code",
   "execution_count": 17,
   "metadata": {
    "slideshow": {
     "slide_type": "fragment"
    }
   },
   "outputs": [],
   "source": [
    "data.Universe_Returns_F12W.fillna(value=1, inplace=True)"
   ]
  },
  {
   "cell_type": "markdown",
   "metadata": {
    "slideshow": {
     "slide_type": "subslide"
    }
   },
   "source": [
    "**Also with operations**"
   ]
  },
  {
   "cell_type": "code",
   "execution_count": 18,
   "metadata": {
    "slideshow": {
     "slide_type": "fragment"
    }
   },
   "outputs": [],
   "source": [
    "NTM_EP_mean = data.NTM_EP.mean()"
   ]
  },
  {
   "cell_type": "code",
   "execution_count": 19,
   "metadata": {
    "slideshow": {
     "slide_type": "fragment"
    }
   },
   "outputs": [],
   "source": [
    "data.NTM_EP.fillna(value=NTM_EP_mean, inplace=True)"
   ]
  },
  {
   "cell_type": "markdown",
   "metadata": {
    "slideshow": {
     "slide_type": "subslide"
    }
   },
   "source": [
    "**Or just don't take the na events into account**"
   ]
  },
  {
   "cell_type": "code",
   "execution_count": 20,
   "metadata": {
    "slideshow": {
     "slide_type": "fragment"
    }
   },
   "outputs": [],
   "source": [
    "data.dropna(inplace=True)"
   ]
  },
  {
   "cell_type": "markdown",
   "metadata": {
    "slideshow": {
     "slide_type": "slide"
    }
   },
   "source": [
    "### Data update"
   ]
  },
  {
   "cell_type": "markdown",
   "metadata": {
    "slideshow": {
     "slide_type": "fragment"
    }
   },
   "source": [
    "Let's suppose we don't need the commas"
   ]
  },
  {
   "cell_type": "code",
   "execution_count": 21,
   "metadata": {
    "slideshow": {
     "slide_type": "subslide"
    }
   },
   "outputs": [
    {
     "data": {
      "text/plain": [
       "'ANSYS Inc.'"
      ]
     },
     "execution_count": 21,
     "metadata": {},
     "output_type": "execute_result"
    }
   ],
   "source": [
    "data.Name.loc[7].replace(',','')"
   ]
  },
  {
   "cell_type": "code",
   "execution_count": 22,
   "metadata": {
    "slideshow": {
     "slide_type": "fragment"
    }
   },
   "outputs": [],
   "source": [
    "data.loc[7,'Name'] = data.Name.loc[7].replace(',','')"
   ]
  },
  {
   "cell_type": "code",
   "execution_count": 23,
   "metadata": {
    "slideshow": {
     "slide_type": "fragment"
    }
   },
   "outputs": [
    {
     "data": {
      "text/plain": [
       "'ANSYS Inc.'"
      ]
     },
     "execution_count": 23,
     "metadata": {},
     "output_type": "execute_result"
    }
   ],
   "source": [
    "data.loc[7,'Name']"
   ]
  },
  {
   "cell_type": "code",
   "execution_count": 24,
   "metadata": {
    "slideshow": {
     "slide_type": "fragment"
    }
   },
   "outputs": [],
   "source": [
    "for i in data.index:\n",
    "    data.loc[i,'Name'] = data.Name.loc[i].replace(',','')"
   ]
  },
  {
   "cell_type": "markdown",
   "metadata": {
    "slideshow": {
     "slide_type": "slide"
    }
   },
   "source": [
    "### Handling Datetime"
   ]
  },
  {
   "cell_type": "code",
   "execution_count": 1,
   "metadata": {
    "slideshow": {
     "slide_type": "fragment"
    }
   },
   "outputs": [],
   "source": [
    "#data.Period_YYYYMMDD"
   ]
  },
  {
   "cell_type": "code",
   "execution_count": 2,
   "metadata": {
    "slideshow": {
     "slide_type": "fragment"
    }
   },
   "outputs": [],
   "source": [
    "#[len(str(i)) for i in data.Period_YYYYMMDD]"
   ]
  },
  {
   "cell_type": "code",
   "execution_count": 27,
   "metadata": {
    "slideshow": {
     "slide_type": "fragment"
    }
   },
   "outputs": [
    {
     "data": {
      "text/plain": [
       "array([8])"
      ]
     },
     "execution_count": 27,
     "metadata": {},
     "output_type": "execute_result"
    }
   ],
   "source": [
    "data.Period_YYYYMMDD.map(str).map(len).unique()"
   ]
  },
  {
   "cell_type": "markdown",
   "metadata": {
    "slideshow": {
     "slide_type": "subslide"
    }
   },
   "source": [
    "** Updateting via list comprehension** "
   ]
  },
  {
   "cell_type": "code",
   "execution_count": 28,
   "metadata": {
    "slideshow": {
     "slide_type": "fragment"
    }
   },
   "outputs": [],
   "source": [
    "data.Period = [pd.to_datetime(i, format='%Y%m%d') for i in data.Period_YYYYMMDD]"
   ]
  },
  {
   "cell_type": "markdown",
   "metadata": {
    "slideshow": {
     "slide_type": "subslide"
    }
   },
   "source": [
    "** Creating periods **"
   ]
  },
  {
   "cell_type": "code",
   "execution_count": 29,
   "metadata": {
    "slideshow": {
     "slide_type": "fragment"
    }
   },
   "outputs": [],
   "source": [
    "data['month'] = [date.month for date in data.Period]"
   ]
  },
  {
   "cell_type": "code",
   "execution_count": 30,
   "metadata": {
    "slideshow": {
     "slide_type": "fragment"
    }
   },
   "outputs": [],
   "source": [
    "data['day'] = [date.day for date in data.Period]"
   ]
  },
  {
   "cell_type": "code",
   "execution_count": 31,
   "metadata": {
    "slideshow": {
     "slide_type": "fragment"
    }
   },
   "outputs": [],
   "source": [
    "data['year'] = [date.year for date in data.Period]"
   ]
  },
  {
   "cell_type": "code",
   "execution_count": 32,
   "metadata": {
    "slideshow": {
     "slide_type": "fragment"
    }
   },
   "outputs": [
    {
     "data": {
      "text/plain": [
       "count                   38115\n",
       "unique                     61\n",
       "top       2018-04-04 00:00:00\n",
       "freq                      630\n",
       "first     2014-12-31 00:00:00\n",
       "last      2018-12-26 00:00:00\n",
       "Name: Period, dtype: object"
      ]
     },
     "execution_count": 32,
     "metadata": {},
     "output_type": "execute_result"
    }
   ],
   "source": [
    "data.Period.describe()"
   ]
  },
  {
   "cell_type": "markdown",
   "metadata": {},
   "source": [
    "---\n",
    "### 3.2. Data Transformations\n",
    "<a id=\"3.2\">"
   ]
  },
  {
   "cell_type": "markdown",
   "metadata": {
    "slideshow": {
     "slide_type": "fragment"
    }
   },
   "source": [
    "Supose it is needed a subset of the dataset"
   ]
  },
  {
   "cell_type": "code",
   "execution_count": 33,
   "metadata": {
    "slideshow": {
     "slide_type": "fragment"
    }
   },
   "outputs": [
    {
     "data": {
      "text/plain": [
       "array(['Industrials', 'Utilities', 'Information Technology',\n",
       "       'Health Care', 'Financials', 'Consumer Staples',\n",
       "       'Consumer Discretionary', 'Materials', 'Energy',\n",
       "       'Communication Services', 'Real Estate'], dtype=object)"
      ]
     },
     "execution_count": 33,
     "metadata": {},
     "output_type": "execute_result"
    }
   ],
   "source": [
    "data.GICS_Sector.unique()"
   ]
  },
  {
   "cell_type": "markdown",
   "metadata": {
    "slideshow": {
     "slide_type": "subslide"
    }
   },
   "source": [
    "** Slicing with logical operations **"
   ]
  },
  {
   "cell_type": "code",
   "execution_count": 34,
   "metadata": {
    "slideshow": {
     "slide_type": "fragment"
    }
   },
   "outputs": [],
   "source": [
    "IT_2018_df = data[(data.GICS_Sector == 'Information Technology') & (data.year == 2018)]"
   ]
  },
  {
   "cell_type": "markdown",
   "metadata": {
    "slideshow": {
     "slide_type": "subslide"
    }
   },
   "source": [
    "** Columns selection **"
   ]
  },
  {
   "cell_type": "code",
   "execution_count": 35,
   "metadata": {
    "slideshow": {
     "slide_type": "fragment"
    }
   },
   "outputs": [
    {
     "data": {
      "text/plain": [
       "Index(['Identifier', 'Name', 'Period', 'Period_YYYYMMDD', 'Ticker',\n",
       "       'Universe_Returns_F1W', 'Universe_Returns_F4W', 'Universe_Returns_F12W',\n",
       "       'Weight', 'GICS_Sector', 'GICS_Ind_Grp', 'Market_Cap_USD', 'Price_USD',\n",
       "       'NTM_EP', 'LTM_ROA', 'BP', 'LTM_EP', '5Y_Sales_Growth', 'month', 'day',\n",
       "       'year'],\n",
       "      dtype='object')"
      ]
     },
     "execution_count": 35,
     "metadata": {},
     "output_type": "execute_result"
    }
   ],
   "source": [
    "IT_2018_df.columns"
   ]
  },
  {
   "cell_type": "markdown",
   "metadata": {
    "slideshow": {
     "slide_type": "subslide"
    }
   },
   "source": [
    "** Explicit**"
   ]
  },
  {
   "cell_type": "code",
   "execution_count": 36,
   "metadata": {
    "slideshow": {
     "slide_type": "fragment"
    }
   },
   "outputs": [],
   "source": [
    "IT_2018_df_ = IT_2018_df[['Ticker','Name','Period','Price_USD']]"
   ]
  },
  {
   "cell_type": "markdown",
   "metadata": {
    "slideshow": {
     "slide_type": "subslide"
    }
   },
   "source": [
    "** Range **"
   ]
  },
  {
   "cell_type": "code",
   "execution_count": 37,
   "metadata": {
    "slideshow": {
     "slide_type": "fragment"
    }
   },
   "outputs": [
    {
     "data": {
      "text/html": [
       "<div>\n",
       "<style scoped>\n",
       "    .dataframe tbody tr th:only-of-type {\n",
       "        vertical-align: middle;\n",
       "    }\n",
       "\n",
       "    .dataframe tbody tr th {\n",
       "        vertical-align: top;\n",
       "    }\n",
       "\n",
       "    .dataframe thead th {\n",
       "        text-align: right;\n",
       "    }\n",
       "</style>\n",
       "<table border=\"1\" class=\"dataframe\">\n",
       "  <thead>\n",
       "    <tr style=\"text-align: right;\">\n",
       "      <th></th>\n",
       "      <th>Period</th>\n",
       "      <th>Period_YYYYMMDD</th>\n",
       "      <th>Ticker</th>\n",
       "      <th>Universe_Returns_F1W</th>\n",
       "    </tr>\n",
       "  </thead>\n",
       "  <tbody>\n",
       "    <tr>\n",
       "      <th>5668</th>\n",
       "      <td>2018-01-03</td>\n",
       "      <td>20180103</td>\n",
       "      <td>ANSS-US</td>\n",
       "      <td>0.455689</td>\n",
       "    </tr>\n",
       "    <tr>\n",
       "      <th>5676</th>\n",
       "      <td>2018-01-03</td>\n",
       "      <td>20180103</td>\n",
       "      <td>ADSK-US</td>\n",
       "      <td>1.910770</td>\n",
       "    </tr>\n",
       "    <tr>\n",
       "      <th>5680</th>\n",
       "      <td>2018-01-03</td>\n",
       "      <td>20180103</td>\n",
       "      <td>ADI-US</td>\n",
       "      <td>-1.411378</td>\n",
       "    </tr>\n",
       "    <tr>\n",
       "      <th>5686</th>\n",
       "      <td>2018-01-03</td>\n",
       "      <td>20180103</td>\n",
       "      <td>SYMC-US</td>\n",
       "      <td>-0.864750</td>\n",
       "    </tr>\n",
       "    <tr>\n",
       "      <th>5690</th>\n",
       "      <td>2018-01-03</td>\n",
       "      <td>20180103</td>\n",
       "      <td>XLNX-US</td>\n",
       "      <td>7.019067</td>\n",
       "    </tr>\n",
       "  </tbody>\n",
       "</table>\n",
       "</div>"
      ],
      "text/plain": [
       "         Period  Period_YYYYMMDD   Ticker  Universe_Returns_F1W\n",
       "5668 2018-01-03         20180103  ANSS-US              0.455689\n",
       "5676 2018-01-03         20180103  ADSK-US              1.910770\n",
       "5680 2018-01-03         20180103   ADI-US             -1.411378\n",
       "5686 2018-01-03         20180103  SYMC-US             -0.864750\n",
       "5690 2018-01-03         20180103  XLNX-US              7.019067"
      ]
     },
     "execution_count": 37,
     "metadata": {},
     "output_type": "execute_result"
    }
   ],
   "source": [
    "IT_2018_df[IT_2018_df.columns[2:6]].head()"
   ]
  },
  {
   "cell_type": "markdown",
   "metadata": {
    "slideshow": {
     "slide_type": "subslide"
    }
   },
   "source": [
    "** Exception **"
   ]
  },
  {
   "cell_type": "code",
   "execution_count": 38,
   "metadata": {
    "slideshow": {
     "slide_type": "fragment"
    }
   },
   "outputs": [
    {
     "data": {
      "text/html": [
       "<div>\n",
       "<style scoped>\n",
       "    .dataframe tbody tr th:only-of-type {\n",
       "        vertical-align: middle;\n",
       "    }\n",
       "\n",
       "    .dataframe tbody tr th {\n",
       "        vertical-align: top;\n",
       "    }\n",
       "\n",
       "    .dataframe thead th {\n",
       "        text-align: right;\n",
       "    }\n",
       "</style>\n",
       "<table border=\"1\" class=\"dataframe\">\n",
       "  <thead>\n",
       "    <tr style=\"text-align: right;\">\n",
       "      <th></th>\n",
       "      <th>Ticker</th>\n",
       "      <th>Name</th>\n",
       "      <th>Period</th>\n",
       "      <th>Price_USD</th>\n",
       "    </tr>\n",
       "  </thead>\n",
       "  <tbody>\n",
       "    <tr>\n",
       "      <th>5668</th>\n",
       "      <td>ANSS-US</td>\n",
       "      <td>ANSYS Inc.</td>\n",
       "      <td>2018-01-03</td>\n",
       "      <td>151.42</td>\n",
       "    </tr>\n",
       "    <tr>\n",
       "      <th>5676</th>\n",
       "      <td>ADSK-US</td>\n",
       "      <td>Autodesk Inc.</td>\n",
       "      <td>2018-01-03</td>\n",
       "      <td>109.38</td>\n",
       "    </tr>\n",
       "    <tr>\n",
       "      <th>5680</th>\n",
       "      <td>ADI-US</td>\n",
       "      <td>Analog Devices Inc.</td>\n",
       "      <td>2018-01-03</td>\n",
       "      <td>91.40</td>\n",
       "    </tr>\n",
       "    <tr>\n",
       "      <th>5686</th>\n",
       "      <td>SYMC-US</td>\n",
       "      <td>Symantec Corporation</td>\n",
       "      <td>2018-01-03</td>\n",
       "      <td>28.91</td>\n",
       "    </tr>\n",
       "    <tr>\n",
       "      <th>5690</th>\n",
       "      <td>XLNX-US</td>\n",
       "      <td>Xilinx Inc.</td>\n",
       "      <td>2018-01-03</td>\n",
       "      <td>69.24</td>\n",
       "    </tr>\n",
       "  </tbody>\n",
       "</table>\n",
       "</div>"
      ],
      "text/plain": [
       "       Ticker                  Name     Period  Price_USD\n",
       "5668  ANSS-US            ANSYS Inc. 2018-01-03     151.42\n",
       "5676  ADSK-US         Autodesk Inc. 2018-01-03     109.38\n",
       "5680   ADI-US   Analog Devices Inc. 2018-01-03      91.40\n",
       "5686  SYMC-US  Symantec Corporation 2018-01-03      28.91\n",
       "5690  XLNX-US           Xilinx Inc. 2018-01-03      69.24"
      ]
     },
     "execution_count": 38,
     "metadata": {},
     "output_type": "execute_result"
    }
   ],
   "source": [
    "IT_2018_df_.iloc[:,~IT_2018_df_.columns.isin(['index','Period_YYYYMMDD','month','day','year'])].head()"
   ]
  },
  {
   "cell_type": "markdown",
   "metadata": {
    "slideshow": {
     "slide_type": "subslide"
    }
   },
   "source": [
    "** Pivoting **"
   ]
  },
  {
   "cell_type": "code",
   "execution_count": 39,
   "metadata": {
    "slideshow": {
     "slide_type": "fragment"
    }
   },
   "outputs": [],
   "source": [
    "summary_IT = pd.pivot_table(IT_2018_df_, index='Name', columns='Period')"
   ]
  },
  {
   "cell_type": "markdown",
   "metadata": {
    "slideshow": {
     "slide_type": "subslide"
    }
   },
   "source": [
    "** Transposing **"
   ]
  },
  {
   "cell_type": "code",
   "execution_count": 40,
   "metadata": {
    "slideshow": {
     "slide_type": "fragment"
    }
   },
   "outputs": [],
   "source": [
    "transposed = summary_IT.T"
   ]
  },
  {
   "cell_type": "code",
   "execution_count": 41,
   "metadata": {
    "slideshow": {
     "slide_type": "fragment"
    }
   },
   "outputs": [
    {
     "data": {
      "text/html": [
       "<div>\n",
       "<style scoped>\n",
       "    .dataframe tbody tr th:only-of-type {\n",
       "        vertical-align: middle;\n",
       "    }\n",
       "\n",
       "    .dataframe tbody tr th {\n",
       "        vertical-align: top;\n",
       "    }\n",
       "\n",
       "    .dataframe thead th {\n",
       "        text-align: right;\n",
       "    }\n",
       "</style>\n",
       "<table border=\"1\" class=\"dataframe\">\n",
       "  <thead>\n",
       "    <tr style=\"text-align: right;\">\n",
       "      <th></th>\n",
       "      <th>Name</th>\n",
       "      <th>ANSYS Inc.</th>\n",
       "      <th>Accenture Plc Class A</th>\n",
       "      <th>Activision Blizzard Inc.</th>\n",
       "      <th>Adobe Inc.</th>\n",
       "      <th>Advanced Micro Devices Inc.</th>\n",
       "      <th>Akamai Technologies Inc.</th>\n",
       "      <th>Alliance Data Systems Corporation</th>\n",
       "      <th>Alphabet Inc. Class A</th>\n",
       "      <th>Alphabet Inc. Class C</th>\n",
       "      <th>Amphenol Corporation Class A</th>\n",
       "      <th>...</th>\n",
       "      <th>Visa Inc. Class A</th>\n",
       "      <th>Western Digital Corporation</th>\n",
       "      <th>Western Union Company</th>\n",
       "      <th>Workday Inc. Class A</th>\n",
       "      <th>Worldpay Inc. Class A</th>\n",
       "      <th>Xerox Corporation</th>\n",
       "      <th>Xilinx Inc.</th>\n",
       "      <th>Zillow Group Inc. Class C</th>\n",
       "      <th>eBay Inc.</th>\n",
       "      <th>salesforce.com inc.</th>\n",
       "    </tr>\n",
       "    <tr>\n",
       "      <th></th>\n",
       "      <th>Period</th>\n",
       "      <th></th>\n",
       "      <th></th>\n",
       "      <th></th>\n",
       "      <th></th>\n",
       "      <th></th>\n",
       "      <th></th>\n",
       "      <th></th>\n",
       "      <th></th>\n",
       "      <th></th>\n",
       "      <th></th>\n",
       "      <th></th>\n",
       "      <th></th>\n",
       "      <th></th>\n",
       "      <th></th>\n",
       "      <th></th>\n",
       "      <th></th>\n",
       "      <th></th>\n",
       "      <th></th>\n",
       "      <th></th>\n",
       "      <th></th>\n",
       "      <th></th>\n",
       "    </tr>\n",
       "  </thead>\n",
       "  <tbody>\n",
       "    <tr>\n",
       "      <th rowspan=\"5\" valign=\"top\">Price_USD</th>\n",
       "      <th>2018-01-03</th>\n",
       "      <td>151.42</td>\n",
       "      <td>154.55</td>\n",
       "      <td>65.31</td>\n",
       "      <td>181.04</td>\n",
       "      <td>11.55</td>\n",
       "      <td>65.94</td>\n",
       "      <td>260.07</td>\n",
       "      <td>1091.52</td>\n",
       "      <td>1082.48</td>\n",
       "      <td>88.94</td>\n",
       "      <td>...</td>\n",
       "      <td>115.65</td>\n",
       "      <td>82.67</td>\n",
       "      <td>19.07</td>\n",
       "      <td>105.17</td>\n",
       "      <td>74.32</td>\n",
       "      <td>29.33</td>\n",
       "      <td>69.24</td>\n",
       "      <td>42.97</td>\n",
       "      <td>39.22</td>\n",
       "      <td>105.29</td>\n",
       "    </tr>\n",
       "    <tr>\n",
       "      <th>2018-01-10</th>\n",
       "      <td>152.11</td>\n",
       "      <td>158.90</td>\n",
       "      <td>66.83</td>\n",
       "      <td>187.11</td>\n",
       "      <td>11.96</td>\n",
       "      <td>66.33</td>\n",
       "      <td>272.09</td>\n",
       "      <td>1110.14</td>\n",
       "      <td>1102.61</td>\n",
       "      <td>89.51</td>\n",
       "      <td>...</td>\n",
       "      <td>118.98</td>\n",
       "      <td>80.91</td>\n",
       "      <td>21.23</td>\n",
       "      <td>114.14</td>\n",
       "      <td>75.71</td>\n",
       "      <td>30.35</td>\n",
       "      <td>74.10</td>\n",
       "      <td>42.50</td>\n",
       "      <td>37.70</td>\n",
       "      <td>108.80</td>\n",
       "    </tr>\n",
       "    <tr>\n",
       "      <th>2018-01-17</th>\n",
       "      <td>155.75</td>\n",
       "      <td>160.21</td>\n",
       "      <td>70.36</td>\n",
       "      <td>196.49</td>\n",
       "      <td>12.18</td>\n",
       "      <td>65.40</td>\n",
       "      <td>258.26</td>\n",
       "      <td>1139.10</td>\n",
       "      <td>1131.98</td>\n",
       "      <td>92.85</td>\n",
       "      <td>...</td>\n",
       "      <td>121.98</td>\n",
       "      <td>85.16</td>\n",
       "      <td>20.24</td>\n",
       "      <td>112.26</td>\n",
       "      <td>77.89</td>\n",
       "      <td>31.92</td>\n",
       "      <td>75.86</td>\n",
       "      <td>44.54</td>\n",
       "      <td>37.99</td>\n",
       "      <td>110.04</td>\n",
       "    </tr>\n",
       "    <tr>\n",
       "      <th>2018-01-24</th>\n",
       "      <td>161.54</td>\n",
       "      <td>160.60</td>\n",
       "      <td>70.08</td>\n",
       "      <td>197.78</td>\n",
       "      <td>12.71</td>\n",
       "      <td>66.02</td>\n",
       "      <td>259.49</td>\n",
       "      <td>1171.29</td>\n",
       "      <td>1164.24</td>\n",
       "      <td>91.20</td>\n",
       "      <td>...</td>\n",
       "      <td>124.55</td>\n",
       "      <td>86.97</td>\n",
       "      <td>20.52</td>\n",
       "      <td>115.87</td>\n",
       "      <td>79.63</td>\n",
       "      <td>32.36</td>\n",
       "      <td>73.48</td>\n",
       "      <td>43.72</td>\n",
       "      <td>39.82</td>\n",
       "      <td>112.85</td>\n",
       "    </tr>\n",
       "    <tr>\n",
       "      <th>2018-01-31</th>\n",
       "      <td>161.65</td>\n",
       "      <td>160.70</td>\n",
       "      <td>74.13</td>\n",
       "      <td>199.76</td>\n",
       "      <td>13.74</td>\n",
       "      <td>66.99</td>\n",
       "      <td>256.66</td>\n",
       "      <td>1182.22</td>\n",
       "      <td>1169.94</td>\n",
       "      <td>92.77</td>\n",
       "      <td>...</td>\n",
       "      <td>124.23</td>\n",
       "      <td>88.98</td>\n",
       "      <td>20.79</td>\n",
       "      <td>119.89</td>\n",
       "      <td>80.31</td>\n",
       "      <td>34.13</td>\n",
       "      <td>73.02</td>\n",
       "      <td>44.46</td>\n",
       "      <td>40.58</td>\n",
       "      <td>113.91</td>\n",
       "    </tr>\n",
       "  </tbody>\n",
       "</table>\n",
       "<p>5 rows × 105 columns</p>\n",
       "</div>"
      ],
      "text/plain": [
       "Name                  ANSYS Inc.  Accenture Plc Class A  \\\n",
       "          Period                                          \n",
       "Price_USD 2018-01-03      151.42                 154.55   \n",
       "          2018-01-10      152.11                 158.90   \n",
       "          2018-01-17      155.75                 160.21   \n",
       "          2018-01-24      161.54                 160.60   \n",
       "          2018-01-31      161.65                 160.70   \n",
       "\n",
       "Name                  Activision Blizzard Inc.  Adobe Inc.  \\\n",
       "          Period                                             \n",
       "Price_USD 2018-01-03                     65.31      181.04   \n",
       "          2018-01-10                     66.83      187.11   \n",
       "          2018-01-17                     70.36      196.49   \n",
       "          2018-01-24                     70.08      197.78   \n",
       "          2018-01-31                     74.13      199.76   \n",
       "\n",
       "Name                  Advanced Micro Devices Inc.  Akamai Technologies Inc.  \\\n",
       "          Period                                                              \n",
       "Price_USD 2018-01-03                        11.55                     65.94   \n",
       "          2018-01-10                        11.96                     66.33   \n",
       "          2018-01-17                        12.18                     65.40   \n",
       "          2018-01-24                        12.71                     66.02   \n",
       "          2018-01-31                        13.74                     66.99   \n",
       "\n",
       "Name                  Alliance Data Systems Corporation  \\\n",
       "          Period                                          \n",
       "Price_USD 2018-01-03                             260.07   \n",
       "          2018-01-10                             272.09   \n",
       "          2018-01-17                             258.26   \n",
       "          2018-01-24                             259.49   \n",
       "          2018-01-31                             256.66   \n",
       "\n",
       "Name                  Alphabet Inc. Class A  Alphabet Inc. Class C  \\\n",
       "          Period                                                     \n",
       "Price_USD 2018-01-03                1091.52                1082.48   \n",
       "          2018-01-10                1110.14                1102.61   \n",
       "          2018-01-17                1139.10                1131.98   \n",
       "          2018-01-24                1171.29                1164.24   \n",
       "          2018-01-31                1182.22                1169.94   \n",
       "\n",
       "Name                  Amphenol Corporation Class A  ...  Visa Inc. Class A  \\\n",
       "          Period                                    ...                      \n",
       "Price_USD 2018-01-03                         88.94  ...             115.65   \n",
       "          2018-01-10                         89.51  ...             118.98   \n",
       "          2018-01-17                         92.85  ...             121.98   \n",
       "          2018-01-24                         91.20  ...             124.55   \n",
       "          2018-01-31                         92.77  ...             124.23   \n",
       "\n",
       "Name                  Western Digital Corporation  Western Union Company  \\\n",
       "          Period                                                           \n",
       "Price_USD 2018-01-03                        82.67                  19.07   \n",
       "          2018-01-10                        80.91                  21.23   \n",
       "          2018-01-17                        85.16                  20.24   \n",
       "          2018-01-24                        86.97                  20.52   \n",
       "          2018-01-31                        88.98                  20.79   \n",
       "\n",
       "Name                  Workday Inc. Class A  Worldpay Inc. Class A  \\\n",
       "          Period                                                    \n",
       "Price_USD 2018-01-03                105.17                  74.32   \n",
       "          2018-01-10                114.14                  75.71   \n",
       "          2018-01-17                112.26                  77.89   \n",
       "          2018-01-24                115.87                  79.63   \n",
       "          2018-01-31                119.89                  80.31   \n",
       "\n",
       "Name                  Xerox Corporation  Xilinx Inc.  \\\n",
       "          Period                                       \n",
       "Price_USD 2018-01-03              29.33        69.24   \n",
       "          2018-01-10              30.35        74.10   \n",
       "          2018-01-17              31.92        75.86   \n",
       "          2018-01-24              32.36        73.48   \n",
       "          2018-01-31              34.13        73.02   \n",
       "\n",
       "Name                  Zillow Group Inc. Class C  eBay Inc.  \\\n",
       "          Period                                             \n",
       "Price_USD 2018-01-03                      42.97      39.22   \n",
       "          2018-01-10                      42.50      37.70   \n",
       "          2018-01-17                      44.54      37.99   \n",
       "          2018-01-24                      43.72      39.82   \n",
       "          2018-01-31                      44.46      40.58   \n",
       "\n",
       "Name                  salesforce.com inc.  \n",
       "          Period                           \n",
       "Price_USD 2018-01-03               105.29  \n",
       "          2018-01-10               108.80  \n",
       "          2018-01-17               110.04  \n",
       "          2018-01-24               112.85  \n",
       "          2018-01-31               113.91  \n",
       "\n",
       "[5 rows x 105 columns]"
      ]
     },
     "execution_count": 41,
     "metadata": {},
     "output_type": "execute_result"
    }
   ],
   "source": [
    "transposed.head()"
   ]
  },
  {
   "cell_type": "markdown",
   "metadata": {
    "slideshow": {
     "slide_type": "subslide"
    }
   },
   "source": [
    "## Write to file"
   ]
  },
  {
   "cell_type": "code",
   "execution_count": 42,
   "metadata": {
    "slideshow": {
     "slide_type": "fragment"
    }
   },
   "outputs": [],
   "source": [
    "transposed.to_csv('name_of_file.csv')"
   ]
  },
  {
   "cell_type": "code",
   "execution_count": 43,
   "metadata": {
    "slideshow": {
     "slide_type": "fragment"
    }
   },
   "outputs": [],
   "source": [
    "!rm name_of_file.csv"
   ]
  },
  {
   "cell_type": "markdown",
   "metadata": {
    "slideshow": {
     "slide_type": "slide"
    }
   },
   "source": [
    "## Adding Features\n",
    "\n",
    "We can always extend the knowledge of the dataset, spliting apart or creating new variables"
   ]
  },
  {
   "cell_type": "markdown",
   "metadata": {
    "slideshow": {
     "slide_type": "subslide"
    }
   },
   "source": [
    "** Labeling **"
   ]
  },
  {
   "cell_type": "code",
   "execution_count": 44,
   "metadata": {
    "slideshow": {
     "slide_type": "fragment"
    }
   },
   "outputs": [],
   "source": [
    "market_label = []\n",
    "for i in data.Market_Cap_USD:\n",
    "    if i >= 38000:\n",
    "        market_label.append('>38')\n",
    "    elif (i < 38000) | (i > 20000):\n",
    "        market_label.append('<28 & >20')\n",
    "    else:\n",
    "        market_label.append('<20')"
   ]
  },
  {
   "cell_type": "code",
   "execution_count": 45,
   "metadata": {
    "slideshow": {
     "slide_type": "fragment"
    }
   },
   "outputs": [],
   "source": [
    "data['market_label'] = market_label"
   ]
  },
  {
   "cell_type": "markdown",
   "metadata": {
    "slideshow": {
     "slide_type": "subslide"
    }
   },
   "source": [
    "** Opeations **"
   ]
  },
  {
   "cell_type": "code",
   "execution_count": 46,
   "metadata": {
    "slideshow": {
     "slide_type": "fragment"
    }
   },
   "outputs": [],
   "source": [
    "data['LTM_AVG'] = (data.LTM_ROA + data.LTM_EP) /2"
   ]
  },
  {
   "cell_type": "markdown",
   "metadata": {
    "slideshow": {
     "slide_type": "subslide"
    }
   },
   "source": [
    "** Fixed values **"
   ]
  },
  {
   "cell_type": "code",
   "execution_count": 47,
   "metadata": {
    "slideshow": {
     "slide_type": "fragment"
    }
   },
   "outputs": [],
   "source": [
    "data['extra'] = ['extra'] * len(data)"
   ]
  },
  {
   "cell_type": "markdown",
   "metadata": {
    "slideshow": {
     "slide_type": "subslide"
    }
   },
   "source": [
    "** Aggregations **"
   ]
  },
  {
   "cell_type": "code",
   "execution_count": 48,
   "metadata": {
    "slideshow": {
     "slide_type": "fragment"
    }
   },
   "outputs": [],
   "source": [
    "year_distr = data.groupby('year').count()['Identifier'].reset_index().sort_values('year')"
   ]
  },
  {
   "cell_type": "code",
   "execution_count": 49,
   "metadata": {
    "slideshow": {
     "slide_type": "subslide"
    }
   },
   "outputs": [],
   "source": [
    "year_distr['relative'] = year_distr.Identifier / year_distr.Identifier.sum() *100"
   ]
  },
  {
   "cell_type": "markdown",
   "metadata": {
    "slideshow": {
     "slide_type": "subslide"
    }
   },
   "source": [
    "** Sorting **"
   ]
  },
  {
   "cell_type": "code",
   "execution_count": 50,
   "metadata": {
    "slideshow": {
     "slide_type": "fragment"
    }
   },
   "outputs": [
    {
     "data": {
      "text/plain": [
       "Identifier\n",
       "Y2573F10    61\n",
       "14365830    61\n",
       "55002110    61\n",
       "55261F10    61\n",
       "15678210    61\n",
       "Name: Name, dtype: int64"
      ]
     },
     "execution_count": 50,
     "metadata": {},
     "output_type": "execute_result"
    }
   ],
   "source": [
    "data.groupby('Identifier').count()['Name'].sort_values(ascending=False).head()"
   ]
  },
  {
   "cell_type": "markdown",
   "metadata": {
    "slideshow": {
     "slide_type": "subslide"
    }
   },
   "source": [
    "** Merging **"
   ]
  },
  {
   "cell_type": "code",
   "execution_count": 51,
   "metadata": {
    "slideshow": {
     "slide_type": "fragment"
    }
   },
   "outputs": [],
   "source": [
    "df_Y2573F10 = data[data.Identifier == 'Y2573F10']"
   ]
  },
  {
   "cell_type": "code",
   "execution_count": 52,
   "metadata": {
    "slideshow": {
     "slide_type": "fragment"
    }
   },
   "outputs": [],
   "source": [
    "df_Y2573F10 = df_Y2573F10[['Period','Market_Cap_USD','Name']]"
   ]
  },
  {
   "cell_type": "code",
   "execution_count": 53,
   "metadata": {
    "slideshow": {
     "slide_type": "fragment"
    }
   },
   "outputs": [],
   "source": [
    "df_14365830 = data[data.Identifier == '14365830']"
   ]
  },
  {
   "cell_type": "code",
   "execution_count": 54,
   "metadata": {
    "slideshow": {
     "slide_type": "fragment"
    }
   },
   "outputs": [],
   "source": [
    "df_14365830 = df_14365830[['Period','Market_Cap_USD','Name']]"
   ]
  },
  {
   "cell_type": "code",
   "execution_count": 55,
   "metadata": {
    "slideshow": {
     "slide_type": "fragment"
    }
   },
   "outputs": [],
   "source": [
    "portfolio_two = pd.merge(df_Y2573F10, df_14365830, on='Period', how='inner')"
   ]
  },
  {
   "cell_type": "code",
   "execution_count": 56,
   "metadata": {
    "slideshow": {
     "slide_type": "slide"
    }
   },
   "outputs": [
    {
     "data": {
      "text/plain": [
       "<matplotlib.axes._subplots.AxesSubplot at 0x11debd320>"
      ]
     },
     "execution_count": 56,
     "metadata": {},
     "output_type": "execute_result"
    },
    {
     "data": {
      "image/png": "[encoded data removed]",
      "text/plain": [
       "<Figure size 432x288 with 1 Axes>"
      ]
     },
     "metadata": {
      "needs_background": "light"
     },
     "output_type": "display_data"
    }
   ],
   "source": [
    "import matplotlib.pyplot as plt\n",
    "%matplotlib inline\n",
    "portfolio_two._get_numeric_data().plot()"
   ]
  },
  {
   "cell_type": "markdown",
   "metadata": {
    "slideshow": {
     "slide_type": "slide"
    }
   },
   "source": [
    "### Writing files"
   ]
  },
  {
   "cell_type": "code",
   "execution_count": 57,
   "metadata": {
    "slideshow": {
     "slide_type": "fragment"
    }
   },
   "outputs": [],
   "source": [
    "excelbook = pd.ExcelWriter('output.xlsx')"
   ]
  },
  {
   "cell_type": "code",
   "execution_count": 58,
   "metadata": {
    "slideshow": {
     "slide_type": "fragment"
    }
   },
   "outputs": [],
   "source": [
    "portfolio_two.to_excel(excelbook, 'sheet1')\n",
    "portfolio_two.to_excel(excelbook, 'sheet2')\n",
    "excelbook.save()"
   ]
  },
  {
   "cell_type": "markdown",
   "metadata": {
    "colab_type": "text",
    "id": "i-4QaTUtr10F",
    "slideshow": {
     "slide_type": "subslide"
    }
   },
   "source": [
    "Pandas, overall, is one of the reason why Python is such a great software. \n",
    "There are many other interesting pandas features I could have shown, but it’s already enough to understand why a data scientist cannot do without pandas. To sum up, pandas is simple to use, hiding all the complex and abstract computations behind (generally) intuitive fast, if not the fastest data analysis package (it highly optimized in C) It is THE tool that helps a data scientist to quickly read and understand data and be more efficient at his role."
   ]
  },
  {
   "cell_type": "markdown",
   "metadata": {
    "slideshow": {
     "slide_type": "slide"
    }
   },
   "source": [
    "### Data Exploration"
   ]
  },
  {
   "cell_type": "markdown",
   "metadata": {
    "slideshow": {
     "slide_type": "fragment"
    }
   },
   "source": [
    "Data Dimension Milestones\n",
    "\n",
    "- Data shape\n",
    "- Datasets Treatment  \n",
    "- Variables Analysis  \n",
    "- Descriptive Statistics  "
   ]
  },
  {
   "cell_type": "code",
   "execution_count": null,
   "metadata": {
    "slideshow": {
     "slide_type": "subslide"
    }
   },
   "outputs": [],
   "source": [
    "tuples = []\n",
    "for column in data.columns:\n",
    "    tuples.append((column, data[str(column)].map(type).unique()))"
   ]
  },
  {
   "cell_type": "code",
   "execution_count": null,
   "metadata": {
    "slideshow": {
     "slide_type": "subslide"
    }
   },
   "outputs": [],
   "source": [
    "year_distr =data.groupby('year').count()['Identifier'].reset_index().sort_values('year')"
   ]
  },
  {
   "cell_type": "code",
   "execution_count": null,
   "metadata": {
    "slideshow": {
     "slide_type": "fragment"
    }
   },
   "outputs": [],
   "source": [
    "year_distr['relative'] = year_distr.Identifier / year_distr.Identifier.sum() *100"
   ]
  },
  {
   "cell_type": "markdown",
   "metadata": {
    "slideshow": {
     "slide_type": "subslide"
    }
   },
   "source": [
    "** Uniqueness **"
   ]
  },
  {
   "cell_type": "code",
   "execution_count": null,
   "metadata": {
    "slideshow": {
     "slide_type": "fragment"
    }
   },
   "outputs": [],
   "source": [
    "sector = data.GICS_Sector.unique()"
   ]
  },
  {
   "cell_type": "code",
   "execution_count": null,
   "metadata": {
    "slideshow": {
     "slide_type": "fragment"
    }
   },
   "outputs": [],
   "source": [
    "print(len(sector), sector)"
   ]
  },
  {
   "cell_type": "code",
   "execution_count": null,
   "metadata": {
    "slideshow": {
     "slide_type": "subslide"
    }
   },
   "outputs": [],
   "source": [
    "plt.barh(df_sector.GICS_Sector, df_sector.relative)"
   ]
  },
  {
   "cell_type": "markdown",
   "metadata": {
    "slideshow": {
     "slide_type": "subslide"
    }
   },
   "source": [
    "#### Now with the other category"
   ]
  },
  {
   "cell_type": "code",
   "execution_count": null,
   "metadata": {
    "slideshow": {
     "slide_type": "fragment"
    }
   },
   "outputs": [],
   "source": [
    "df_ind_grp = data.groupby('GICS_Ind_Grp').count()['Identifier'].reset_index().sort_values(by='Identifier')"
   ]
  },
  {
   "cell_type": "code",
   "execution_count": null,
   "metadata": {
    "slideshow": {
     "slide_type": "fragment"
    }
   },
   "outputs": [],
   "source": [
    "plt.figure(figsize=(10,7))\n",
    "plt.barh(df_ind_grp.GICS_Ind_Grp,df_ind_grp.Identifier)"
   ]
  },
  {
   "cell_type": "markdown",
   "metadata": {
    "slideshow": {
     "slide_type": "subslide"
    }
   },
   "source": [
    "#### Now we go with the continous variables"
   ]
  },
  {
   "cell_type": "code",
   "execution_count": null,
   "metadata": {
    "slideshow": {
     "slide_type": "fragment"
    }
   },
   "outputs": [],
   "source": [
    "df_assets.Price_USD.mean()"
   ]
  },
  {
   "cell_type": "code",
   "execution_count": null,
   "metadata": {
    "slideshow": {
     "slide_type": "fragment"
    }
   },
   "outputs": [],
   "source": [
    "df_assets.Price_USD.std()"
   ]
  },
  {
   "cell_type": "code",
   "execution_count": null,
   "metadata": {
    "slideshow": {
     "slide_type": "fragment"
    }
   },
   "outputs": [],
   "source": [
    "df_assets._get_numeric_data().describe().T"
   ]
  },
  {
   "cell_type": "markdown",
   "metadata": {
    "slideshow": {
     "slide_type": "subslide"
    }
   },
   "source": [
    "Let's take the market capital and plot it over the time"
   ]
  },
  {
   "cell_type": "code",
   "execution_count": null,
   "metadata": {
    "slideshow": {
     "slide_type": "fragment"
    }
   },
   "outputs": [],
   "source": [
    "df_assets.groupby('Period').mean()['Market_Cap_USD'].plot()"
   ]
  }
 ],
 "metadata": {
  "celltoolbar": "Slideshow",
  "kernelspec": {
   "display_name": "Python 3",
   "language": "python",
   "name": "python3"
  },
  "language_info": {
   "codemirror_mode": {
    "name": "ipython",
    "version": 3
   },
   "file_extension": ".py",
   "mimetype": "text/x-python",
   "name": "python",
   "nbconvert_exporter": "python",
   "pygments_lexer": "ipython3",
   "version": "3.7.3"
  }
 },
 "nbformat": 4,
 "nbformat_minor": 2
}
