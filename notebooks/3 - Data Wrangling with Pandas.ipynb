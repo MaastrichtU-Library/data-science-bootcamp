{
 "cells": [
  {
   "cell_type": "markdown",
   "metadata": {
    "slideshow": {
     "slide_type": "slide"
    }
   },
   "source": [
    "#### PGGM Data Science Bootcamp 2020\n",
    "*Notebook by [Pedro V Hernandez Serrano](https://github.com/pedrohserrano)*"
   ]
  },
  {
   "cell_type": "markdown",
   "metadata": {},
   "source": [
    "---\n",
    "![](../img/image_3.png)"
   ]
  },
  {
   "cell_type": "markdown",
   "metadata": {},
   "source": [
    "# 3. Data Wrangling with Pandas\n",
    "* [3.1. Pandas Functions](#3.1)\n",
    "* [3.2. Data Transformations](#3.2)\n",
    "\n",
    "---"
   ]
  },
  {
   "cell_type": "markdown",
   "metadata": {
    "colab_type": "text",
    "id": "cWBtBMlJEjpD",
    "slideshow": {
     "slide_type": "fragment"
    }
   },
   "source": [
    "**[Pandas](http://pandas.pydata.org)** is a Python library that provides extensive means for data analysis. Data scientists often work with data stored in table formats like `.csv`, `.tsv`, or `.xlsx`. Pandas makes it very convenient to load, process, and analyze such tabular data using SQL-like queries. In conjunction with `Matplotlib` and `Seaborn`, `Pandas` provides a wide range of opportunities for visual analysis of tabular data. \n",
    "\n",
    "The main data structures in `Pandas` are implemented with **Series** and **DataFrame** classes. The former is a one-dimensional indexed array of some fixed data type. The latter is a two-dimensional data structure - a table - where each column contains data of the same type. You can see it as a dictionary of `Series` instances. `DataFrames` are great for representing real data: rows correspond to instances (examples, observations, etc.), and columns correspond to features of these instances."
   ]
  },
  {
   "cell_type": "markdown",
   "metadata": {},
   "source": [
    "---\n",
    "### 3.1. Pandas Functions\n",
    "<a id=\"3.1\">"
   ]
  },
  {
   "cell_type": "code",
   "execution_count": 1,
   "metadata": {
    "slideshow": {
     "slide_type": "fragment"
    }
   },
   "outputs": [],
   "source": [
    "import pandas as pd"
   ]
  },
  {
   "cell_type": "markdown",
   "metadata": {
    "colab_type": "text",
    "id": "5LoG4cbMFjoo",
    "slideshow": {
     "slide_type": "fragment"
    }
   },
   "source": [
    "We’ll demonstrate the main methods in action by analyzing a sample dataset provided by PGGM. Let’s read the data (using `read_csv`), and take a look at the first 5 lines using the `head` method:"
   ]
  },
  {
   "cell_type": "code",
   "execution_count": 2,
   "metadata": {
    "slideshow": {
     "slide_type": "fragment"
    }
   },
   "outputs": [],
   "source": [
    "data = pd.read_csv('../datasets/pggm_dataset.csv')"
   ]
  },
  {
   "cell_type": "code",
   "execution_count": 3,
   "metadata": {},
   "outputs": [],
   "source": [
    "#dir(data) dataframe functions"
   ]
  },
  {
   "cell_type": "code",
   "execution_count": 4,
   "metadata": {},
   "outputs": [
    {
     "data": {
      "text/html": [
       "<div>\n",
       "<style scoped>\n",
       "    .dataframe tbody tr th:only-of-type {\n",
       "        vertical-align: middle;\n",
       "    }\n",
       "\n",
       "    .dataframe tbody tr th {\n",
       "        vertical-align: top;\n",
       "    }\n",
       "\n",
       "    .dataframe thead th {\n",
       "        text-align: right;\n",
       "    }\n",
       "</style>\n",
       "<table border=\"1\" class=\"dataframe\">\n",
       "  <thead>\n",
       "    <tr style=\"text-align: right;\">\n",
       "      <th></th>\n",
       "      <th>Identifier</th>\n",
       "      <th>Name</th>\n",
       "      <th>Period</th>\n",
       "      <th>Period_YYYYMMDD</th>\n",
       "      <th>Ticker</th>\n",
       "      <th>Universe_Returns_F1W</th>\n",
       "      <th>Universe_Returns_F4W</th>\n",
       "      <th>Universe_Returns_F12W</th>\n",
       "      <th>Weight</th>\n",
       "      <th>GICS_Sector</th>\n",
       "      <th>GICS_Ind_Grp</th>\n",
       "      <th>Market_Cap_USD</th>\n",
       "      <th>Price_USD</th>\n",
       "      <th>NTM_EP</th>\n",
       "      <th>LTM_ROA</th>\n",
       "      <th>BP</th>\n",
       "      <th>LTM_EP</th>\n",
       "      <th>5Y_Sales_Growth</th>\n",
       "    </tr>\n",
       "  </thead>\n",
       "  <tbody>\n",
       "    <tr>\n",
       "      <td>0</td>\n",
       "      <td>17290810</td>\n",
       "      <td>Cintas Corporation</td>\n",
       "      <td>12/31/2014</td>\n",
       "      <td>20141231</td>\n",
       "      <td>CTAS-US</td>\n",
       "      <td>-2.517855</td>\n",
       "      <td>-0.121111</td>\n",
       "      <td>4.156041</td>\n",
       "      <td>0.000402</td>\n",
       "      <td>Industrials</td>\n",
       "      <td>Commercial &amp; Professional Services</td>\n",
       "      <td>7761.12</td>\n",
       "      <td>78.44</td>\n",
       "      <td>0.044387</td>\n",
       "      <td>9.089989</td>\n",
       "      <td>0.246962</td>\n",
       "      <td>0.042708</td>\n",
       "      <td>4.718765</td>\n",
       "    </tr>\n",
       "  </tbody>\n",
       "</table>\n",
       "</div>"
      ],
      "text/plain": [
       "  Identifier                Name      Period  Period_YYYYMMDD   Ticker  \\\n",
       "0   17290810  Cintas Corporation  12/31/2014         20141231  CTAS-US   \n",
       "\n",
       "   Universe_Returns_F1W  Universe_Returns_F4W  Universe_Returns_F12W  \\\n",
       "0             -2.517855             -0.121111               4.156041   \n",
       "\n",
       "     Weight  GICS_Sector                        GICS_Ind_Grp  Market_Cap_USD  \\\n",
       "0  0.000402  Industrials  Commercial & Professional Services         7761.12   \n",
       "\n",
       "   Price_USD    NTM_EP   LTM_ROA        BP    LTM_EP  5Y_Sales_Growth  \n",
       "0      78.44  0.044387  9.089989  0.246962  0.042708         4.718765  "
      ]
     },
     "execution_count": 4,
     "metadata": {},
     "output_type": "execute_result"
    }
   ],
   "source": [
    "data.head(1)"
   ]
  },
  {
   "cell_type": "markdown",
   "metadata": {
    "slideshow": {
     "slide_type": "slide"
    }
   },
   "source": [
    "**Shape of the data**"
   ]
  },
  {
   "cell_type": "code",
   "execution_count": 5,
   "metadata": {
    "slideshow": {
     "slide_type": "fragment"
    }
   },
   "outputs": [
    {
     "data": {
      "text/plain": [
       "(38304, 18)"
      ]
     },
     "execution_count": 5,
     "metadata": {},
     "output_type": "execute_result"
    }
   ],
   "source": [
    "data.shape"
   ]
  },
  {
   "cell_type": "code",
   "execution_count": 6,
   "metadata": {
    "slideshow": {
     "slide_type": "fragment"
    }
   },
   "outputs": [
    {
     "data": {
      "text/html": [
       "<div>\n",
       "<style scoped>\n",
       "    .dataframe tbody tr th:only-of-type {\n",
       "        vertical-align: middle;\n",
       "    }\n",
       "\n",
       "    .dataframe tbody tr th {\n",
       "        vertical-align: top;\n",
       "    }\n",
       "\n",
       "    .dataframe thead th {\n",
       "        text-align: right;\n",
       "    }\n",
       "</style>\n",
       "<table border=\"1\" class=\"dataframe\">\n",
       "  <thead>\n",
       "    <tr style=\"text-align: right;\">\n",
       "      <th></th>\n",
       "      <th>Period_YYYYMMDD</th>\n",
       "      <th>Universe_Returns_F1W</th>\n",
       "      <th>Universe_Returns_F4W</th>\n",
       "      <th>Universe_Returns_F12W</th>\n",
       "      <th>Weight</th>\n",
       "      <th>Market_Cap_USD</th>\n",
       "      <th>Price_USD</th>\n",
       "      <th>NTM_EP</th>\n",
       "      <th>LTM_ROA</th>\n",
       "      <th>BP</th>\n",
       "      <th>LTM_EP</th>\n",
       "      <th>5Y_Sales_Growth</th>\n",
       "    </tr>\n",
       "  </thead>\n",
       "  <tbody>\n",
       "    <tr>\n",
       "      <td>count</td>\n",
       "      <td>3.830400e+04</td>\n",
       "      <td>38300.000000</td>\n",
       "      <td>38296.000000</td>\n",
       "      <td>38268.000000</td>\n",
       "      <td>38304.000000</td>\n",
       "      <td>3.830400e+04</td>\n",
       "      <td>38304.000000</td>\n",
       "      <td>38246.000000</td>\n",
       "      <td>38245.000000</td>\n",
       "      <td>38288.000000</td>\n",
       "      <td>38215.000000</td>\n",
       "      <td>38197.000000</td>\n",
       "    </tr>\n",
       "    <tr>\n",
       "      <td>mean</td>\n",
       "      <td>2.017809e+07</td>\n",
       "      <td>0.037778</td>\n",
       "      <td>-0.025070</td>\n",
       "      <td>-0.534635</td>\n",
       "      <td>0.001593</td>\n",
       "      <td>3.828089e+04</td>\n",
       "      <td>111.173980</td>\n",
       "      <td>0.060218</td>\n",
       "      <td>5.842138</td>\n",
       "      <td>0.365269</td>\n",
       "      <td>0.039273</td>\n",
       "      <td>16.717226</td>\n",
       "    </tr>\n",
       "    <tr>\n",
       "      <td>std</td>\n",
       "      <td>7.340507e+03</td>\n",
       "      <td>3.982946</td>\n",
       "      <td>7.509304</td>\n",
       "      <td>11.969478</td>\n",
       "      <td>0.003048</td>\n",
       "      <td>7.374643e+04</td>\n",
       "      <td>178.296736</td>\n",
       "      <td>0.031881</td>\n",
       "      <td>7.245260</td>\n",
       "      <td>0.308932</td>\n",
       "      <td>0.056394</td>\n",
       "      <td>312.939623</td>\n",
       "    </tr>\n",
       "    <tr>\n",
       "      <td>min</td>\n",
       "      <td>2.014123e+07</td>\n",
       "      <td>-47.561474</td>\n",
       "      <td>-67.705421</td>\n",
       "      <td>-68.235580</td>\n",
       "      <td>0.000069</td>\n",
       "      <td>1.432547e+03</td>\n",
       "      <td>3.410000</td>\n",
       "      <td>-0.346678</td>\n",
       "      <td>-80.447959</td>\n",
       "      <td>-0.896646</td>\n",
       "      <td>-1.689621</td>\n",
       "      <td>-100.000000</td>\n",
       "    </tr>\n",
       "    <tr>\n",
       "      <td>25%</td>\n",
       "      <td>2.018021e+07</td>\n",
       "      <td>-1.843239</td>\n",
       "      <td>-4.256311</td>\n",
       "      <td>-7.583998</td>\n",
       "      <td>0.000403</td>\n",
       "      <td>9.659986e+03</td>\n",
       "      <td>45.170000</td>\n",
       "      <td>0.042177</td>\n",
       "      <td>1.739803</td>\n",
       "      <td>0.151267</td>\n",
       "      <td>0.020475</td>\n",
       "      <td>0.497268</td>\n",
       "    </tr>\n",
       "    <tr>\n",
       "      <td>50%</td>\n",
       "      <td>2.018053e+07</td>\n",
       "      <td>0.277680</td>\n",
       "      <td>0.329203</td>\n",
       "      <td>-0.362670</td>\n",
       "      <td>0.000652</td>\n",
       "      <td>1.568286e+04</td>\n",
       "      <td>73.820000</td>\n",
       "      <td>0.057110</td>\n",
       "      <td>4.923546</td>\n",
       "      <td>0.292937</td>\n",
       "      <td>0.040028</td>\n",
       "      <td>5.253313</td>\n",
       "    </tr>\n",
       "    <tr>\n",
       "      <td>75%</td>\n",
       "      <td>2.018091e+07</td>\n",
       "      <td>2.159980</td>\n",
       "      <td>4.400995</td>\n",
       "      <td>6.686374</td>\n",
       "      <td>0.001454</td>\n",
       "      <td>3.509461e+04</td>\n",
       "      <td>123.830000</td>\n",
       "      <td>0.076561</td>\n",
       "      <td>9.015668</td>\n",
       "      <td>0.504965</td>\n",
       "      <td>0.059893</td>\n",
       "      <td>11.886979</td>\n",
       "    </tr>\n",
       "    <tr>\n",
       "      <td>max</td>\n",
       "      <td>2.018123e+07</td>\n",
       "      <td>46.864033</td>\n",
       "      <td>63.502525</td>\n",
       "      <td>114.599991</td>\n",
       "      <td>0.044994</td>\n",
       "      <td>1.140656e+06</td>\n",
       "      <td>3646.690000</td>\n",
       "      <td>0.345388</td>\n",
       "      <td>64.735065</td>\n",
       "      <td>3.589774</td>\n",
       "      <td>0.383827</td>\n",
       "      <td>14039.748000</td>\n",
       "    </tr>\n",
       "  </tbody>\n",
       "</table>\n",
       "</div>"
      ],
      "text/plain": [
       "       Period_YYYYMMDD  Universe_Returns_F1W  Universe_Returns_F4W  \\\n",
       "count     3.830400e+04          38300.000000          38296.000000   \n",
       "mean      2.017809e+07              0.037778             -0.025070   \n",
       "std       7.340507e+03              3.982946              7.509304   \n",
       "min       2.014123e+07            -47.561474            -67.705421   \n",
       "25%       2.018021e+07             -1.843239             -4.256311   \n",
       "50%       2.018053e+07              0.277680              0.329203   \n",
       "75%       2.018091e+07              2.159980              4.400995   \n",
       "max       2.018123e+07             46.864033             63.502525   \n",
       "\n",
       "       Universe_Returns_F12W        Weight  Market_Cap_USD     Price_USD  \\\n",
       "count           38268.000000  38304.000000    3.830400e+04  38304.000000   \n",
       "mean               -0.534635      0.001593    3.828089e+04    111.173980   \n",
       "std                11.969478      0.003048    7.374643e+04    178.296736   \n",
       "min               -68.235580      0.000069    1.432547e+03      3.410000   \n",
       "25%                -7.583998      0.000403    9.659986e+03     45.170000   \n",
       "50%                -0.362670      0.000652    1.568286e+04     73.820000   \n",
       "75%                 6.686374      0.001454    3.509461e+04    123.830000   \n",
       "max               114.599991      0.044994    1.140656e+06   3646.690000   \n",
       "\n",
       "             NTM_EP       LTM_ROA            BP        LTM_EP  5Y_Sales_Growth  \n",
       "count  38246.000000  38245.000000  38288.000000  38215.000000     38197.000000  \n",
       "mean       0.060218      5.842138      0.365269      0.039273        16.717226  \n",
       "std        0.031881      7.245260      0.308932      0.056394       312.939623  \n",
       "min       -0.346678    -80.447959     -0.896646     -1.689621      -100.000000  \n",
       "25%        0.042177      1.739803      0.151267      0.020475         0.497268  \n",
       "50%        0.057110      4.923546      0.292937      0.040028         5.253313  \n",
       "75%        0.076561      9.015668      0.504965      0.059893        11.886979  \n",
       "max        0.345388     64.735065      3.589774      0.383827     14039.748000  "
      ]
     },
     "execution_count": 6,
     "metadata": {},
     "output_type": "execute_result"
    }
   ],
   "source": [
    "data.describe()"
   ]
  },
  {
   "cell_type": "code",
   "execution_count": 7,
   "metadata": {
    "slideshow": {
     "slide_type": "fragment"
    }
   },
   "outputs": [
    {
     "data": {
      "text/plain": [
       "Index(['Identifier', 'Name', 'Period', 'Period_YYYYMMDD', 'Ticker',\n",
       "       'Universe_Returns_F1W', 'Universe_Returns_F4W', 'Universe_Returns_F12W',\n",
       "       'Weight', 'GICS_Sector', 'GICS_Ind_Grp', 'Market_Cap_USD', 'Price_USD',\n",
       "       'NTM_EP', 'LTM_ROA', 'BP', 'LTM_EP', '5Y_Sales_Growth'],\n",
       "      dtype='object')"
      ]
     },
     "execution_count": 7,
     "metadata": {},
     "output_type": "execute_result"
    }
   ],
   "source": [
    "data.columns"
   ]
  },
  {
   "cell_type": "code",
   "execution_count": 8,
   "metadata": {
    "slideshow": {
     "slide_type": "fragment"
    }
   },
   "outputs": [
    {
     "name": "stdout",
     "output_type": "stream",
     "text": [
      "<class 'pandas.core.frame.DataFrame'>\n",
      "RangeIndex: 38304 entries, 0 to 38303\n",
      "Data columns (total 18 columns):\n",
      "Identifier               38304 non-null object\n",
      "Name                     38304 non-null object\n",
      "Period                   38304 non-null object\n",
      "Period_YYYYMMDD          38304 non-null int64\n",
      "Ticker                   38304 non-null object\n",
      "Universe_Returns_F1W     38300 non-null float64\n",
      "Universe_Returns_F4W     38296 non-null float64\n",
      "Universe_Returns_F12W    38268 non-null float64\n",
      "Weight                   38304 non-null float64\n",
      "GICS_Sector              38304 non-null object\n",
      "GICS_Ind_Grp             38304 non-null object\n",
      "Market_Cap_USD           38304 non-null float64\n",
      "Price_USD                38304 non-null float64\n",
      "NTM_EP                   38246 non-null float64\n",
      "LTM_ROA                  38245 non-null float64\n",
      "BP                       38288 non-null float64\n",
      "LTM_EP                   38215 non-null float64\n",
      "5Y_Sales_Growth          38197 non-null float64\n",
      "dtypes: float64(11), int64(1), object(6)\n",
      "memory usage: 5.3+ MB\n"
     ]
    }
   ],
   "source": [
    "data.info()"
   ]
  },
  {
   "cell_type": "markdown",
   "metadata": {
    "colab_type": "text",
    "id": "FOyOn3zRIyrt",
    "slideshow": {
     "slide_type": "subslide"
    }
   },
   "source": [
    "In order to see statistics on non-numerical features, one has to explicitly indicate data types of interest in the `include` parameter."
   ]
  },
  {
   "cell_type": "code",
   "execution_count": 9,
   "metadata": {
    "colab": {
     "base_uri": "https://localhost:8080/",
     "height": 173
    },
    "colab_type": "code",
    "id": "iX6LzOwVIz99",
    "outputId": "6e83949f-717f-404d-8157-f8f36f3145f0",
    "slideshow": {
     "slide_type": "subslide"
    }
   },
   "outputs": [
    {
     "data": {
      "text/html": [
       "<div>\n",
       "<style scoped>\n",
       "    .dataframe tbody tr th:only-of-type {\n",
       "        vertical-align: middle;\n",
       "    }\n",
       "\n",
       "    .dataframe tbody tr th {\n",
       "        vertical-align: top;\n",
       "    }\n",
       "\n",
       "    .dataframe thead th {\n",
       "        text-align: right;\n",
       "    }\n",
       "</style>\n",
       "<table border=\"1\" class=\"dataframe\">\n",
       "  <thead>\n",
       "    <tr style=\"text-align: right;\">\n",
       "      <th></th>\n",
       "      <th>Identifier</th>\n",
       "      <th>Name</th>\n",
       "      <th>Period</th>\n",
       "      <th>Ticker</th>\n",
       "      <th>GICS_Sector</th>\n",
       "      <th>GICS_Ind_Grp</th>\n",
       "    </tr>\n",
       "  </thead>\n",
       "  <tbody>\n",
       "    <tr>\n",
       "      <td>count</td>\n",
       "      <td>38304</td>\n",
       "      <td>38304</td>\n",
       "      <td>38304</td>\n",
       "      <td>38304</td>\n",
       "      <td>38304</td>\n",
       "      <td>38304</td>\n",
       "    </tr>\n",
       "    <tr>\n",
       "      <td>unique</td>\n",
       "      <td>781</td>\n",
       "      <td>814</td>\n",
       "      <td>61</td>\n",
       "      <td>781</td>\n",
       "      <td>11</td>\n",
       "      <td>25</td>\n",
       "    </tr>\n",
       "    <tr>\n",
       "      <td>top</td>\n",
       "      <td>43707610</td>\n",
       "      <td>Travelers Companies, Inc.</td>\n",
       "      <td>9/30/2015</td>\n",
       "      <td>FNF-US</td>\n",
       "      <td>Information Technology</td>\n",
       "      <td>Software &amp; Services</td>\n",
       "    </tr>\n",
       "    <tr>\n",
       "      <td>freq</td>\n",
       "      <td>61</td>\n",
       "      <td>61</td>\n",
       "      <td>637</td>\n",
       "      <td>61</td>\n",
       "      <td>6117</td>\n",
       "      <td>3507</td>\n",
       "    </tr>\n",
       "  </tbody>\n",
       "</table>\n",
       "</div>"
      ],
      "text/plain": [
       "       Identifier                       Name     Period  Ticker  \\\n",
       "count       38304                      38304      38304   38304   \n",
       "unique        781                        814         61     781   \n",
       "top      43707610  Travelers Companies, Inc.  9/30/2015  FNF-US   \n",
       "freq           61                         61        637      61   \n",
       "\n",
       "                   GICS_Sector         GICS_Ind_Grp  \n",
       "count                    38304                38304  \n",
       "unique                      11                   25  \n",
       "top     Information Technology  Software & Services  \n",
       "freq                      6117                 3507  "
      ]
     },
     "execution_count": 9,
     "metadata": {},
     "output_type": "execute_result"
    }
   ],
   "source": [
    "data.describe(include=['object'])"
   ]
  },
  {
   "cell_type": "markdown",
   "metadata": {
    "colab_type": "text",
    "id": "LlNmgdfJKb4a",
    "slideshow": {
     "slide_type": "fragment"
    }
   },
   "source": [
    "For categorical (type `object`) and boolean (type `bool`) features we can use the `value_counts` method. Let’s have a look at the distribution of `Sector`:"
   ]
  },
  {
   "cell_type": "markdown",
   "metadata": {
    "colab_type": "text",
    "id": "RbXqg8UFLCoZ",
    "slideshow": {
     "slide_type": "fragment"
    }
   },
   "source": [
    "To calculate fractions, pass `normalize=True` to the `value_counts` function."
   ]
  },
  {
   "cell_type": "code",
   "execution_count": 10,
   "metadata": {
    "colab": {
     "base_uri": "https://localhost:8080/",
     "height": 119
    },
    "colab_type": "code",
    "id": "FRVvbpLuLMwx",
    "outputId": "606ada0d-02ce-4303-a151-fe8e92f1c374",
    "scrolled": true,
    "slideshow": {
     "slide_type": "fragment"
    }
   },
   "outputs": [
    {
     "data": {
      "text/plain": [
       "Information Technology    0.159696\n",
       "Consumer Discretionary    0.157764\n",
       "Financials                0.144737\n",
       "Industrials               0.137009\n",
       "Health Care               0.109649\n",
       "Energy                    0.061534\n",
       "Real Estate               0.059106\n",
       "Consumer Staples          0.057357\n",
       "Utilities                 0.051117\n",
       "Materials                 0.048846\n",
       "Communication Services    0.013184\n",
       "Name: GICS_Sector, dtype: float64"
      ]
     },
     "execution_count": 10,
     "metadata": {},
     "output_type": "execute_result"
    }
   ],
   "source": [
    "data['GICS_Sector'].value_counts(normalize=True)"
   ]
  },
  {
   "cell_type": "markdown",
   "metadata": {
    "colab_type": "text",
    "id": "ksUFXzb9NQCJ",
    "slideshow": {
     "slide_type": "slide"
    }
   },
   "source": [
    "### Sorting\n",
    "\n",
    "A DataFrame can be sorted by the value of one of the variables (i.e columns). For example, we can sort by values of a variable (use ascending=False to sort in descending order):"
   ]
  },
  {
   "cell_type": "code",
   "execution_count": 11,
   "metadata": {
    "colab": {
     "base_uri": "https://localhost:8080/",
     "height": 233
    },
    "colab_type": "code",
    "id": "alc3ClcaNX9B",
    "outputId": "f7665f2e-1492-4e8b-8a2c-a1e8d59efea5",
    "scrolled": true,
    "slideshow": {
     "slide_type": "fragment"
    }
   },
   "outputs": [
    {
     "data": {
      "text/html": [
       "<div>\n",
       "<style scoped>\n",
       "    .dataframe tbody tr th:only-of-type {\n",
       "        vertical-align: middle;\n",
       "    }\n",
       "\n",
       "    .dataframe tbody tr th {\n",
       "        vertical-align: top;\n",
       "    }\n",
       "\n",
       "    .dataframe thead th {\n",
       "        text-align: right;\n",
       "    }\n",
       "</style>\n",
       "<table border=\"1\" class=\"dataframe\">\n",
       "  <thead>\n",
       "    <tr style=\"text-align: right;\">\n",
       "      <th></th>\n",
       "      <th>Identifier</th>\n",
       "      <th>Name</th>\n",
       "      <th>Period</th>\n",
       "      <th>Period_YYYYMMDD</th>\n",
       "      <th>Ticker</th>\n",
       "      <th>Universe_Returns_F1W</th>\n",
       "      <th>Universe_Returns_F4W</th>\n",
       "      <th>Universe_Returns_F12W</th>\n",
       "      <th>Weight</th>\n",
       "      <th>GICS_Sector</th>\n",
       "      <th>GICS_Ind_Grp</th>\n",
       "      <th>Market_Cap_USD</th>\n",
       "      <th>Price_USD</th>\n",
       "      <th>NTM_EP</th>\n",
       "      <th>LTM_ROA</th>\n",
       "      <th>BP</th>\n",
       "      <th>LTM_EP</th>\n",
       "      <th>5Y_Sales_Growth</th>\n",
       "    </tr>\n",
       "  </thead>\n",
       "  <tbody>\n",
       "    <tr>\n",
       "      <td>7049</td>\n",
       "      <td>62944T10</td>\n",
       "      <td>NVR, Inc.</td>\n",
       "      <td>1/17/2018</td>\n",
       "      <td>20180117</td>\n",
       "      <td>NVR-US</td>\n",
       "      <td>-1.631343</td>\n",
       "      <td>-16.088015</td>\n",
       "      <td>-15.265626</td>\n",
       "      <td>0.000517</td>\n",
       "      <td>Consumer Discretionary</td>\n",
       "      <td>Consumer Durables &amp; Apparel</td>\n",
       "      <td>12969.2300</td>\n",
       "      <td>3646.69</td>\n",
       "      <td>0.051379</td>\n",
       "      <td>19.738139</td>\n",
       "      <td>0.127477</td>\n",
       "      <td>0.038805</td>\n",
       "      <td>15.803665</td>\n",
       "    </tr>\n",
       "    <tr>\n",
       "      <td>7681</td>\n",
       "      <td>62944T10</td>\n",
       "      <td>NVR, Inc.</td>\n",
       "      <td>1/24/2018</td>\n",
       "      <td>20180124</td>\n",
       "      <td>NVR-US</td>\n",
       "      <td>-11.402488</td>\n",
       "      <td>-11.211806</td>\n",
       "      <td>-15.226358</td>\n",
       "      <td>0.000502</td>\n",
       "      <td>Consumer Discretionary</td>\n",
       "      <td>Consumer Durables &amp; Apparel</td>\n",
       "      <td>12757.6580</td>\n",
       "      <td>3587.20</td>\n",
       "      <td>0.053347</td>\n",
       "      <td>19.738139</td>\n",
       "      <td>0.127477</td>\n",
       "      <td>0.038805</td>\n",
       "      <td>15.803665</td>\n",
       "    </tr>\n",
       "    <tr>\n",
       "      <td>5785</td>\n",
       "      <td>62944T10</td>\n",
       "      <td>NVR, Inc.</td>\n",
       "      <td>1-3-2018</td>\n",
       "      <td>20180103</td>\n",
       "      <td>NVR-US</td>\n",
       "      <td>-1.318616</td>\n",
       "      <td>-10.796475</td>\n",
       "      <td>-16.417854</td>\n",
       "      <td>0.000522</td>\n",
       "      <td>Consumer Discretionary</td>\n",
       "      <td>Consumer Durables &amp; Apparel</td>\n",
       "      <td>12670.9870</td>\n",
       "      <td>3562.83</td>\n",
       "      <td>0.048533</td>\n",
       "      <td>19.738139</td>\n",
       "      <td>0.127477</td>\n",
       "      <td>0.038805</td>\n",
       "      <td>15.803665</td>\n",
       "    </tr>\n",
       "    <tr>\n",
       "      <td>6417</td>\n",
       "      <td>62944T10</td>\n",
       "      <td>NVR, Inc.</td>\n",
       "      <td>1-10-2018</td>\n",
       "      <td>20180110</td>\n",
       "      <td>NVR-US</td>\n",
       "      <td>3.721428</td>\n",
       "      <td>-15.135461</td>\n",
       "      <td>-11.072147</td>\n",
       "      <td>0.000508</td>\n",
       "      <td>Consumer Discretionary</td>\n",
       "      <td>Consumer Durables &amp; Apparel</td>\n",
       "      <td>12503.9060</td>\n",
       "      <td>3515.85</td>\n",
       "      <td>0.052303</td>\n",
       "      <td>19.738139</td>\n",
       "      <td>0.127477</td>\n",
       "      <td>0.038805</td>\n",
       "      <td>15.803665</td>\n",
       "    </tr>\n",
       "    <tr>\n",
       "      <td>5152</td>\n",
       "      <td>62944T10</td>\n",
       "      <td>NVR, Inc.</td>\n",
       "      <td>12/27/2017</td>\n",
       "      <td>20171227</td>\n",
       "      <td>NVR-US</td>\n",
       "      <td>2.912486</td>\n",
       "      <td>3.616405</td>\n",
       "      <td>-10.324955</td>\n",
       "      <td>0.000512</td>\n",
       "      <td>Consumer Discretionary</td>\n",
       "      <td>Consumer Durables &amp; Apparel</td>\n",
       "      <td>12312.3920</td>\n",
       "      <td>3462.00</td>\n",
       "      <td>0.049253</td>\n",
       "      <td>19.738139</td>\n",
       "      <td>0.127150</td>\n",
       "      <td>0.039176</td>\n",
       "      <td>15.803665</td>\n",
       "    </tr>\n",
       "    <tr>\n",
       "      <td>...</td>\n",
       "      <td>...</td>\n",
       "      <td>...</td>\n",
       "      <td>...</td>\n",
       "      <td>...</td>\n",
       "      <td>...</td>\n",
       "      <td>...</td>\n",
       "      <td>...</td>\n",
       "      <td>...</td>\n",
       "      <td>...</td>\n",
       "      <td>...</td>\n",
       "      <td>...</td>\n",
       "      <td>...</td>\n",
       "      <td>...</td>\n",
       "      <td>...</td>\n",
       "      <td>...</td>\n",
       "      <td>...</td>\n",
       "      <td>...</td>\n",
       "      <td>...</td>\n",
       "    </tr>\n",
       "    <tr>\n",
       "      <td>1415</td>\n",
       "      <td>82968B10</td>\n",
       "      <td>Sirius XM Holdings, Inc.</td>\n",
       "      <td>8/31/2016</td>\n",
       "      <td>20160831</td>\n",
       "      <td>SIRI-US</td>\n",
       "      <td>0.845420</td>\n",
       "      <td>0.603867</td>\n",
       "      <td>11.132610</td>\n",
       "      <td>0.000426</td>\n",
       "      <td>Consumer Discretionary</td>\n",
       "      <td>Media</td>\n",
       "      <td>8438.9680</td>\n",
       "      <td>4.14</td>\n",
       "      <td>0.040102</td>\n",
       "      <td>7.802034</td>\n",
       "      <td>-0.038301</td>\n",
       "      <td>0.028986</td>\n",
       "      <td>10.194650</td>\n",
       "    </tr>\n",
       "    <tr>\n",
       "      <td>1001</td>\n",
       "      <td>85207U10</td>\n",
       "      <td>Sprint Corp.</td>\n",
       "      <td>9/30/2015</td>\n",
       "      <td>20150930</td>\n",
       "      <td>S-US</td>\n",
       "      <td>19.531261</td>\n",
       "      <td>30.468761</td>\n",
       "      <td>2.083337</td>\n",
       "      <td>0.000170</td>\n",
       "      <td>Communication Services</td>\n",
       "      <td>Telecommunication Services</td>\n",
       "      <td>3046.8218</td>\n",
       "      <td>3.84</td>\n",
       "      <td>-0.075271</td>\n",
       "      <td>-4.085422</td>\n",
       "      <td>1.425435</td>\n",
       "      <td>-0.223047</td>\n",
       "      <td>127.322590</td>\n",
       "    </tr>\n",
       "    <tr>\n",
       "      <td>781</td>\n",
       "      <td>82968B10</td>\n",
       "      <td>Sirius XM Holdings, Inc.</td>\n",
       "      <td>9/30/2015</td>\n",
       "      <td>20150930</td>\n",
       "      <td>SIRI-US</td>\n",
       "      <td>4.010701</td>\n",
       "      <td>9.759355</td>\n",
       "      <td>8.823538</td>\n",
       "      <td>0.000514</td>\n",
       "      <td>Consumer Discretionary</td>\n",
       "      <td>Media</td>\n",
       "      <td>9210.6950</td>\n",
       "      <td>3.74</td>\n",
       "      <td>0.037779</td>\n",
       "      <td>5.728225</td>\n",
       "      <td>0.022849</td>\n",
       "      <td>0.024064</td>\n",
       "      <td>10.980970</td>\n",
       "    </tr>\n",
       "    <tr>\n",
       "      <td>156</td>\n",
       "      <td>82968B10</td>\n",
       "      <td>Sirius XM Holdings, Inc.</td>\n",
       "      <td>12/31/2014</td>\n",
       "      <td>20141231</td>\n",
       "      <td>SIRI-US</td>\n",
       "      <td>-2.571428</td>\n",
       "      <td>1.714289</td>\n",
       "      <td>9.428573</td>\n",
       "      <td>0.000462</td>\n",
       "      <td>Consumer Discretionary</td>\n",
       "      <td>Media</td>\n",
       "      <td>8933.2060</td>\n",
       "      <td>3.50</td>\n",
       "      <td>0.033501</td>\n",
       "      <td>4.790147</td>\n",
       "      <td>0.059379</td>\n",
       "      <td>0.020000</td>\n",
       "      <td>15.908640</td>\n",
       "    </tr>\n",
       "    <tr>\n",
       "      <td>2737</td>\n",
       "      <td>76775410</td>\n",
       "      <td>Rite Aid Corporation</td>\n",
       "      <td>5/31/2017</td>\n",
       "      <td>20170531</td>\n",
       "      <td>RAD-US</td>\n",
       "      <td>0.000000</td>\n",
       "      <td>15.249264</td>\n",
       "      <td>-34.017597</td>\n",
       "      <td>0.000165</td>\n",
       "      <td>Consumer Staples</td>\n",
       "      <td>Food &amp; Staples Retailing</td>\n",
       "      <td>3587.7778</td>\n",
       "      <td>3.41</td>\n",
       "      <td>0.000843</td>\n",
       "      <td>0.035443</td>\n",
       "      <td>0.170904</td>\n",
       "      <td>-0.001290</td>\n",
       "      <td>6.303495</td>\n",
       "    </tr>\n",
       "  </tbody>\n",
       "</table>\n",
       "<p>38304 rows × 18 columns</p>\n",
       "</div>"
      ],
      "text/plain": [
       "     Identifier                      Name      Period  Period_YYYYMMDD  \\\n",
       "7049   62944T10                 NVR, Inc.   1/17/2018         20180117   \n",
       "7681   62944T10                 NVR, Inc.   1/24/2018         20180124   \n",
       "5785   62944T10                 NVR, Inc.    1-3-2018         20180103   \n",
       "6417   62944T10                 NVR, Inc.   1-10-2018         20180110   \n",
       "5152   62944T10                 NVR, Inc.  12/27/2017         20171227   \n",
       "...         ...                       ...         ...              ...   \n",
       "1415   82968B10  Sirius XM Holdings, Inc.   8/31/2016         20160831   \n",
       "1001   85207U10              Sprint Corp.   9/30/2015         20150930   \n",
       "781    82968B10  Sirius XM Holdings, Inc.   9/30/2015         20150930   \n",
       "156    82968B10  Sirius XM Holdings, Inc.  12/31/2014         20141231   \n",
       "2737   76775410      Rite Aid Corporation   5/31/2017         20170531   \n",
       "\n",
       "       Ticker  Universe_Returns_F1W  Universe_Returns_F4W  \\\n",
       "7049   NVR-US             -1.631343            -16.088015   \n",
       "7681   NVR-US            -11.402488            -11.211806   \n",
       "5785   NVR-US             -1.318616            -10.796475   \n",
       "6417   NVR-US              3.721428            -15.135461   \n",
       "5152   NVR-US              2.912486              3.616405   \n",
       "...       ...                   ...                   ...   \n",
       "1415  SIRI-US              0.845420              0.603867   \n",
       "1001     S-US             19.531261             30.468761   \n",
       "781   SIRI-US              4.010701              9.759355   \n",
       "156   SIRI-US             -2.571428              1.714289   \n",
       "2737   RAD-US              0.000000             15.249264   \n",
       "\n",
       "      Universe_Returns_F12W    Weight             GICS_Sector  \\\n",
       "7049             -15.265626  0.000517  Consumer Discretionary   \n",
       "7681             -15.226358  0.000502  Consumer Discretionary   \n",
       "5785             -16.417854  0.000522  Consumer Discretionary   \n",
       "6417             -11.072147  0.000508  Consumer Discretionary   \n",
       "5152             -10.324955  0.000512  Consumer Discretionary   \n",
       "...                     ...       ...                     ...   \n",
       "1415              11.132610  0.000426  Consumer Discretionary   \n",
       "1001               2.083337  0.000170  Communication Services   \n",
       "781                8.823538  0.000514  Consumer Discretionary   \n",
       "156                9.428573  0.000462  Consumer Discretionary   \n",
       "2737             -34.017597  0.000165        Consumer Staples   \n",
       "\n",
       "                     GICS_Ind_Grp  Market_Cap_USD  Price_USD    NTM_EP  \\\n",
       "7049  Consumer Durables & Apparel      12969.2300    3646.69  0.051379   \n",
       "7681  Consumer Durables & Apparel      12757.6580    3587.20  0.053347   \n",
       "5785  Consumer Durables & Apparel      12670.9870    3562.83  0.048533   \n",
       "6417  Consumer Durables & Apparel      12503.9060    3515.85  0.052303   \n",
       "5152  Consumer Durables & Apparel      12312.3920    3462.00  0.049253   \n",
       "...                           ...             ...        ...       ...   \n",
       "1415                        Media       8438.9680       4.14  0.040102   \n",
       "1001   Telecommunication Services       3046.8218       3.84 -0.075271   \n",
       "781                         Media       9210.6950       3.74  0.037779   \n",
       "156                         Media       8933.2060       3.50  0.033501   \n",
       "2737     Food & Staples Retailing       3587.7778       3.41  0.000843   \n",
       "\n",
       "        LTM_ROA        BP    LTM_EP  5Y_Sales_Growth  \n",
       "7049  19.738139  0.127477  0.038805        15.803665  \n",
       "7681  19.738139  0.127477  0.038805        15.803665  \n",
       "5785  19.738139  0.127477  0.038805        15.803665  \n",
       "6417  19.738139  0.127477  0.038805        15.803665  \n",
       "5152  19.738139  0.127150  0.039176        15.803665  \n",
       "...         ...       ...       ...              ...  \n",
       "1415   7.802034 -0.038301  0.028986        10.194650  \n",
       "1001  -4.085422  1.425435 -0.223047       127.322590  \n",
       "781    5.728225  0.022849  0.024064        10.980970  \n",
       "156    4.790147  0.059379  0.020000        15.908640  \n",
       "2737   0.035443  0.170904 -0.001290         6.303495  \n",
       "\n",
       "[38304 rows x 18 columns]"
      ]
     },
     "execution_count": 11,
     "metadata": {},
     "output_type": "execute_result"
    }
   ],
   "source": [
    "data.sort_values(by='Price_USD', ascending=False)"
   ]
  },
  {
   "cell_type": "markdown",
   "metadata": {
    "slideshow": {
     "slide_type": "slide"
    }
   },
   "source": [
    "### Missing values"
   ]
  },
  {
   "cell_type": "code",
   "execution_count": 12,
   "metadata": {
    "slideshow": {
     "slide_type": "fragment"
    }
   },
   "outputs": [],
   "source": [
    "mis_val = data.isnull().sum()\n",
    "mis_val_percent = 100 * data.isnull().sum()/len(data)\n",
    "mis_val_table = pd.concat([mis_val, mis_val_percent], axis=1)"
   ]
  },
  {
   "cell_type": "code",
   "execution_count": 13,
   "metadata": {},
   "outputs": [
    {
     "data": {
      "text/html": [
       "<div>\n",
       "<style scoped>\n",
       "    .dataframe tbody tr th:only-of-type {\n",
       "        vertical-align: middle;\n",
       "    }\n",
       "\n",
       "    .dataframe tbody tr th {\n",
       "        vertical-align: top;\n",
       "    }\n",
       "\n",
       "    .dataframe thead th {\n",
       "        text-align: right;\n",
       "    }\n",
       "</style>\n",
       "<table border=\"1\" class=\"dataframe\">\n",
       "  <thead>\n",
       "    <tr style=\"text-align: right;\">\n",
       "      <th></th>\n",
       "      <th>0</th>\n",
       "      <th>1</th>\n",
       "    </tr>\n",
       "  </thead>\n",
       "  <tbody>\n",
       "    <tr>\n",
       "      <td>Identifier</td>\n",
       "      <td>0</td>\n",
       "      <td>0.000000</td>\n",
       "    </tr>\n",
       "    <tr>\n",
       "      <td>Name</td>\n",
       "      <td>0</td>\n",
       "      <td>0.000000</td>\n",
       "    </tr>\n",
       "    <tr>\n",
       "      <td>Period</td>\n",
       "      <td>0</td>\n",
       "      <td>0.000000</td>\n",
       "    </tr>\n",
       "    <tr>\n",
       "      <td>Period_YYYYMMDD</td>\n",
       "      <td>0</td>\n",
       "      <td>0.000000</td>\n",
       "    </tr>\n",
       "    <tr>\n",
       "      <td>Ticker</td>\n",
       "      <td>0</td>\n",
       "      <td>0.000000</td>\n",
       "    </tr>\n",
       "    <tr>\n",
       "      <td>Universe_Returns_F1W</td>\n",
       "      <td>4</td>\n",
       "      <td>0.010443</td>\n",
       "    </tr>\n",
       "    <tr>\n",
       "      <td>Universe_Returns_F4W</td>\n",
       "      <td>8</td>\n",
       "      <td>0.020886</td>\n",
       "    </tr>\n",
       "    <tr>\n",
       "      <td>Universe_Returns_F12W</td>\n",
       "      <td>36</td>\n",
       "      <td>0.093985</td>\n",
       "    </tr>\n",
       "    <tr>\n",
       "      <td>Weight</td>\n",
       "      <td>0</td>\n",
       "      <td>0.000000</td>\n",
       "    </tr>\n",
       "    <tr>\n",
       "      <td>GICS_Sector</td>\n",
       "      <td>0</td>\n",
       "      <td>0.000000</td>\n",
       "    </tr>\n",
       "    <tr>\n",
       "      <td>GICS_Ind_Grp</td>\n",
       "      <td>0</td>\n",
       "      <td>0.000000</td>\n",
       "    </tr>\n",
       "    <tr>\n",
       "      <td>Market_Cap_USD</td>\n",
       "      <td>0</td>\n",
       "      <td>0.000000</td>\n",
       "    </tr>\n",
       "    <tr>\n",
       "      <td>Price_USD</td>\n",
       "      <td>0</td>\n",
       "      <td>0.000000</td>\n",
       "    </tr>\n",
       "    <tr>\n",
       "      <td>NTM_EP</td>\n",
       "      <td>58</td>\n",
       "      <td>0.151420</td>\n",
       "    </tr>\n",
       "    <tr>\n",
       "      <td>LTM_ROA</td>\n",
       "      <td>59</td>\n",
       "      <td>0.154031</td>\n",
       "    </tr>\n",
       "    <tr>\n",
       "      <td>BP</td>\n",
       "      <td>16</td>\n",
       "      <td>0.041771</td>\n",
       "    </tr>\n",
       "    <tr>\n",
       "      <td>LTM_EP</td>\n",
       "      <td>89</td>\n",
       "      <td>0.232352</td>\n",
       "    </tr>\n",
       "    <tr>\n",
       "      <td>5Y_Sales_Growth</td>\n",
       "      <td>107</td>\n",
       "      <td>0.279344</td>\n",
       "    </tr>\n",
       "  </tbody>\n",
       "</table>\n",
       "</div>"
      ],
      "text/plain": [
       "                         0         1\n",
       "Identifier               0  0.000000\n",
       "Name                     0  0.000000\n",
       "Period                   0  0.000000\n",
       "Period_YYYYMMDD          0  0.000000\n",
       "Ticker                   0  0.000000\n",
       "Universe_Returns_F1W     4  0.010443\n",
       "Universe_Returns_F4W     8  0.020886\n",
       "Universe_Returns_F12W   36  0.093985\n",
       "Weight                   0  0.000000\n",
       "GICS_Sector              0  0.000000\n",
       "GICS_Ind_Grp             0  0.000000\n",
       "Market_Cap_USD           0  0.000000\n",
       "Price_USD                0  0.000000\n",
       "NTM_EP                  58  0.151420\n",
       "LTM_ROA                 59  0.154031\n",
       "BP                      16  0.041771\n",
       "LTM_EP                  89  0.232352\n",
       "5Y_Sales_Growth        107  0.279344"
      ]
     },
     "execution_count": 13,
     "metadata": {},
     "output_type": "execute_result"
    }
   ],
   "source": [
    "mis_val_table"
   ]
  },
  {
   "cell_type": "code",
   "execution_count": 14,
   "metadata": {
    "slideshow": {
     "slide_type": "fragment"
    }
   },
   "outputs": [
    {
     "data": {
      "text/plain": [
       "Identifier                 0\n",
       "Name                       0\n",
       "Period                     0\n",
       "Period_YYYYMMDD            0\n",
       "Ticker                     0\n",
       "Universe_Returns_F1W       4\n",
       "Universe_Returns_F4W       8\n",
       "Universe_Returns_F12W     36\n",
       "Weight                     0\n",
       "GICS_Sector                0\n",
       "GICS_Ind_Grp               0\n",
       "Market_Cap_USD             0\n",
       "Price_USD                  0\n",
       "NTM_EP                    58\n",
       "LTM_ROA                   59\n",
       "BP                        16\n",
       "LTM_EP                    89\n",
       "5Y_Sales_Growth          107\n",
       "dtype: int64"
      ]
     },
     "execution_count": 14,
     "metadata": {},
     "output_type": "execute_result"
    }
   ],
   "source": [
    "data.isnull().sum()"
   ]
  },
  {
   "cell_type": "markdown",
   "metadata": {
    "slideshow": {
     "slide_type": "subslide"
    }
   },
   "source": [
    "**Direct replacement**"
   ]
  },
  {
   "cell_type": "code",
   "execution_count": 15,
   "metadata": {},
   "outputs": [
    {
     "data": {
      "text/plain": [
       "2862    NaN\n",
       "19657   NaN\n",
       "35229   NaN\n",
       "35411   NaN\n",
       "Name: Universe_Returns_F1W, dtype: float64"
      ]
     },
     "execution_count": 15,
     "metadata": {},
     "output_type": "execute_result"
    }
   ],
   "source": [
    "data[data.Universe_Returns_F1W.isnull()]['Universe_Returns_F1W']"
   ]
  },
  {
   "cell_type": "code",
   "execution_count": 16,
   "metadata": {},
   "outputs": [],
   "source": [
    "data.loc[[2862,19657,35229,35411],'Universe_Returns_F1W'] = 0"
   ]
  },
  {
   "cell_type": "markdown",
   "metadata": {
    "slideshow": {
     "slide_type": "subslide"
    }
   },
   "source": [
    "**Loop replacement**"
   ]
  },
  {
   "cell_type": "code",
   "execution_count": 17,
   "metadata": {
    "slideshow": {
     "slide_type": "fragment"
    }
   },
   "outputs": [],
   "source": [
    "indexes_to_check = data[data.Universe_Returns_F4W.isnull()].index"
   ]
  },
  {
   "cell_type": "code",
   "execution_count": 18,
   "metadata": {},
   "outputs": [
    {
     "data": {
      "text/plain": [
       "Int64Index([2862, 19657, 35229, 35411, 37059, 37375, 37682, 38302], dtype='int64')"
      ]
     },
     "execution_count": 18,
     "metadata": {},
     "output_type": "execute_result"
    }
   ],
   "source": [
    "indexes_to_check"
   ]
  },
  {
   "cell_type": "code",
   "execution_count": 19,
   "metadata": {
    "slideshow": {
     "slide_type": "fragment"
    }
   },
   "outputs": [],
   "source": [
    "for i in indexes_to_check:\n",
    "    data.loc[i,'Universe_Returns_F4W'] = 0"
   ]
  },
  {
   "cell_type": "code",
   "execution_count": 20,
   "metadata": {},
   "outputs": [
    {
     "data": {
      "text/html": [
       "<div>\n",
       "<style scoped>\n",
       "    .dataframe tbody tr th:only-of-type {\n",
       "        vertical-align: middle;\n",
       "    }\n",
       "\n",
       "    .dataframe tbody tr th {\n",
       "        vertical-align: top;\n",
       "    }\n",
       "\n",
       "    .dataframe thead th {\n",
       "        text-align: right;\n",
       "    }\n",
       "</style>\n",
       "<table border=\"1\" class=\"dataframe\">\n",
       "  <thead>\n",
       "    <tr style=\"text-align: right;\">\n",
       "      <th></th>\n",
       "      <th>Identifier</th>\n",
       "      <th>Name</th>\n",
       "      <th>Period</th>\n",
       "      <th>Period_YYYYMMDD</th>\n",
       "      <th>Ticker</th>\n",
       "      <th>Universe_Returns_F1W</th>\n",
       "      <th>Universe_Returns_F4W</th>\n",
       "      <th>Universe_Returns_F12W</th>\n",
       "      <th>Weight</th>\n",
       "      <th>GICS_Sector</th>\n",
       "      <th>GICS_Ind_Grp</th>\n",
       "      <th>Market_Cap_USD</th>\n",
       "      <th>Price_USD</th>\n",
       "      <th>NTM_EP</th>\n",
       "      <th>LTM_ROA</th>\n",
       "      <th>BP</th>\n",
       "      <th>LTM_EP</th>\n",
       "      <th>5Y_Sales_Growth</th>\n",
       "    </tr>\n",
       "  </thead>\n",
       "  <tbody>\n",
       "  </tbody>\n",
       "</table>\n",
       "</div>"
      ],
      "text/plain": [
       "Empty DataFrame\n",
       "Columns: [Identifier, Name, Period, Period_YYYYMMDD, Ticker, Universe_Returns_F1W, Universe_Returns_F4W, Universe_Returns_F12W, Weight, GICS_Sector, GICS_Ind_Grp, Market_Cap_USD, Price_USD, NTM_EP, LTM_ROA, BP, LTM_EP, 5Y_Sales_Growth]\n",
       "Index: []"
      ]
     },
     "execution_count": 20,
     "metadata": {},
     "output_type": "execute_result"
    }
   ],
   "source": [
    "data[data.Universe_Returns_F4W.isnull()]"
   ]
  },
  {
   "cell_type": "markdown",
   "metadata": {
    "slideshow": {
     "slide_type": "subslide"
    }
   },
   "source": [
    "**Just Fill in**"
   ]
  },
  {
   "cell_type": "code",
   "execution_count": 21,
   "metadata": {
    "slideshow": {
     "slide_type": "fragment"
    }
   },
   "outputs": [],
   "source": [
    "data.Universe_Returns_F12W.fillna(value=1, inplace=True)"
   ]
  },
  {
   "cell_type": "markdown",
   "metadata": {
    "slideshow": {
     "slide_type": "subslide"
    }
   },
   "source": [
    "**Also with operations**"
   ]
  },
  {
   "cell_type": "code",
   "execution_count": 22,
   "metadata": {
    "slideshow": {
     "slide_type": "fragment"
    }
   },
   "outputs": [
    {
     "name": "stdout",
     "output_type": "stream",
     "text": [
      "0.060217997254614755\n"
     ]
    }
   ],
   "source": [
    "#how would it be in other p languages\n",
    "import numpy as np\n",
    "\n",
    "mycolumn = data['NTM_EP']\n",
    "my_mean = np.mean(mycolumn)\n",
    "print(my_mean)\n"
   ]
  },
  {
   "cell_type": "code",
   "execution_count": 23,
   "metadata": {},
   "outputs": [],
   "source": [
    "NTM_EP_mean = data.NTM_EP.mean()"
   ]
  },
  {
   "cell_type": "code",
   "execution_count": 24,
   "metadata": {
    "slideshow": {
     "slide_type": "fragment"
    }
   },
   "outputs": [],
   "source": [
    "data.NTM_EP.fillna(value=NTM_EP_mean, inplace=True)"
   ]
  },
  {
   "cell_type": "markdown",
   "metadata": {
    "slideshow": {
     "slide_type": "subslide"
    }
   },
   "source": [
    "**Or just don't take the na events into account**"
   ]
  },
  {
   "cell_type": "code",
   "execution_count": 25,
   "metadata": {
    "slideshow": {
     "slide_type": "fragment"
    }
   },
   "outputs": [],
   "source": [
    "data.dropna(inplace=True)"
   ]
  },
  {
   "cell_type": "code",
   "execution_count": 26,
   "metadata": {},
   "outputs": [],
   "source": [
    "data_transposed = data.T"
   ]
  },
  {
   "cell_type": "markdown",
   "metadata": {
    "slideshow": {
     "slide_type": "slide"
    }
   },
   "source": [
    "### Data update"
   ]
  },
  {
   "cell_type": "markdown",
   "metadata": {
    "slideshow": {
     "slide_type": "fragment"
    }
   },
   "source": [
    "Let's suppose we don't need the commas"
   ]
  },
  {
   "cell_type": "code",
   "execution_count": 27,
   "metadata": {},
   "outputs": [
    {
     "data": {
      "text/plain": [
       "0                          Cintas Corporation\n",
       "1                           SCANA Corporation\n",
       "2            L-3 Communications Holdings Inc.\n",
       "3             United Technologies Corporation\n",
       "4                Wisconsin Energy Corporation\n",
       "                         ...                 \n",
       "38298            AXA Equitable Holdings, Inc.\n",
       "38299    Brookfield Property REIT Inc Class A\n",
       "38300                               Linde plc\n",
       "38301           Dell Technologies Inc Class C\n",
       "38303                  Capri Holdings Limited\n",
       "Name: Name, Length: 38115, dtype: object"
      ]
     },
     "execution_count": 27,
     "metadata": {},
     "output_type": "execute_result"
    }
   ],
   "source": [
    "data.Name"
   ]
  },
  {
   "cell_type": "code",
   "execution_count": 28,
   "metadata": {
    "slideshow": {
     "slide_type": "subslide"
    }
   },
   "outputs": [
    {
     "data": {
      "text/plain": [
       "'ANSYS Inc.'"
      ]
     },
     "execution_count": 28,
     "metadata": {},
     "output_type": "execute_result"
    }
   ],
   "source": [
    "data.Name.loc[7].replace(',','')\n"
   ]
  },
  {
   "cell_type": "code",
   "execution_count": 29,
   "metadata": {},
   "outputs": [
    {
     "data": {
      "text/plain": [
       "'AXA Equitable Holdings Inc.'"
      ]
     },
     "execution_count": 29,
     "metadata": {},
     "output_type": "execute_result"
    }
   ],
   "source": [
    "data.Name.loc[38298].replace(',','')"
   ]
  },
  {
   "cell_type": "code",
   "execution_count": 30,
   "metadata": {},
   "outputs": [
    {
     "data": {
      "text/plain": [
       "'AXA Equitable Holdings, Inc.'"
      ]
     },
     "execution_count": 30,
     "metadata": {},
     "output_type": "execute_result"
    }
   ],
   "source": [
    "data.Name.loc[38298]"
   ]
  },
  {
   "cell_type": "code",
   "execution_count": 31,
   "metadata": {
    "slideshow": {
     "slide_type": "fragment"
    }
   },
   "outputs": [],
   "source": [
    "data.loc[7,'Name'] = data.Name.loc[7].replace(',','')"
   ]
  },
  {
   "cell_type": "code",
   "execution_count": 32,
   "metadata": {
    "slideshow": {
     "slide_type": "fragment"
    }
   },
   "outputs": [
    {
     "data": {
      "text/plain": [
       "'ANSYS Inc.'"
      ]
     },
     "execution_count": 32,
     "metadata": {},
     "output_type": "execute_result"
    }
   ],
   "source": [
    "data.loc[7,'Name']"
   ]
  },
  {
   "cell_type": "code",
   "execution_count": 33,
   "metadata": {
    "slideshow": {
     "slide_type": "fragment"
    }
   },
   "outputs": [],
   "source": [
    "for i in data.index:\n",
    "    data.loc[i,'Name'] = data.Name.loc[i].replace(',','')"
   ]
  },
  {
   "cell_type": "markdown",
   "metadata": {
    "slideshow": {
     "slide_type": "slide"
    }
   },
   "source": [
    "### Handling Datetime"
   ]
  },
  {
   "cell_type": "code",
   "execution_count": 34,
   "metadata": {
    "slideshow": {
     "slide_type": "fragment"
    }
   },
   "outputs": [
    {
     "data": {
      "text/plain": [
       "0    20141231\n",
       "1    20141231\n",
       "2    20141231\n",
       "3    20141231\n",
       "4    20141231\n",
       "Name: Period_YYYYMMDD, dtype: int64"
      ]
     },
     "execution_count": 34,
     "metadata": {},
     "output_type": "execute_result"
    }
   ],
   "source": [
    "data.Period_YYYYMMDD.head()"
   ]
  },
  {
   "cell_type": "code",
   "execution_count": 35,
   "metadata": {
    "slideshow": {
     "slide_type": "fragment"
    }
   },
   "outputs": [
    {
     "data": {
      "text/plain": [
       "array([8])"
      ]
     },
     "execution_count": 35,
     "metadata": {},
     "output_type": "execute_result"
    }
   ],
   "source": [
    "data.Period_YYYYMMDD\\\n",
    "    .map(str)\\\n",
    "    .map(len)\\\n",
    "    .unique()"
   ]
  },
  {
   "cell_type": "markdown",
   "metadata": {
    "slideshow": {
     "slide_type": "subslide"
    }
   },
   "source": [
    "**Updateting via list comprehension** "
   ]
  },
  {
   "cell_type": "code",
   "execution_count": 36,
   "metadata": {},
   "outputs": [
    {
     "data": {
      "text/plain": [
       "0    12/31/2014\n",
       "1    12/31/2014\n",
       "2    12/31/2014\n",
       "3    12/31/2014\n",
       "4    12/31/2014\n",
       "Name: Period, dtype: object"
      ]
     },
     "execution_count": 36,
     "metadata": {},
     "output_type": "execute_result"
    }
   ],
   "source": [
    "data.Period.head()"
   ]
  },
  {
   "cell_type": "code",
   "execution_count": 37,
   "metadata": {
    "slideshow": {
     "slide_type": "fragment"
    }
   },
   "outputs": [],
   "source": [
    "data.Period = [pd.to_datetime(i, format='%Y%m%d') for i in data.Period_YYYYMMDD]"
   ]
  },
  {
   "cell_type": "code",
   "execution_count": 38,
   "metadata": {},
   "outputs": [
    {
     "data": {
      "text/plain": [
       "12"
      ]
     },
     "execution_count": 38,
     "metadata": {},
     "output_type": "execute_result"
    }
   ],
   "source": [
    "data.Period[0].month"
   ]
  },
  {
   "cell_type": "markdown",
   "metadata": {
    "slideshow": {
     "slide_type": "subslide"
    }
   },
   "source": [
    "**Creating periods**"
   ]
  },
  {
   "cell_type": "code",
   "execution_count": 39,
   "metadata": {},
   "outputs": [],
   "source": [
    "data['counting'] = list(range(len(data)))"
   ]
  },
  {
   "cell_type": "code",
   "execution_count": 40,
   "metadata": {
    "slideshow": {
     "slide_type": "fragment"
    }
   },
   "outputs": [],
   "source": [
    "data['month'] = [date.month for date in data.Period]"
   ]
  },
  {
   "cell_type": "code",
   "execution_count": 41,
   "metadata": {
    "slideshow": {
     "slide_type": "fragment"
    }
   },
   "outputs": [],
   "source": [
    "data['day'] = [date.day for date in data.Period]"
   ]
  },
  {
   "cell_type": "code",
   "execution_count": 42,
   "metadata": {
    "slideshow": {
     "slide_type": "fragment"
    }
   },
   "outputs": [],
   "source": [
    "data['year'] = [date.year for date in data.Period]"
   ]
  },
  {
   "cell_type": "code",
   "execution_count": 43,
   "metadata": {
    "slideshow": {
     "slide_type": "fragment"
    }
   },
   "outputs": [
    {
     "data": {
      "text/plain": [
       "count                   38115\n",
       "unique                     61\n",
       "top       2018-04-04 00:00:00\n",
       "freq                      630\n",
       "first     2014-12-31 00:00:00\n",
       "last      2018-12-26 00:00:00\n",
       "Name: Period, dtype: object"
      ]
     },
     "execution_count": 43,
     "metadata": {},
     "output_type": "execute_result"
    }
   ],
   "source": [
    "data.Period.describe()"
   ]
  },
  {
   "cell_type": "markdown",
   "metadata": {},
   "source": [
    "---\n",
    "### 3.2. Data Transformations\n",
    "<a id=\"3.2\">"
   ]
  },
  {
   "cell_type": "markdown",
   "metadata": {
    "slideshow": {
     "slide_type": "fragment"
    }
   },
   "source": [
    "Supose it is needed a subset of the dataset"
   ]
  },
  {
   "cell_type": "code",
   "execution_count": 44,
   "metadata": {},
   "outputs": [
    {
     "data": {
      "text/plain": [
       "0                   Industrials\n",
       "1                     Utilities\n",
       "2                   Industrials\n",
       "3                   Industrials\n",
       "4                     Utilities\n",
       "                  ...          \n",
       "38298                Financials\n",
       "38299               Real Estate\n",
       "38300                 Materials\n",
       "38301    Information Technology\n",
       "38303    Consumer Discretionary\n",
       "Name: GICS_Sector, Length: 38115, dtype: object"
      ]
     },
     "execution_count": 44,
     "metadata": {},
     "output_type": "execute_result"
    }
   ],
   "source": [
    "data.GICS_Sector"
   ]
  },
  {
   "cell_type": "code",
   "execution_count": 45,
   "metadata": {
    "slideshow": {
     "slide_type": "fragment"
    }
   },
   "outputs": [],
   "source": [
    "list_of_sectors = list(data.GICS_Sector.unique())"
   ]
  },
  {
   "cell_type": "code",
   "execution_count": 46,
   "metadata": {},
   "outputs": [
    {
     "data": {
      "text/plain": [
       "['Industrials',\n",
       " 'Utilities',\n",
       " 'Information Technology',\n",
       " 'Health Care',\n",
       " 'Financials',\n",
       " 'Consumer Staples',\n",
       " 'Consumer Discretionary',\n",
       " 'Materials',\n",
       " 'Energy',\n",
       " 'Communication Services',\n",
       " 'Real Estate']"
      ]
     },
     "execution_count": 46,
     "metadata": {},
     "output_type": "execute_result"
    }
   ],
   "source": [
    "list_of_sectors"
   ]
  },
  {
   "cell_type": "markdown",
   "metadata": {
    "slideshow": {
     "slide_type": "subslide"
    }
   },
   "source": [
    "**Slicing with logical operations**"
   ]
  },
  {
   "cell_type": "code",
   "execution_count": 47,
   "metadata": {
    "slideshow": {
     "slide_type": "fragment"
    }
   },
   "outputs": [],
   "source": [
    "IT_2018_df = data[(data.GICS_Sector == 'Information Technology') & (data.year == 2018)]"
   ]
  },
  {
   "cell_type": "markdown",
   "metadata": {
    "slideshow": {
     "slide_type": "subslide"
    }
   },
   "source": [
    "**Columns selection**"
   ]
  },
  {
   "cell_type": "code",
   "execution_count": 48,
   "metadata": {
    "slideshow": {
     "slide_type": "fragment"
    }
   },
   "outputs": [
    {
     "data": {
      "text/plain": [
       "Index(['Identifier', 'Name', 'Period', 'Period_YYYYMMDD', 'Ticker',\n",
       "       'Universe_Returns_F1W', 'Universe_Returns_F4W', 'Universe_Returns_F12W',\n",
       "       'Weight', 'GICS_Sector', 'GICS_Ind_Grp', 'Market_Cap_USD', 'Price_USD',\n",
       "       'NTM_EP', 'LTM_ROA', 'BP', 'LTM_EP', '5Y_Sales_Growth', 'counting',\n",
       "       'month', 'day', 'year'],\n",
       "      dtype='object')"
      ]
     },
     "execution_count": 48,
     "metadata": {},
     "output_type": "execute_result"
    }
   ],
   "source": [
    "IT_2018_df.columns"
   ]
  },
  {
   "cell_type": "markdown",
   "metadata": {
    "slideshow": {
     "slide_type": "subslide"
    }
   },
   "source": [
    "**Explicit**"
   ]
  },
  {
   "cell_type": "code",
   "execution_count": 49,
   "metadata": {
    "slideshow": {
     "slide_type": "fragment"
    }
   },
   "outputs": [],
   "source": [
    "IT_2018_df_ = IT_2018_df[['Ticker','Name','Period','Price_USD']]"
   ]
  },
  {
   "cell_type": "code",
   "execution_count": 50,
   "metadata": {},
   "outputs": [],
   "source": [
    "columns_I_want = ['Ticker','Name','Period','Price_USD']"
   ]
  },
  {
   "cell_type": "code",
   "execution_count": 51,
   "metadata": {},
   "outputs": [
    {
     "data": {
      "text/html": [
       "<div>\n",
       "<style scoped>\n",
       "    .dataframe tbody tr th:only-of-type {\n",
       "        vertical-align: middle;\n",
       "    }\n",
       "\n",
       "    .dataframe tbody tr th {\n",
       "        vertical-align: top;\n",
       "    }\n",
       "\n",
       "    .dataframe thead th {\n",
       "        text-align: right;\n",
       "    }\n",
       "</style>\n",
       "<table border=\"1\" class=\"dataframe\">\n",
       "  <thead>\n",
       "    <tr style=\"text-align: right;\">\n",
       "      <th></th>\n",
       "      <th>Ticker</th>\n",
       "      <th>Name</th>\n",
       "      <th>Period</th>\n",
       "      <th>Price_USD</th>\n",
       "    </tr>\n",
       "  </thead>\n",
       "  <tbody>\n",
       "    <tr>\n",
       "      <td>5668</td>\n",
       "      <td>ANSS-US</td>\n",
       "      <td>ANSYS Inc.</td>\n",
       "      <td>2018-01-03</td>\n",
       "      <td>151.420000</td>\n",
       "    </tr>\n",
       "    <tr>\n",
       "      <td>5676</td>\n",
       "      <td>ADSK-US</td>\n",
       "      <td>Autodesk Inc.</td>\n",
       "      <td>2018-01-03</td>\n",
       "      <td>109.380000</td>\n",
       "    </tr>\n",
       "    <tr>\n",
       "      <td>5680</td>\n",
       "      <td>ADI-US</td>\n",
       "      <td>Analog Devices Inc.</td>\n",
       "      <td>2018-01-03</td>\n",
       "      <td>91.400000</td>\n",
       "    </tr>\n",
       "    <tr>\n",
       "      <td>5686</td>\n",
       "      <td>SYMC-US</td>\n",
       "      <td>Symantec Corporation</td>\n",
       "      <td>2018-01-03</td>\n",
       "      <td>28.910000</td>\n",
       "    </tr>\n",
       "    <tr>\n",
       "      <td>5690</td>\n",
       "      <td>XLNX-US</td>\n",
       "      <td>Xilinx Inc.</td>\n",
       "      <td>2018-01-03</td>\n",
       "      <td>69.240000</td>\n",
       "    </tr>\n",
       "    <tr>\n",
       "      <td>...</td>\n",
       "      <td>...</td>\n",
       "      <td>...</td>\n",
       "      <td>...</td>\n",
       "      <td>...</td>\n",
       "    </tr>\n",
       "    <tr>\n",
       "      <td>38283</td>\n",
       "      <td>QRVO-US</td>\n",
       "      <td>Qorvo Inc.</td>\n",
       "      <td>2018-12-26</td>\n",
       "      <td>60.020000</td>\n",
       "    </tr>\n",
       "    <tr>\n",
       "      <td>38284</td>\n",
       "      <td>PYPL-US</td>\n",
       "      <td>PayPal Holdings Inc</td>\n",
       "      <td>2018-12-26</td>\n",
       "      <td>82.800000</td>\n",
       "    </tr>\n",
       "    <tr>\n",
       "      <td>38288</td>\n",
       "      <td>SQ-US</td>\n",
       "      <td>Square Inc. Class A</td>\n",
       "      <td>2018-12-26</td>\n",
       "      <td>55.320000</td>\n",
       "    </tr>\n",
       "    <tr>\n",
       "      <td>38297</td>\n",
       "      <td>WP-US</td>\n",
       "      <td>Worldpay Inc. Class A</td>\n",
       "      <td>2018-12-26</td>\n",
       "      <td>75.050000</td>\n",
       "    </tr>\n",
       "    <tr>\n",
       "      <td>38301</td>\n",
       "      <td>DELL-US</td>\n",
       "      <td>Dell Technologies Inc Class C</td>\n",
       "      <td>2018-12-26</td>\n",
       "      <td>108.274386</td>\n",
       "    </tr>\n",
       "  </tbody>\n",
       "</table>\n",
       "<p>5243 rows × 4 columns</p>\n",
       "</div>"
      ],
      "text/plain": [
       "        Ticker                           Name     Period   Price_USD\n",
       "5668   ANSS-US                     ANSYS Inc. 2018-01-03  151.420000\n",
       "5676   ADSK-US                  Autodesk Inc. 2018-01-03  109.380000\n",
       "5680    ADI-US            Analog Devices Inc. 2018-01-03   91.400000\n",
       "5686   SYMC-US           Symantec Corporation 2018-01-03   28.910000\n",
       "5690   XLNX-US                    Xilinx Inc. 2018-01-03   69.240000\n",
       "...        ...                            ...        ...         ...\n",
       "38283  QRVO-US                     Qorvo Inc. 2018-12-26   60.020000\n",
       "38284  PYPL-US            PayPal Holdings Inc 2018-12-26   82.800000\n",
       "38288    SQ-US            Square Inc. Class A 2018-12-26   55.320000\n",
       "38297    WP-US          Worldpay Inc. Class A 2018-12-26   75.050000\n",
       "38301  DELL-US  Dell Technologies Inc Class C 2018-12-26  108.274386\n",
       "\n",
       "[5243 rows x 4 columns]"
      ]
     },
     "execution_count": 51,
     "metadata": {},
     "output_type": "execute_result"
    }
   ],
   "source": [
    "IT_2018_df[columns_I_want]"
   ]
  },
  {
   "cell_type": "markdown",
   "metadata": {
    "slideshow": {
     "slide_type": "subslide"
    }
   },
   "source": [
    "**Range**"
   ]
  },
  {
   "cell_type": "code",
   "execution_count": 52,
   "metadata": {
    "scrolled": true
   },
   "outputs": [
    {
     "data": {
      "text/plain": [
       "Index(['Period', 'Period_YYYYMMDD', 'Ticker', 'Universe_Returns_F1W'], dtype='object')"
      ]
     },
     "execution_count": 52,
     "metadata": {},
     "output_type": "execute_result"
    }
   ],
   "source": [
    "IT_2018_df.columns[2:6]"
   ]
  },
  {
   "cell_type": "code",
   "execution_count": 53,
   "metadata": {},
   "outputs": [],
   "source": [
    "IT_2018_df = IT_2018_df.reset_index()"
   ]
  },
  {
   "cell_type": "code",
   "execution_count": 54,
   "metadata": {},
   "outputs": [
    {
     "data": {
      "text/html": [
       "<div>\n",
       "<style scoped>\n",
       "    .dataframe tbody tr th:only-of-type {\n",
       "        vertical-align: middle;\n",
       "    }\n",
       "\n",
       "    .dataframe tbody tr th {\n",
       "        vertical-align: top;\n",
       "    }\n",
       "\n",
       "    .dataframe thead th {\n",
       "        text-align: right;\n",
       "    }\n",
       "</style>\n",
       "<table border=\"1\" class=\"dataframe\">\n",
       "  <thead>\n",
       "    <tr style=\"text-align: right;\">\n",
       "      <th></th>\n",
       "      <th>index</th>\n",
       "      <th>Identifier</th>\n",
       "      <th>Name</th>\n",
       "      <th>Period</th>\n",
       "      <th>Period_YYYYMMDD</th>\n",
       "      <th>Ticker</th>\n",
       "      <th>Universe_Returns_F1W</th>\n",
       "      <th>Universe_Returns_F4W</th>\n",
       "      <th>Universe_Returns_F12W</th>\n",
       "      <th>Weight</th>\n",
       "      <th>...</th>\n",
       "      <th>Price_USD</th>\n",
       "      <th>NTM_EP</th>\n",
       "      <th>LTM_ROA</th>\n",
       "      <th>BP</th>\n",
       "      <th>LTM_EP</th>\n",
       "      <th>5Y_Sales_Growth</th>\n",
       "      <th>counting</th>\n",
       "      <th>month</th>\n",
       "      <th>day</th>\n",
       "      <th>year</th>\n",
       "    </tr>\n",
       "  </thead>\n",
       "  <tbody>\n",
       "    <tr>\n",
       "      <td>1</td>\n",
       "      <td>5676</td>\n",
       "      <td>05276910</td>\n",
       "      <td>Autodesk Inc.</td>\n",
       "      <td>2018-01-03</td>\n",
       "      <td>20180103</td>\n",
       "      <td>ADSK-US</td>\n",
       "      <td>1.910770</td>\n",
       "      <td>5.704892</td>\n",
       "      <td>13.869083</td>\n",
       "      <td>0.000893</td>\n",
       "      <td>...</td>\n",
       "      <td>109.38</td>\n",
       "      <td>0.009516</td>\n",
       "      <td>-12.557342</td>\n",
       "      <td>0.004647</td>\n",
       "      <td>-0.024516</td>\n",
       "      <td>-3.471122</td>\n",
       "      <td>5605</td>\n",
       "      <td>1</td>\n",
       "      <td>3</td>\n",
       "      <td>2018</td>\n",
       "    </tr>\n",
       "    <tr>\n",
       "      <td>2</td>\n",
       "      <td>5680</td>\n",
       "      <td>03265410</td>\n",
       "      <td>Analog Devices Inc.</td>\n",
       "      <td>2018-01-03</td>\n",
       "      <td>20180103</td>\n",
       "      <td>ADI-US</td>\n",
       "      <td>-1.411378</td>\n",
       "      <td>0.525165</td>\n",
       "      <td>-1.120943</td>\n",
       "      <td>0.001384</td>\n",
       "      <td>...</td>\n",
       "      <td>91.40</td>\n",
       "      <td>0.057435</td>\n",
       "      <td>4.980947</td>\n",
       "      <td>0.309618</td>\n",
       "      <td>0.023251</td>\n",
       "      <td>4.720031</td>\n",
       "      <td>5609</td>\n",
       "      <td>1</td>\n",
       "      <td>3</td>\n",
       "      <td>2018</td>\n",
       "    </tr>\n",
       "  </tbody>\n",
       "</table>\n",
       "<p>2 rows × 23 columns</p>\n",
       "</div>"
      ],
      "text/plain": [
       "   index Identifier                 Name     Period  Period_YYYYMMDD   Ticker  \\\n",
       "1   5676   05276910        Autodesk Inc. 2018-01-03         20180103  ADSK-US   \n",
       "2   5680   03265410  Analog Devices Inc. 2018-01-03         20180103   ADI-US   \n",
       "\n",
       "   Universe_Returns_F1W  Universe_Returns_F4W  Universe_Returns_F12W  \\\n",
       "1              1.910770              5.704892              13.869083   \n",
       "2             -1.411378              0.525165              -1.120943   \n",
       "\n",
       "     Weight  ... Price_USD    NTM_EP    LTM_ROA        BP    LTM_EP  \\\n",
       "1  0.000893  ...    109.38  0.009516 -12.557342  0.004647 -0.024516   \n",
       "2  0.001384  ...     91.40  0.057435   4.980947  0.309618  0.023251   \n",
       "\n",
       "   5Y_Sales_Growth  counting  month  day  year  \n",
       "1        -3.471122      5605      1    3  2018  \n",
       "2         4.720031      5609      1    3  2018  \n",
       "\n",
       "[2 rows x 23 columns]"
      ]
     },
     "execution_count": 54,
     "metadata": {},
     "output_type": "execute_result"
    }
   ],
   "source": [
    "IT_2018_df.loc[[1,2]]"
   ]
  },
  {
   "cell_type": "code",
   "execution_count": 55,
   "metadata": {
    "slideshow": {
     "slide_type": "fragment"
    }
   },
   "outputs": [
    {
     "data": {
      "text/html": [
       "<div>\n",
       "<style scoped>\n",
       "    .dataframe tbody tr th:only-of-type {\n",
       "        vertical-align: middle;\n",
       "    }\n",
       "\n",
       "    .dataframe tbody tr th {\n",
       "        vertical-align: top;\n",
       "    }\n",
       "\n",
       "    .dataframe thead th {\n",
       "        text-align: right;\n",
       "    }\n",
       "</style>\n",
       "<table border=\"1\" class=\"dataframe\">\n",
       "  <thead>\n",
       "    <tr style=\"text-align: right;\">\n",
       "      <th></th>\n",
       "      <th>Name</th>\n",
       "      <th>Period</th>\n",
       "      <th>Period_YYYYMMDD</th>\n",
       "      <th>Ticker</th>\n",
       "    </tr>\n",
       "  </thead>\n",
       "  <tbody>\n",
       "    <tr>\n",
       "      <td>0</td>\n",
       "      <td>ANSYS Inc.</td>\n",
       "      <td>2018-01-03</td>\n",
       "      <td>20180103</td>\n",
       "      <td>ANSS-US</td>\n",
       "    </tr>\n",
       "    <tr>\n",
       "      <td>1</td>\n",
       "      <td>Autodesk Inc.</td>\n",
       "      <td>2018-01-03</td>\n",
       "      <td>20180103</td>\n",
       "      <td>ADSK-US</td>\n",
       "    </tr>\n",
       "    <tr>\n",
       "      <td>2</td>\n",
       "      <td>Analog Devices Inc.</td>\n",
       "      <td>2018-01-03</td>\n",
       "      <td>20180103</td>\n",
       "      <td>ADI-US</td>\n",
       "    </tr>\n",
       "    <tr>\n",
       "      <td>3</td>\n",
       "      <td>Symantec Corporation</td>\n",
       "      <td>2018-01-03</td>\n",
       "      <td>20180103</td>\n",
       "      <td>SYMC-US</td>\n",
       "    </tr>\n",
       "    <tr>\n",
       "      <td>4</td>\n",
       "      <td>Xilinx Inc.</td>\n",
       "      <td>2018-01-03</td>\n",
       "      <td>20180103</td>\n",
       "      <td>XLNX-US</td>\n",
       "    </tr>\n",
       "  </tbody>\n",
       "</table>\n",
       "</div>"
      ],
      "text/plain": [
       "                   Name     Period  Period_YYYYMMDD   Ticker\n",
       "0            ANSYS Inc. 2018-01-03         20180103  ANSS-US\n",
       "1         Autodesk Inc. 2018-01-03         20180103  ADSK-US\n",
       "2   Analog Devices Inc. 2018-01-03         20180103   ADI-US\n",
       "3  Symantec Corporation 2018-01-03         20180103  SYMC-US\n",
       "4           Xilinx Inc. 2018-01-03         20180103  XLNX-US"
      ]
     },
     "execution_count": 55,
     "metadata": {},
     "output_type": "execute_result"
    }
   ],
   "source": [
    "IT_2018_df[IT_2018_df.columns[2:6]].head()"
   ]
  },
  {
   "cell_type": "markdown",
   "metadata": {
    "slideshow": {
     "slide_type": "subslide"
    }
   },
   "source": [
    "**Exception**"
   ]
  },
  {
   "cell_type": "code",
   "execution_count": 56,
   "metadata": {
    "slideshow": {
     "slide_type": "fragment"
    }
   },
   "outputs": [
    {
     "data": {
      "text/html": [
       "<div>\n",
       "<style scoped>\n",
       "    .dataframe tbody tr th:only-of-type {\n",
       "        vertical-align: middle;\n",
       "    }\n",
       "\n",
       "    .dataframe tbody tr th {\n",
       "        vertical-align: top;\n",
       "    }\n",
       "\n",
       "    .dataframe thead th {\n",
       "        text-align: right;\n",
       "    }\n",
       "</style>\n",
       "<table border=\"1\" class=\"dataframe\">\n",
       "  <thead>\n",
       "    <tr style=\"text-align: right;\">\n",
       "      <th></th>\n",
       "      <th>Ticker</th>\n",
       "      <th>Name</th>\n",
       "      <th>Period</th>\n",
       "      <th>Price_USD</th>\n",
       "    </tr>\n",
       "  </thead>\n",
       "  <tbody>\n",
       "    <tr>\n",
       "      <td>5668</td>\n",
       "      <td>ANSS-US</td>\n",
       "      <td>ANSYS Inc.</td>\n",
       "      <td>2018-01-03</td>\n",
       "      <td>151.420000</td>\n",
       "    </tr>\n",
       "    <tr>\n",
       "      <td>5676</td>\n",
       "      <td>ADSK-US</td>\n",
       "      <td>Autodesk Inc.</td>\n",
       "      <td>2018-01-03</td>\n",
       "      <td>109.380000</td>\n",
       "    </tr>\n",
       "    <tr>\n",
       "      <td>5680</td>\n",
       "      <td>ADI-US</td>\n",
       "      <td>Analog Devices Inc.</td>\n",
       "      <td>2018-01-03</td>\n",
       "      <td>91.400000</td>\n",
       "    </tr>\n",
       "    <tr>\n",
       "      <td>5686</td>\n",
       "      <td>SYMC-US</td>\n",
       "      <td>Symantec Corporation</td>\n",
       "      <td>2018-01-03</td>\n",
       "      <td>28.910000</td>\n",
       "    </tr>\n",
       "    <tr>\n",
       "      <td>5690</td>\n",
       "      <td>XLNX-US</td>\n",
       "      <td>Xilinx Inc.</td>\n",
       "      <td>2018-01-03</td>\n",
       "      <td>69.240000</td>\n",
       "    </tr>\n",
       "    <tr>\n",
       "      <td>...</td>\n",
       "      <td>...</td>\n",
       "      <td>...</td>\n",
       "      <td>...</td>\n",
       "      <td>...</td>\n",
       "    </tr>\n",
       "    <tr>\n",
       "      <td>38283</td>\n",
       "      <td>QRVO-US</td>\n",
       "      <td>Qorvo Inc.</td>\n",
       "      <td>2018-12-26</td>\n",
       "      <td>60.020000</td>\n",
       "    </tr>\n",
       "    <tr>\n",
       "      <td>38284</td>\n",
       "      <td>PYPL-US</td>\n",
       "      <td>PayPal Holdings Inc</td>\n",
       "      <td>2018-12-26</td>\n",
       "      <td>82.800000</td>\n",
       "    </tr>\n",
       "    <tr>\n",
       "      <td>38288</td>\n",
       "      <td>SQ-US</td>\n",
       "      <td>Square Inc. Class A</td>\n",
       "      <td>2018-12-26</td>\n",
       "      <td>55.320000</td>\n",
       "    </tr>\n",
       "    <tr>\n",
       "      <td>38297</td>\n",
       "      <td>WP-US</td>\n",
       "      <td>Worldpay Inc. Class A</td>\n",
       "      <td>2018-12-26</td>\n",
       "      <td>75.050000</td>\n",
       "    </tr>\n",
       "    <tr>\n",
       "      <td>38301</td>\n",
       "      <td>DELL-US</td>\n",
       "      <td>Dell Technologies Inc Class C</td>\n",
       "      <td>2018-12-26</td>\n",
       "      <td>108.274386</td>\n",
       "    </tr>\n",
       "  </tbody>\n",
       "</table>\n",
       "<p>5243 rows × 4 columns</p>\n",
       "</div>"
      ],
      "text/plain": [
       "        Ticker                           Name     Period   Price_USD\n",
       "5668   ANSS-US                     ANSYS Inc. 2018-01-03  151.420000\n",
       "5676   ADSK-US                  Autodesk Inc. 2018-01-03  109.380000\n",
       "5680    ADI-US            Analog Devices Inc. 2018-01-03   91.400000\n",
       "5686   SYMC-US           Symantec Corporation 2018-01-03   28.910000\n",
       "5690   XLNX-US                    Xilinx Inc. 2018-01-03   69.240000\n",
       "...        ...                            ...        ...         ...\n",
       "38283  QRVO-US                     Qorvo Inc. 2018-12-26   60.020000\n",
       "38284  PYPL-US            PayPal Holdings Inc 2018-12-26   82.800000\n",
       "38288    SQ-US            Square Inc. Class A 2018-12-26   55.320000\n",
       "38297    WP-US          Worldpay Inc. Class A 2018-12-26   75.050000\n",
       "38301  DELL-US  Dell Technologies Inc Class C 2018-12-26  108.274386\n",
       "\n",
       "[5243 rows x 4 columns]"
      ]
     },
     "execution_count": 56,
     "metadata": {},
     "output_type": "execute_result"
    }
   ],
   "source": [
    "IT_2018_df_.iloc[:,~IT_2018_df_.columns.isin(['index','Period_YYYYMMDD','month','day','year'])]"
   ]
  },
  {
   "cell_type": "markdown",
   "metadata": {
    "slideshow": {
     "slide_type": "subslide"
    }
   },
   "source": [
    "**Pivoting**"
   ]
  },
  {
   "cell_type": "code",
   "execution_count": 57,
   "metadata": {
    "slideshow": {
     "slide_type": "fragment"
    }
   },
   "outputs": [],
   "source": [
    "summary_IT = pd.pivot_table(IT_2018_df_, index=['Name'], columns='Period', values='Price_USD')"
   ]
  },
  {
   "cell_type": "code",
   "execution_count": 58,
   "metadata": {},
   "outputs": [
    {
     "data": {
      "text/html": [
       "<div>\n",
       "<style scoped>\n",
       "    .dataframe tbody tr th:only-of-type {\n",
       "        vertical-align: middle;\n",
       "    }\n",
       "\n",
       "    .dataframe tbody tr th {\n",
       "        vertical-align: top;\n",
       "    }\n",
       "\n",
       "    .dataframe thead th {\n",
       "        text-align: right;\n",
       "    }\n",
       "</style>\n",
       "<table border=\"1\" class=\"dataframe\">\n",
       "  <thead>\n",
       "    <tr style=\"text-align: right;\">\n",
       "      <th>Period</th>\n",
       "      <th>2018-01-03</th>\n",
       "      <th>2018-01-10</th>\n",
       "      <th>2018-01-17</th>\n",
       "      <th>2018-01-24</th>\n",
       "      <th>2018-01-31</th>\n",
       "      <th>2018-02-07</th>\n",
       "      <th>2018-02-14</th>\n",
       "      <th>2018-02-21</th>\n",
       "      <th>2018-02-28</th>\n",
       "      <th>2018-03-07</th>\n",
       "      <th>...</th>\n",
       "      <th>2018-10-24</th>\n",
       "      <th>2018-10-31</th>\n",
       "      <th>2018-11-07</th>\n",
       "      <th>2018-11-14</th>\n",
       "      <th>2018-11-21</th>\n",
       "      <th>2018-11-28</th>\n",
       "      <th>2018-12-04</th>\n",
       "      <th>2018-12-12</th>\n",
       "      <th>2018-12-19</th>\n",
       "      <th>2018-12-26</th>\n",
       "    </tr>\n",
       "    <tr>\n",
       "      <th>Name</th>\n",
       "      <th></th>\n",
       "      <th></th>\n",
       "      <th></th>\n",
       "      <th></th>\n",
       "      <th></th>\n",
       "      <th></th>\n",
       "      <th></th>\n",
       "      <th></th>\n",
       "      <th></th>\n",
       "      <th></th>\n",
       "      <th></th>\n",
       "      <th></th>\n",
       "      <th></th>\n",
       "      <th></th>\n",
       "      <th></th>\n",
       "      <th></th>\n",
       "      <th></th>\n",
       "      <th></th>\n",
       "      <th></th>\n",
       "      <th></th>\n",
       "      <th></th>\n",
       "    </tr>\n",
       "  </thead>\n",
       "  <tbody>\n",
       "    <tr>\n",
       "      <td>ANSYS Inc.</td>\n",
       "      <td>151.42</td>\n",
       "      <td>152.11</td>\n",
       "      <td>155.75</td>\n",
       "      <td>161.54</td>\n",
       "      <td>161.65</td>\n",
       "      <td>155.03</td>\n",
       "      <td>157.70</td>\n",
       "      <td>163.54</td>\n",
       "      <td>159.94</td>\n",
       "      <td>165.37</td>\n",
       "      <td>...</td>\n",
       "      <td>144.00</td>\n",
       "      <td>149.55</td>\n",
       "      <td>159.80</td>\n",
       "      <td>155.75</td>\n",
       "      <td>152.01</td>\n",
       "      <td>160.49</td>\n",
       "      <td>156.64</td>\n",
       "      <td>156.96</td>\n",
       "      <td>146.22</td>\n",
       "      <td>142.85</td>\n",
       "    </tr>\n",
       "    <tr>\n",
       "      <td>Accenture Plc Class A</td>\n",
       "      <td>154.55</td>\n",
       "      <td>158.90</td>\n",
       "      <td>160.21</td>\n",
       "      <td>160.60</td>\n",
       "      <td>160.70</td>\n",
       "      <td>155.15</td>\n",
       "      <td>159.79</td>\n",
       "      <td>160.46</td>\n",
       "      <td>161.01</td>\n",
       "      <td>158.55</td>\n",
       "      <td>...</td>\n",
       "      <td>153.12</td>\n",
       "      <td>157.62</td>\n",
       "      <td>163.87</td>\n",
       "      <td>160.29</td>\n",
       "      <td>156.98</td>\n",
       "      <td>162.21</td>\n",
       "      <td>164.21</td>\n",
       "      <td>158.62</td>\n",
       "      <td>150.96</td>\n",
       "      <td>139.01</td>\n",
       "    </tr>\n",
       "    <tr>\n",
       "      <td>Activision Blizzard Inc.</td>\n",
       "      <td>65.31</td>\n",
       "      <td>66.83</td>\n",
       "      <td>70.36</td>\n",
       "      <td>70.08</td>\n",
       "      <td>74.13</td>\n",
       "      <td>69.46</td>\n",
       "      <td>69.65</td>\n",
       "      <td>70.22</td>\n",
       "      <td>73.13</td>\n",
       "      <td>74.07</td>\n",
       "      <td>...</td>\n",
       "      <td>67.25</td>\n",
       "      <td>69.05</td>\n",
       "      <td>65.09</td>\n",
       "      <td>51.60</td>\n",
       "      <td>50.85</td>\n",
       "      <td>51.02</td>\n",
       "      <td>NaN</td>\n",
       "      <td>NaN</td>\n",
       "      <td>NaN</td>\n",
       "      <td>NaN</td>\n",
       "    </tr>\n",
       "    <tr>\n",
       "      <td>Adobe Inc.</td>\n",
       "      <td>181.04</td>\n",
       "      <td>187.11</td>\n",
       "      <td>196.49</td>\n",
       "      <td>197.78</td>\n",
       "      <td>199.76</td>\n",
       "      <td>192.34</td>\n",
       "      <td>197.13</td>\n",
       "      <td>202.09</td>\n",
       "      <td>209.13</td>\n",
       "      <td>216.86</td>\n",
       "      <td>...</td>\n",
       "      <td>238.44</td>\n",
       "      <td>245.76</td>\n",
       "      <td>253.43</td>\n",
       "      <td>235.22</td>\n",
       "      <td>225.98</td>\n",
       "      <td>249.21</td>\n",
       "      <td>NaN</td>\n",
       "      <td>NaN</td>\n",
       "      <td>NaN</td>\n",
       "      <td>NaN</td>\n",
       "    </tr>\n",
       "    <tr>\n",
       "      <td>Advanced Micro Devices Inc.</td>\n",
       "      <td>11.55</td>\n",
       "      <td>11.96</td>\n",
       "      <td>12.18</td>\n",
       "      <td>12.71</td>\n",
       "      <td>13.74</td>\n",
       "      <td>11.60</td>\n",
       "      <td>12.20</td>\n",
       "      <td>11.72</td>\n",
       "      <td>12.11</td>\n",
       "      <td>12.24</td>\n",
       "      <td>...</td>\n",
       "      <td>22.79</td>\n",
       "      <td>18.21</td>\n",
       "      <td>21.84</td>\n",
       "      <td>20.81</td>\n",
       "      <td>18.73</td>\n",
       "      <td>21.34</td>\n",
       "      <td>21.12</td>\n",
       "      <td>20.48</td>\n",
       "      <td>18.16</td>\n",
       "      <td>17.90</td>\n",
       "    </tr>\n",
       "    <tr>\n",
       "      <td>...</td>\n",
       "      <td>...</td>\n",
       "      <td>...</td>\n",
       "      <td>...</td>\n",
       "      <td>...</td>\n",
       "      <td>...</td>\n",
       "      <td>...</td>\n",
       "      <td>...</td>\n",
       "      <td>...</td>\n",
       "      <td>...</td>\n",
       "      <td>...</td>\n",
       "      <td>...</td>\n",
       "      <td>...</td>\n",
       "      <td>...</td>\n",
       "      <td>...</td>\n",
       "      <td>...</td>\n",
       "      <td>...</td>\n",
       "      <td>...</td>\n",
       "      <td>...</td>\n",
       "      <td>...</td>\n",
       "      <td>...</td>\n",
       "      <td>...</td>\n",
       "    </tr>\n",
       "    <tr>\n",
       "      <td>Xerox Corporation</td>\n",
       "      <td>29.33</td>\n",
       "      <td>30.35</td>\n",
       "      <td>31.92</td>\n",
       "      <td>32.36</td>\n",
       "      <td>34.13</td>\n",
       "      <td>31.18</td>\n",
       "      <td>29.79</td>\n",
       "      <td>30.38</td>\n",
       "      <td>30.32</td>\n",
       "      <td>29.83</td>\n",
       "      <td>...</td>\n",
       "      <td>27.37</td>\n",
       "      <td>27.87</td>\n",
       "      <td>29.03</td>\n",
       "      <td>27.00</td>\n",
       "      <td>25.19</td>\n",
       "      <td>27.00</td>\n",
       "      <td>26.70</td>\n",
       "      <td>25.17</td>\n",
       "      <td>20.67</td>\n",
       "      <td>19.70</td>\n",
       "    </tr>\n",
       "    <tr>\n",
       "      <td>Xilinx Inc.</td>\n",
       "      <td>69.24</td>\n",
       "      <td>74.10</td>\n",
       "      <td>75.86</td>\n",
       "      <td>73.48</td>\n",
       "      <td>73.02</td>\n",
       "      <td>66.97</td>\n",
       "      <td>66.86</td>\n",
       "      <td>68.46</td>\n",
       "      <td>71.25</td>\n",
       "      <td>73.94</td>\n",
       "      <td>...</td>\n",
       "      <td>69.04</td>\n",
       "      <td>85.37</td>\n",
       "      <td>85.10</td>\n",
       "      <td>83.79</td>\n",
       "      <td>86.50</td>\n",
       "      <td>91.19</td>\n",
       "      <td>91.29</td>\n",
       "      <td>90.54</td>\n",
       "      <td>85.22</td>\n",
       "      <td>85.22</td>\n",
       "    </tr>\n",
       "    <tr>\n",
       "      <td>Zillow Group Inc. Class C</td>\n",
       "      <td>42.97</td>\n",
       "      <td>42.50</td>\n",
       "      <td>44.54</td>\n",
       "      <td>43.72</td>\n",
       "      <td>44.46</td>\n",
       "      <td>44.55</td>\n",
       "      <td>46.97</td>\n",
       "      <td>47.57</td>\n",
       "      <td>47.67</td>\n",
       "      <td>53.95</td>\n",
       "      <td>...</td>\n",
       "      <td>39.29</td>\n",
       "      <td>40.26</td>\n",
       "      <td>29.99</td>\n",
       "      <td>28.41</td>\n",
       "      <td>29.18</td>\n",
       "      <td>35.15</td>\n",
       "      <td>NaN</td>\n",
       "      <td>NaN</td>\n",
       "      <td>NaN</td>\n",
       "      <td>NaN</td>\n",
       "    </tr>\n",
       "    <tr>\n",
       "      <td>eBay Inc.</td>\n",
       "      <td>39.22</td>\n",
       "      <td>37.70</td>\n",
       "      <td>37.99</td>\n",
       "      <td>39.82</td>\n",
       "      <td>40.58</td>\n",
       "      <td>42.33</td>\n",
       "      <td>42.44</td>\n",
       "      <td>43.12</td>\n",
       "      <td>42.86</td>\n",
       "      <td>43.93</td>\n",
       "      <td>...</td>\n",
       "      <td>27.29</td>\n",
       "      <td>29.03</td>\n",
       "      <td>29.86</td>\n",
       "      <td>27.89</td>\n",
       "      <td>28.34</td>\n",
       "      <td>29.76</td>\n",
       "      <td>NaN</td>\n",
       "      <td>NaN</td>\n",
       "      <td>NaN</td>\n",
       "      <td>NaN</td>\n",
       "    </tr>\n",
       "    <tr>\n",
       "      <td>salesforce.com inc.</td>\n",
       "      <td>105.29</td>\n",
       "      <td>108.80</td>\n",
       "      <td>110.04</td>\n",
       "      <td>112.85</td>\n",
       "      <td>113.91</td>\n",
       "      <td>110.05</td>\n",
       "      <td>109.02</td>\n",
       "      <td>114.48</td>\n",
       "      <td>116.25</td>\n",
       "      <td>125.33</td>\n",
       "      <td>...</td>\n",
       "      <td>133.26</td>\n",
       "      <td>137.24</td>\n",
       "      <td>141.79</td>\n",
       "      <td>129.35</td>\n",
       "      <td>123.59</td>\n",
       "      <td>140.64</td>\n",
       "      <td>139.24</td>\n",
       "      <td>140.09</td>\n",
       "      <td>131.16</td>\n",
       "      <td>130.84</td>\n",
       "    </tr>\n",
       "  </tbody>\n",
       "</table>\n",
       "<p>105 rows × 52 columns</p>\n",
       "</div>"
      ],
      "text/plain": [
       "Period                       2018-01-03  2018-01-10  2018-01-17  2018-01-24  \\\n",
       "Name                                                                          \n",
       "ANSYS Inc.                       151.42      152.11      155.75      161.54   \n",
       "Accenture Plc Class A            154.55      158.90      160.21      160.60   \n",
       "Activision Blizzard Inc.          65.31       66.83       70.36       70.08   \n",
       "Adobe Inc.                       181.04      187.11      196.49      197.78   \n",
       "Advanced Micro Devices Inc.       11.55       11.96       12.18       12.71   \n",
       "...                                 ...         ...         ...         ...   \n",
       "Xerox Corporation                 29.33       30.35       31.92       32.36   \n",
       "Xilinx Inc.                       69.24       74.10       75.86       73.48   \n",
       "Zillow Group Inc. Class C         42.97       42.50       44.54       43.72   \n",
       "eBay Inc.                         39.22       37.70       37.99       39.82   \n",
       "salesforce.com inc.              105.29      108.80      110.04      112.85   \n",
       "\n",
       "Period                       2018-01-31  2018-02-07  2018-02-14  2018-02-21  \\\n",
       "Name                                                                          \n",
       "ANSYS Inc.                       161.65      155.03      157.70      163.54   \n",
       "Accenture Plc Class A            160.70      155.15      159.79      160.46   \n",
       "Activision Blizzard Inc.          74.13       69.46       69.65       70.22   \n",
       "Adobe Inc.                       199.76      192.34      197.13      202.09   \n",
       "Advanced Micro Devices Inc.       13.74       11.60       12.20       11.72   \n",
       "...                                 ...         ...         ...         ...   \n",
       "Xerox Corporation                 34.13       31.18       29.79       30.38   \n",
       "Xilinx Inc.                       73.02       66.97       66.86       68.46   \n",
       "Zillow Group Inc. Class C         44.46       44.55       46.97       47.57   \n",
       "eBay Inc.                         40.58       42.33       42.44       43.12   \n",
       "salesforce.com inc.              113.91      110.05      109.02      114.48   \n",
       "\n",
       "Period                       2018-02-28  2018-03-07  ...  2018-10-24  \\\n",
       "Name                                                 ...               \n",
       "ANSYS Inc.                       159.94      165.37  ...      144.00   \n",
       "Accenture Plc Class A            161.01      158.55  ...      153.12   \n",
       "Activision Blizzard Inc.          73.13       74.07  ...       67.25   \n",
       "Adobe Inc.                       209.13      216.86  ...      238.44   \n",
       "Advanced Micro Devices Inc.       12.11       12.24  ...       22.79   \n",
       "...                                 ...         ...  ...         ...   \n",
       "Xerox Corporation                 30.32       29.83  ...       27.37   \n",
       "Xilinx Inc.                       71.25       73.94  ...       69.04   \n",
       "Zillow Group Inc. Class C         47.67       53.95  ...       39.29   \n",
       "eBay Inc.                         42.86       43.93  ...       27.29   \n",
       "salesforce.com inc.              116.25      125.33  ...      133.26   \n",
       "\n",
       "Period                       2018-10-31  2018-11-07  2018-11-14  2018-11-21  \\\n",
       "Name                                                                          \n",
       "ANSYS Inc.                       149.55      159.80      155.75      152.01   \n",
       "Accenture Plc Class A            157.62      163.87      160.29      156.98   \n",
       "Activision Blizzard Inc.          69.05       65.09       51.60       50.85   \n",
       "Adobe Inc.                       245.76      253.43      235.22      225.98   \n",
       "Advanced Micro Devices Inc.       18.21       21.84       20.81       18.73   \n",
       "...                                 ...         ...         ...         ...   \n",
       "Xerox Corporation                 27.87       29.03       27.00       25.19   \n",
       "Xilinx Inc.                       85.37       85.10       83.79       86.50   \n",
       "Zillow Group Inc. Class C         40.26       29.99       28.41       29.18   \n",
       "eBay Inc.                         29.03       29.86       27.89       28.34   \n",
       "salesforce.com inc.              137.24      141.79      129.35      123.59   \n",
       "\n",
       "Period                       2018-11-28  2018-12-04  2018-12-12  2018-12-19  \\\n",
       "Name                                                                          \n",
       "ANSYS Inc.                       160.49      156.64      156.96      146.22   \n",
       "Accenture Plc Class A            162.21      164.21      158.62      150.96   \n",
       "Activision Blizzard Inc.          51.02         NaN         NaN         NaN   \n",
       "Adobe Inc.                       249.21         NaN         NaN         NaN   \n",
       "Advanced Micro Devices Inc.       21.34       21.12       20.48       18.16   \n",
       "...                                 ...         ...         ...         ...   \n",
       "Xerox Corporation                 27.00       26.70       25.17       20.67   \n",
       "Xilinx Inc.                       91.19       91.29       90.54       85.22   \n",
       "Zillow Group Inc. Class C         35.15         NaN         NaN         NaN   \n",
       "eBay Inc.                         29.76         NaN         NaN         NaN   \n",
       "salesforce.com inc.              140.64      139.24      140.09      131.16   \n",
       "\n",
       "Period                       2018-12-26  \n",
       "Name                                     \n",
       "ANSYS Inc.                       142.85  \n",
       "Accenture Plc Class A            139.01  \n",
       "Activision Blizzard Inc.            NaN  \n",
       "Adobe Inc.                          NaN  \n",
       "Advanced Micro Devices Inc.       17.90  \n",
       "...                                 ...  \n",
       "Xerox Corporation                 19.70  \n",
       "Xilinx Inc.                       85.22  \n",
       "Zillow Group Inc. Class C           NaN  \n",
       "eBay Inc.                           NaN  \n",
       "salesforce.com inc.              130.84  \n",
       "\n",
       "[105 rows x 52 columns]"
      ]
     },
     "execution_count": 58,
     "metadata": {},
     "output_type": "execute_result"
    }
   ],
   "source": [
    "summary_IT"
   ]
  },
  {
   "cell_type": "markdown",
   "metadata": {
    "slideshow": {
     "slide_type": "subslide"
    }
   },
   "source": [
    "**Transposing**"
   ]
  },
  {
   "cell_type": "code",
   "execution_count": 59,
   "metadata": {
    "scrolled": true,
    "slideshow": {
     "slide_type": "fragment"
    }
   },
   "outputs": [],
   "source": [
    "transposed = summary_IT.T"
   ]
  },
  {
   "cell_type": "code",
   "execution_count": 60,
   "metadata": {
    "slideshow": {
     "slide_type": "fragment"
    }
   },
   "outputs": [
    {
     "data": {
      "text/html": [
       "<div>\n",
       "<style scoped>\n",
       "    .dataframe tbody tr th:only-of-type {\n",
       "        vertical-align: middle;\n",
       "    }\n",
       "\n",
       "    .dataframe tbody tr th {\n",
       "        vertical-align: top;\n",
       "    }\n",
       "\n",
       "    .dataframe thead th {\n",
       "        text-align: right;\n",
       "    }\n",
       "</style>\n",
       "<table border=\"1\" class=\"dataframe\">\n",
       "  <thead>\n",
       "    <tr style=\"text-align: right;\">\n",
       "      <th>Name</th>\n",
       "      <th>ANSYS Inc.</th>\n",
       "      <th>Accenture Plc Class A</th>\n",
       "      <th>Activision Blizzard Inc.</th>\n",
       "      <th>Adobe Inc.</th>\n",
       "      <th>Advanced Micro Devices Inc.</th>\n",
       "      <th>Akamai Technologies Inc.</th>\n",
       "      <th>Alliance Data Systems Corporation</th>\n",
       "      <th>Alphabet Inc. Class A</th>\n",
       "      <th>Alphabet Inc. Class C</th>\n",
       "      <th>Amphenol Corporation Class A</th>\n",
       "      <th>...</th>\n",
       "      <th>Visa Inc. Class A</th>\n",
       "      <th>Western Digital Corporation</th>\n",
       "      <th>Western Union Company</th>\n",
       "      <th>Workday Inc. Class A</th>\n",
       "      <th>Worldpay Inc. Class A</th>\n",
       "      <th>Xerox Corporation</th>\n",
       "      <th>Xilinx Inc.</th>\n",
       "      <th>Zillow Group Inc. Class C</th>\n",
       "      <th>eBay Inc.</th>\n",
       "      <th>salesforce.com inc.</th>\n",
       "    </tr>\n",
       "    <tr>\n",
       "      <th>Period</th>\n",
       "      <th></th>\n",
       "      <th></th>\n",
       "      <th></th>\n",
       "      <th></th>\n",
       "      <th></th>\n",
       "      <th></th>\n",
       "      <th></th>\n",
       "      <th></th>\n",
       "      <th></th>\n",
       "      <th></th>\n",
       "      <th></th>\n",
       "      <th></th>\n",
       "      <th></th>\n",
       "      <th></th>\n",
       "      <th></th>\n",
       "      <th></th>\n",
       "      <th></th>\n",
       "      <th></th>\n",
       "      <th></th>\n",
       "      <th></th>\n",
       "      <th></th>\n",
       "    </tr>\n",
       "  </thead>\n",
       "  <tbody>\n",
       "    <tr>\n",
       "      <td>2018-01-03</td>\n",
       "      <td>151.42</td>\n",
       "      <td>154.55</td>\n",
       "      <td>65.31</td>\n",
       "      <td>181.04</td>\n",
       "      <td>11.55</td>\n",
       "      <td>65.94</td>\n",
       "      <td>260.07</td>\n",
       "      <td>1091.52</td>\n",
       "      <td>1082.48</td>\n",
       "      <td>88.94</td>\n",
       "      <td>...</td>\n",
       "      <td>115.65</td>\n",
       "      <td>82.67</td>\n",
       "      <td>19.07</td>\n",
       "      <td>105.17</td>\n",
       "      <td>74.32</td>\n",
       "      <td>29.33</td>\n",
       "      <td>69.24</td>\n",
       "      <td>42.97</td>\n",
       "      <td>39.22</td>\n",
       "      <td>105.29</td>\n",
       "    </tr>\n",
       "    <tr>\n",
       "      <td>2018-01-10</td>\n",
       "      <td>152.11</td>\n",
       "      <td>158.90</td>\n",
       "      <td>66.83</td>\n",
       "      <td>187.11</td>\n",
       "      <td>11.96</td>\n",
       "      <td>66.33</td>\n",
       "      <td>272.09</td>\n",
       "      <td>1110.14</td>\n",
       "      <td>1102.61</td>\n",
       "      <td>89.51</td>\n",
       "      <td>...</td>\n",
       "      <td>118.98</td>\n",
       "      <td>80.91</td>\n",
       "      <td>21.23</td>\n",
       "      <td>114.14</td>\n",
       "      <td>75.71</td>\n",
       "      <td>30.35</td>\n",
       "      <td>74.10</td>\n",
       "      <td>42.50</td>\n",
       "      <td>37.70</td>\n",
       "      <td>108.80</td>\n",
       "    </tr>\n",
       "    <tr>\n",
       "      <td>2018-01-17</td>\n",
       "      <td>155.75</td>\n",
       "      <td>160.21</td>\n",
       "      <td>70.36</td>\n",
       "      <td>196.49</td>\n",
       "      <td>12.18</td>\n",
       "      <td>65.40</td>\n",
       "      <td>258.26</td>\n",
       "      <td>1139.10</td>\n",
       "      <td>1131.98</td>\n",
       "      <td>92.85</td>\n",
       "      <td>...</td>\n",
       "      <td>121.98</td>\n",
       "      <td>85.16</td>\n",
       "      <td>20.24</td>\n",
       "      <td>112.26</td>\n",
       "      <td>77.89</td>\n",
       "      <td>31.92</td>\n",
       "      <td>75.86</td>\n",
       "      <td>44.54</td>\n",
       "      <td>37.99</td>\n",
       "      <td>110.04</td>\n",
       "    </tr>\n",
       "    <tr>\n",
       "      <td>2018-01-24</td>\n",
       "      <td>161.54</td>\n",
       "      <td>160.60</td>\n",
       "      <td>70.08</td>\n",
       "      <td>197.78</td>\n",
       "      <td>12.71</td>\n",
       "      <td>66.02</td>\n",
       "      <td>259.49</td>\n",
       "      <td>1171.29</td>\n",
       "      <td>1164.24</td>\n",
       "      <td>91.20</td>\n",
       "      <td>...</td>\n",
       "      <td>124.55</td>\n",
       "      <td>86.97</td>\n",
       "      <td>20.52</td>\n",
       "      <td>115.87</td>\n",
       "      <td>79.63</td>\n",
       "      <td>32.36</td>\n",
       "      <td>73.48</td>\n",
       "      <td>43.72</td>\n",
       "      <td>39.82</td>\n",
       "      <td>112.85</td>\n",
       "    </tr>\n",
       "    <tr>\n",
       "      <td>2018-01-31</td>\n",
       "      <td>161.65</td>\n",
       "      <td>160.70</td>\n",
       "      <td>74.13</td>\n",
       "      <td>199.76</td>\n",
       "      <td>13.74</td>\n",
       "      <td>66.99</td>\n",
       "      <td>256.66</td>\n",
       "      <td>1182.22</td>\n",
       "      <td>1169.94</td>\n",
       "      <td>92.77</td>\n",
       "      <td>...</td>\n",
       "      <td>124.23</td>\n",
       "      <td>88.98</td>\n",
       "      <td>20.79</td>\n",
       "      <td>119.89</td>\n",
       "      <td>80.31</td>\n",
       "      <td>34.13</td>\n",
       "      <td>73.02</td>\n",
       "      <td>44.46</td>\n",
       "      <td>40.58</td>\n",
       "      <td>113.91</td>\n",
       "    </tr>\n",
       "  </tbody>\n",
       "</table>\n",
       "<p>5 rows × 105 columns</p>\n",
       "</div>"
      ],
      "text/plain": [
       "Name        ANSYS Inc.  Accenture Plc Class A  Activision Blizzard Inc.  \\\n",
       "Period                                                                    \n",
       "2018-01-03      151.42                 154.55                     65.31   \n",
       "2018-01-10      152.11                 158.90                     66.83   \n",
       "2018-01-17      155.75                 160.21                     70.36   \n",
       "2018-01-24      161.54                 160.60                     70.08   \n",
       "2018-01-31      161.65                 160.70                     74.13   \n",
       "\n",
       "Name        Adobe Inc.  Advanced Micro Devices Inc.  Akamai Technologies Inc.  \\\n",
       "Period                                                                          \n",
       "2018-01-03      181.04                        11.55                     65.94   \n",
       "2018-01-10      187.11                        11.96                     66.33   \n",
       "2018-01-17      196.49                        12.18                     65.40   \n",
       "2018-01-24      197.78                        12.71                     66.02   \n",
       "2018-01-31      199.76                        13.74                     66.99   \n",
       "\n",
       "Name        Alliance Data Systems Corporation  Alphabet Inc. Class A  \\\n",
       "Period                                                                 \n",
       "2018-01-03                             260.07                1091.52   \n",
       "2018-01-10                             272.09                1110.14   \n",
       "2018-01-17                             258.26                1139.10   \n",
       "2018-01-24                             259.49                1171.29   \n",
       "2018-01-31                             256.66                1182.22   \n",
       "\n",
       "Name        Alphabet Inc. Class C  Amphenol Corporation Class A  ...  \\\n",
       "Period                                                           ...   \n",
       "2018-01-03                1082.48                         88.94  ...   \n",
       "2018-01-10                1102.61                         89.51  ...   \n",
       "2018-01-17                1131.98                         92.85  ...   \n",
       "2018-01-24                1164.24                         91.20  ...   \n",
       "2018-01-31                1169.94                         92.77  ...   \n",
       "\n",
       "Name        Visa Inc. Class A  Western Digital Corporation  \\\n",
       "Period                                                       \n",
       "2018-01-03             115.65                        82.67   \n",
       "2018-01-10             118.98                        80.91   \n",
       "2018-01-17             121.98                        85.16   \n",
       "2018-01-24             124.55                        86.97   \n",
       "2018-01-31             124.23                        88.98   \n",
       "\n",
       "Name        Western Union Company  Workday Inc. Class A  \\\n",
       "Period                                                    \n",
       "2018-01-03                  19.07                105.17   \n",
       "2018-01-10                  21.23                114.14   \n",
       "2018-01-17                  20.24                112.26   \n",
       "2018-01-24                  20.52                115.87   \n",
       "2018-01-31                  20.79                119.89   \n",
       "\n",
       "Name        Worldpay Inc. Class A  Xerox Corporation  Xilinx Inc.  \\\n",
       "Period                                                              \n",
       "2018-01-03                  74.32              29.33        69.24   \n",
       "2018-01-10                  75.71              30.35        74.10   \n",
       "2018-01-17                  77.89              31.92        75.86   \n",
       "2018-01-24                  79.63              32.36        73.48   \n",
       "2018-01-31                  80.31              34.13        73.02   \n",
       "\n",
       "Name        Zillow Group Inc. Class C  eBay Inc.  salesforce.com inc.  \n",
       "Period                                                                 \n",
       "2018-01-03                      42.97      39.22               105.29  \n",
       "2018-01-10                      42.50      37.70               108.80  \n",
       "2018-01-17                      44.54      37.99               110.04  \n",
       "2018-01-24                      43.72      39.82               112.85  \n",
       "2018-01-31                      44.46      40.58               113.91  \n",
       "\n",
       "[5 rows x 105 columns]"
      ]
     },
     "execution_count": 60,
     "metadata": {},
     "output_type": "execute_result"
    }
   ],
   "source": [
    "transposed.head()"
   ]
  },
  {
   "cell_type": "markdown",
   "metadata": {
    "slideshow": {
     "slide_type": "subslide"
    }
   },
   "source": [
    "### Write to file"
   ]
  },
  {
   "cell_type": "code",
   "execution_count": 61,
   "metadata": {
    "slideshow": {
     "slide_type": "fragment"
    }
   },
   "outputs": [],
   "source": [
    "transposed.to_csv('name_of_file.csv')"
   ]
  },
  {
   "cell_type": "code",
   "execution_count": 99,
   "metadata": {},
   "outputs": [],
   "source": [
    "!rm name_of_file.csv"
   ]
  },
  {
   "cell_type": "markdown",
   "metadata": {
    "slideshow": {
     "slide_type": "fragment"
    }
   },
   "source": [
    "##### linux or mac  \n",
    "`!rm output.csv`\n",
    "\n",
    "##### windows  \n",
    "`!del output.csv`"
   ]
  },
  {
   "cell_type": "markdown",
   "metadata": {
    "slideshow": {
     "slide_type": "slide"
    }
   },
   "source": [
    "### Adding Features\n",
    "\n",
    "We can always extend the knowledge of the dataset, spliting apart or creating new variables"
   ]
  },
  {
   "cell_type": "code",
   "execution_count": 63,
   "metadata": {},
   "outputs": [],
   "source": [
    "df_2017 = data[data['year']==2017]"
   ]
  },
  {
   "cell_type": "code",
   "execution_count": 64,
   "metadata": {},
   "outputs": [
    {
     "data": {
      "text/html": [
       "<div>\n",
       "<style scoped>\n",
       "    .dataframe tbody tr th:only-of-type {\n",
       "        vertical-align: middle;\n",
       "    }\n",
       "\n",
       "    .dataframe tbody tr th {\n",
       "        vertical-align: top;\n",
       "    }\n",
       "\n",
       "    .dataframe thead th {\n",
       "        text-align: right;\n",
       "    }\n",
       "</style>\n",
       "<table border=\"1\" class=\"dataframe\">\n",
       "  <thead>\n",
       "    <tr style=\"text-align: right;\">\n",
       "      <th></th>\n",
       "      <th>Identifier</th>\n",
       "      <th>Name</th>\n",
       "      <th>Period</th>\n",
       "      <th>Period_YYYYMMDD</th>\n",
       "      <th>Ticker</th>\n",
       "      <th>Universe_Returns_F1W</th>\n",
       "      <th>Universe_Returns_F4W</th>\n",
       "      <th>Universe_Returns_F12W</th>\n",
       "      <th>Weight</th>\n",
       "      <th>GICS_Sector</th>\n",
       "      <th>...</th>\n",
       "      <th>Price_USD</th>\n",
       "      <th>NTM_EP</th>\n",
       "      <th>LTM_ROA</th>\n",
       "      <th>BP</th>\n",
       "      <th>LTM_EP</th>\n",
       "      <th>5Y_Sales_Growth</th>\n",
       "      <th>counting</th>\n",
       "      <th>month</th>\n",
       "      <th>day</th>\n",
       "      <th>year</th>\n",
       "    </tr>\n",
       "  </thead>\n",
       "  <tbody>\n",
       "    <tr>\n",
       "      <td>2504</td>\n",
       "      <td>17290810</td>\n",
       "      <td>Cintas Corporation</td>\n",
       "      <td>2017-05-31</td>\n",
       "      <td>20170531</td>\n",
       "      <td>CTAS-US</td>\n",
       "      <td>-1.104224</td>\n",
       "      <td>0.699079</td>\n",
       "      <td>6.490314</td>\n",
       "      <td>0.000487</td>\n",
       "      <td>Industrials</td>\n",
       "      <td>...</td>\n",
       "      <td>125.88</td>\n",
       "      <td>0.039019</td>\n",
       "      <td>11.504222</td>\n",
       "      <td>0.166046</td>\n",
       "      <td>0.037012</td>\n",
       "      <td>5.222880</td>\n",
       "      <td>2473</td>\n",
       "      <td>5</td>\n",
       "      <td>31</td>\n",
       "      <td>2017</td>\n",
       "    </tr>\n",
       "    <tr>\n",
       "      <td>2505</td>\n",
       "      <td>80589M10</td>\n",
       "      <td>SCANA Corporation</td>\n",
       "      <td>2017-05-31</td>\n",
       "      <td>20170531</td>\n",
       "      <td>SCG-US</td>\n",
       "      <td>0.718486</td>\n",
       "      <td>0.621235</td>\n",
       "      <td>-11.214828</td>\n",
       "      <td>0.000427</td>\n",
       "      <td>Utilities</td>\n",
       "      <td>...</td>\n",
       "      <td>68.20</td>\n",
       "      <td>0.063528</td>\n",
       "      <td>3.288115</td>\n",
       "      <td>0.595745</td>\n",
       "      <td>0.060431</td>\n",
       "      <td>-1.332848</td>\n",
       "      <td>2474</td>\n",
       "      <td>5</td>\n",
       "      <td>31</td>\n",
       "      <td>2017</td>\n",
       "    </tr>\n",
       "    <tr>\n",
       "      <td>2506</td>\n",
       "      <td>50241310</td>\n",
       "      <td>L3 Technologies Inc</td>\n",
       "      <td>2017-05-31</td>\n",
       "      <td>20170531</td>\n",
       "      <td>LLL-US</td>\n",
       "      <td>-3.452158</td>\n",
       "      <td>-0.326234</td>\n",
       "      <td>6.780422</td>\n",
       "      <td>0.000601</td>\n",
       "      <td>Industrials</td>\n",
       "      <td>...</td>\n",
       "      <td>168.59</td>\n",
       "      <td>0.053755</td>\n",
       "      <td>5.374870</td>\n",
       "      <td>0.360253</td>\n",
       "      <td>0.048646</td>\n",
       "      <td>-6.111873</td>\n",
       "      <td>2475</td>\n",
       "      <td>5</td>\n",
       "      <td>31</td>\n",
       "      <td>2017</td>\n",
       "    </tr>\n",
       "    <tr>\n",
       "      <td>2507</td>\n",
       "      <td>91301710</td>\n",
       "      <td>United Technologies Corporation</td>\n",
       "      <td>2017-05-31</td>\n",
       "      <td>20170531</td>\n",
       "      <td>UTX-US</td>\n",
       "      <td>-1.236808</td>\n",
       "      <td>1.005936</td>\n",
       "      <td>-2.931857</td>\n",
       "      <td>0.004372</td>\n",
       "      <td>Industrials</td>\n",
       "      <td>...</td>\n",
       "      <td>121.28</td>\n",
       "      <td>0.055867</td>\n",
       "      <td>5.893464</td>\n",
       "      <td>0.283968</td>\n",
       "      <td>0.052882</td>\n",
       "      <td>-0.664265</td>\n",
       "      <td>2476</td>\n",
       "      <td>5</td>\n",
       "      <td>31</td>\n",
       "      <td>2017</td>\n",
       "    </tr>\n",
       "    <tr>\n",
       "      <td>2508</td>\n",
       "      <td>92939U10</td>\n",
       "      <td>WEC Energy Group Inc</td>\n",
       "      <td>2017-05-31</td>\n",
       "      <td>20170531</td>\n",
       "      <td>WEC-US</td>\n",
       "      <td>0.987899</td>\n",
       "      <td>-0.908220</td>\n",
       "      <td>4.482388</td>\n",
       "      <td>0.000913</td>\n",
       "      <td>Utilities</td>\n",
       "      <td>...</td>\n",
       "      <td>62.76</td>\n",
       "      <td>0.050564</td>\n",
       "      <td>3.215767</td>\n",
       "      <td>0.460755</td>\n",
       "      <td>0.047482</td>\n",
       "      <td>14.555154</td>\n",
       "      <td>2477</td>\n",
       "      <td>5</td>\n",
       "      <td>31</td>\n",
       "      <td>2017</td>\n",
       "    </tr>\n",
       "  </tbody>\n",
       "</table>\n",
       "<p>5 rows × 22 columns</p>\n",
       "</div>"
      ],
      "text/plain": [
       "     Identifier                             Name     Period  Period_YYYYMMDD  \\\n",
       "2504   17290810               Cintas Corporation 2017-05-31         20170531   \n",
       "2505   80589M10                SCANA Corporation 2017-05-31         20170531   \n",
       "2506   50241310              L3 Technologies Inc 2017-05-31         20170531   \n",
       "2507   91301710  United Technologies Corporation 2017-05-31         20170531   \n",
       "2508   92939U10             WEC Energy Group Inc 2017-05-31         20170531   \n",
       "\n",
       "       Ticker  Universe_Returns_F1W  Universe_Returns_F4W  \\\n",
       "2504  CTAS-US             -1.104224              0.699079   \n",
       "2505   SCG-US              0.718486              0.621235   \n",
       "2506   LLL-US             -3.452158             -0.326234   \n",
       "2507   UTX-US             -1.236808              1.005936   \n",
       "2508   WEC-US              0.987899             -0.908220   \n",
       "\n",
       "      Universe_Returns_F12W    Weight  GICS_Sector  ... Price_USD    NTM_EP  \\\n",
       "2504               6.490314  0.000487  Industrials  ...    125.88  0.039019   \n",
       "2505             -11.214828  0.000427    Utilities  ...     68.20  0.063528   \n",
       "2506               6.780422  0.000601  Industrials  ...    168.59  0.053755   \n",
       "2507              -2.931857  0.004372  Industrials  ...    121.28  0.055867   \n",
       "2508               4.482388  0.000913    Utilities  ...     62.76  0.050564   \n",
       "\n",
       "        LTM_ROA        BP    LTM_EP  5Y_Sales_Growth  counting  month  day  \\\n",
       "2504  11.504222  0.166046  0.037012         5.222880      2473      5   31   \n",
       "2505   3.288115  0.595745  0.060431        -1.332848      2474      5   31   \n",
       "2506   5.374870  0.360253  0.048646        -6.111873      2475      5   31   \n",
       "2507   5.893464  0.283968  0.052882        -0.664265      2476      5   31   \n",
       "2508   3.215767  0.460755  0.047482        14.555154      2477      5   31   \n",
       "\n",
       "      year  \n",
       "2504  2017  \n",
       "2505  2017  \n",
       "2506  2017  \n",
       "2507  2017  \n",
       "2508  2017  \n",
       "\n",
       "[5 rows x 22 columns]"
      ]
     },
     "execution_count": 64,
     "metadata": {},
     "output_type": "execute_result"
    }
   ],
   "source": [
    "df_2017.head()"
   ]
  },
  {
   "cell_type": "markdown",
   "metadata": {
    "slideshow": {
     "slide_type": "subslide"
    }
   },
   "source": [
    "**Labeling**"
   ]
  },
  {
   "cell_type": "code",
   "execution_count": 65,
   "metadata": {
    "slideshow": {
     "slide_type": "fragment"
    }
   },
   "outputs": [],
   "source": [
    "market_label = []\n",
    "for i in data.Market_Cap_USD:\n",
    "    if i >= 38000:\n",
    "        market_label.append('>38')\n",
    "    elif (i < 38000) | (i > 20000):\n",
    "        market_label.append('<28 & >20')\n",
    "    else:\n",
    "        market_label.append('<20')"
   ]
  },
  {
   "cell_type": "code",
   "execution_count": 66,
   "metadata": {},
   "outputs": [
    {
     "data": {
      "text/plain": [
       "38115"
      ]
     },
     "execution_count": 66,
     "metadata": {},
     "output_type": "execute_result"
    }
   ],
   "source": [
    "len(market_label)"
   ]
  },
  {
   "cell_type": "code",
   "execution_count": 67,
   "metadata": {
    "slideshow": {
     "slide_type": "fragment"
    }
   },
   "outputs": [],
   "source": [
    "data['market_label'] = market_label"
   ]
  },
  {
   "cell_type": "markdown",
   "metadata": {
    "slideshow": {
     "slide_type": "subslide"
    }
   },
   "source": [
    "**Opeations**"
   ]
  },
  {
   "cell_type": "code",
   "execution_count": 68,
   "metadata": {},
   "outputs": [
    {
     "data": {
      "text/plain": [
       "0         9.132697\n",
       "1         3.535600\n",
       "2         4.804450\n",
       "3         6.864140\n",
       "4         4.251834\n",
       "           ...    \n",
       "38298     0.253828\n",
       "38299    16.984362\n",
       "38300     7.148034\n",
       "38301    -2.136360\n",
       "38303    17.787592\n",
       "Length: 38115, dtype: float64"
      ]
     },
     "execution_count": 68,
     "metadata": {},
     "output_type": "execute_result"
    }
   ],
   "source": [
    "# Operation of columns in pandas\n",
    "data.LTM_ROA + data.LTM_EP"
   ]
  },
  {
   "cell_type": "code",
   "execution_count": 69,
   "metadata": {
    "slideshow": {
     "slide_type": "fragment"
    }
   },
   "outputs": [],
   "source": [
    "data['LTM_AVG'] = (data.LTM_ROA + data.LTM_EP) /2"
   ]
  },
  {
   "cell_type": "markdown",
   "metadata": {
    "slideshow": {
     "slide_type": "subslide"
    }
   },
   "source": [
    "**Fixed values**"
   ]
  },
  {
   "cell_type": "code",
   "execution_count": 70,
   "metadata": {
    "slideshow": {
     "slide_type": "fragment"
    }
   },
   "outputs": [],
   "source": [
    "data['extra'] = ['extra'] * len(data)"
   ]
  },
  {
   "cell_type": "markdown",
   "metadata": {
    "slideshow": {
     "slide_type": "subslide"
    }
   },
   "source": [
    "**Aggregations**"
   ]
  },
  {
   "cell_type": "code",
   "execution_count": 71,
   "metadata": {
    "slideshow": {
     "slide_type": "fragment"
    }
   },
   "outputs": [],
   "source": [
    "year_distr = data\\\n",
    "    .groupby('year')\\\n",
    "    .count()['Identifier']\\\n",
    "    .reset_index()\\\n",
    "    .sort_values('year')"
   ]
  },
  {
   "cell_type": "code",
   "execution_count": 72,
   "metadata": {},
   "outputs": [
    {
     "data": {
      "text/html": [
       "<div>\n",
       "<style scoped>\n",
       "    .dataframe tbody tr th:only-of-type {\n",
       "        vertical-align: middle;\n",
       "    }\n",
       "\n",
       "    .dataframe tbody tr th {\n",
       "        vertical-align: top;\n",
       "    }\n",
       "\n",
       "    .dataframe thead th {\n",
       "        text-align: right;\n",
       "    }\n",
       "</style>\n",
       "<table border=\"1\" class=\"dataframe\">\n",
       "  <thead>\n",
       "    <tr style=\"text-align: right;\">\n",
       "      <th></th>\n",
       "      <th>year</th>\n",
       "      <th>Identifier</th>\n",
       "    </tr>\n",
       "  </thead>\n",
       "  <tbody>\n",
       "    <tr>\n",
       "      <td>0</td>\n",
       "      <td>2014</td>\n",
       "      <td>623</td>\n",
       "    </tr>\n",
       "    <tr>\n",
       "      <td>1</td>\n",
       "      <td>2015</td>\n",
       "      <td>629</td>\n",
       "    </tr>\n",
       "    <tr>\n",
       "      <td>2</td>\n",
       "      <td>2016</td>\n",
       "      <td>1221</td>\n",
       "    </tr>\n",
       "    <tr>\n",
       "      <td>3</td>\n",
       "      <td>2017</td>\n",
       "      <td>3116</td>\n",
       "    </tr>\n",
       "    <tr>\n",
       "      <td>4</td>\n",
       "      <td>2018</td>\n",
       "      <td>32526</td>\n",
       "    </tr>\n",
       "  </tbody>\n",
       "</table>\n",
       "</div>"
      ],
      "text/plain": [
       "   year  Identifier\n",
       "0  2014         623\n",
       "1  2015         629\n",
       "2  2016        1221\n",
       "3  2017        3116\n",
       "4  2018       32526"
      ]
     },
     "execution_count": 72,
     "metadata": {},
     "output_type": "execute_result"
    }
   ],
   "source": [
    "year_distr"
   ]
  },
  {
   "cell_type": "code",
   "execution_count": 73,
   "metadata": {
    "slideshow": {
     "slide_type": "subslide"
    }
   },
   "outputs": [],
   "source": [
    "year_distr['relative'] = year_distr.Identifier / year_distr.Identifier.sum() *100"
   ]
  },
  {
   "cell_type": "markdown",
   "metadata": {
    "slideshow": {
     "slide_type": "subslide"
    }
   },
   "source": [
    "**Sorting**"
   ]
  },
  {
   "cell_type": "code",
   "execution_count": 74,
   "metadata": {
    "slideshow": {
     "slide_type": "fragment"
    }
   },
   "outputs": [
    {
     "data": {
      "text/plain": [
       "Identifier\n",
       "Y2573F10    61\n",
       "14365830    61\n",
       "55002110    61\n",
       "55261F10    61\n",
       "15678210    61\n",
       "Name: Name, dtype: int64"
      ]
     },
     "execution_count": 74,
     "metadata": {},
     "output_type": "execute_result"
    }
   ],
   "source": [
    "data.groupby('Identifier').count()['Name'].sort_values(ascending=False).head()"
   ]
  },
  {
   "cell_type": "markdown",
   "metadata": {
    "slideshow": {
     "slide_type": "subslide"
    }
   },
   "source": [
    "**Merging**"
   ]
  },
  {
   "cell_type": "code",
   "execution_count": 75,
   "metadata": {},
   "outputs": [
    {
     "data": {
      "text/plain": [
       "\u001b[0;31mSignature:\u001b[0m\n",
       "\u001b[0mpd\u001b[0m\u001b[0;34m.\u001b[0m\u001b[0mmerge\u001b[0m\u001b[0;34m(\u001b[0m\u001b[0;34m\u001b[0m\n",
       "\u001b[0;34m\u001b[0m    \u001b[0mleft\u001b[0m\u001b[0;34m,\u001b[0m\u001b[0;34m\u001b[0m\n",
       "\u001b[0;34m\u001b[0m    \u001b[0mright\u001b[0m\u001b[0;34m,\u001b[0m\u001b[0;34m\u001b[0m\n",
       "\u001b[0;34m\u001b[0m    \u001b[0mhow\u001b[0m\u001b[0;34m=\u001b[0m\u001b[0;34m'inner'\u001b[0m\u001b[0;34m,\u001b[0m\u001b[0;34m\u001b[0m\n",
       "\u001b[0;34m\u001b[0m    \u001b[0mon\u001b[0m\u001b[0;34m=\u001b[0m\u001b[0;32mNone\u001b[0m\u001b[0;34m,\u001b[0m\u001b[0;34m\u001b[0m\n",
       "\u001b[0;34m\u001b[0m    \u001b[0mleft_on\u001b[0m\u001b[0;34m=\u001b[0m\u001b[0;32mNone\u001b[0m\u001b[0;34m,\u001b[0m\u001b[0;34m\u001b[0m\n",
       "\u001b[0;34m\u001b[0m    \u001b[0mright_on\u001b[0m\u001b[0;34m=\u001b[0m\u001b[0;32mNone\u001b[0m\u001b[0;34m,\u001b[0m\u001b[0;34m\u001b[0m\n",
       "\u001b[0;34m\u001b[0m    \u001b[0mleft_index\u001b[0m\u001b[0;34m=\u001b[0m\u001b[0;32mFalse\u001b[0m\u001b[0;34m,\u001b[0m\u001b[0;34m\u001b[0m\n",
       "\u001b[0;34m\u001b[0m    \u001b[0mright_index\u001b[0m\u001b[0;34m=\u001b[0m\u001b[0;32mFalse\u001b[0m\u001b[0;34m,\u001b[0m\u001b[0;34m\u001b[0m\n",
       "\u001b[0;34m\u001b[0m    \u001b[0msort\u001b[0m\u001b[0;34m=\u001b[0m\u001b[0;32mFalse\u001b[0m\u001b[0;34m,\u001b[0m\u001b[0;34m\u001b[0m\n",
       "\u001b[0;34m\u001b[0m    \u001b[0msuffixes\u001b[0m\u001b[0;34m=\u001b[0m\u001b[0;34m(\u001b[0m\u001b[0;34m'_x'\u001b[0m\u001b[0;34m,\u001b[0m \u001b[0;34m'_y'\u001b[0m\u001b[0;34m)\u001b[0m\u001b[0;34m,\u001b[0m\u001b[0;34m\u001b[0m\n",
       "\u001b[0;34m\u001b[0m    \u001b[0mcopy\u001b[0m\u001b[0;34m=\u001b[0m\u001b[0;32mTrue\u001b[0m\u001b[0;34m,\u001b[0m\u001b[0;34m\u001b[0m\n",
       "\u001b[0;34m\u001b[0m    \u001b[0mindicator\u001b[0m\u001b[0;34m=\u001b[0m\u001b[0;32mFalse\u001b[0m\u001b[0;34m,\u001b[0m\u001b[0;34m\u001b[0m\n",
       "\u001b[0;34m\u001b[0m    \u001b[0mvalidate\u001b[0m\u001b[0;34m=\u001b[0m\u001b[0;32mNone\u001b[0m\u001b[0;34m,\u001b[0m\u001b[0;34m\u001b[0m\n",
       "\u001b[0;34m\u001b[0m\u001b[0;34m)\u001b[0m\u001b[0;34m\u001b[0m\u001b[0;34m\u001b[0m\u001b[0m\n",
       "\u001b[0;31mDocstring:\u001b[0m\n",
       "Merge DataFrame or named Series objects with a database-style join.\n",
       "\n",
       "The join is done on columns or indexes. If joining columns on\n",
       "columns, the DataFrame indexes *will be ignored*. Otherwise if joining indexes\n",
       "on indexes or indexes on a column or columns, the index will be passed on.\n",
       "\n",
       "Parameters\n",
       "----------\n",
       "left : DataFrame\n",
       "right : DataFrame or named Series\n",
       "    Object to merge with.\n",
       "how : {'left', 'right', 'outer', 'inner'}, default 'inner'\n",
       "    Type of merge to be performed.\n",
       "\n",
       "    * left: use only keys from left frame, similar to a SQL left outer join;\n",
       "      preserve key order.\n",
       "    * right: use only keys from right frame, similar to a SQL right outer join;\n",
       "      preserve key order.\n",
       "    * outer: use union of keys from both frames, similar to a SQL full outer\n",
       "      join; sort keys lexicographically.\n",
       "    * inner: use intersection of keys from both frames, similar to a SQL inner\n",
       "      join; preserve the order of the left keys.\n",
       "on : label or list\n",
       "    Column or index level names to join on. These must be found in both\n",
       "    DataFrames. If `on` is None and not merging on indexes then this defaults\n",
       "    to the intersection of the columns in both DataFrames.\n",
       "left_on : label or list, or array-like\n",
       "    Column or index level names to join on in the left DataFrame. Can also\n",
       "    be an array or list of arrays of the length of the left DataFrame.\n",
       "    These arrays are treated as if they are columns.\n",
       "right_on : label or list, or array-like\n",
       "    Column or index level names to join on in the right DataFrame. Can also\n",
       "    be an array or list of arrays of the length of the right DataFrame.\n",
       "    These arrays are treated as if they are columns.\n",
       "left_index : bool, default False\n",
       "    Use the index from the left DataFrame as the join key(s). If it is a\n",
       "    MultiIndex, the number of keys in the other DataFrame (either the index\n",
       "    or a number of columns) must match the number of levels.\n",
       "right_index : bool, default False\n",
       "    Use the index from the right DataFrame as the join key. Same caveats as\n",
       "    left_index.\n",
       "sort : bool, default False\n",
       "    Sort the join keys lexicographically in the result DataFrame. If False,\n",
       "    the order of the join keys depends on the join type (how keyword).\n",
       "suffixes : tuple of (str, str), default ('_x', '_y')\n",
       "    Suffix to apply to overlapping column names in the left and right\n",
       "    side, respectively. To raise an exception on overlapping columns use\n",
       "    (False, False).\n",
       "copy : bool, default True\n",
       "    If False, avoid copy if possible.\n",
       "indicator : bool or str, default False\n",
       "    If True, adds a column to output DataFrame called \"_merge\" with\n",
       "    information on the source of each row.\n",
       "    If string, column with information on source of each row will be added to\n",
       "    output DataFrame, and column will be named value of string.\n",
       "    Information column is Categorical-type and takes on a value of \"left_only\"\n",
       "    for observations whose merge key only appears in 'left' DataFrame,\n",
       "    \"right_only\" for observations whose merge key only appears in 'right'\n",
       "    DataFrame, and \"both\" if the observation's merge key is found in both.\n",
       "\n",
       "validate : str, optional\n",
       "    If specified, checks if merge is of specified type.\n",
       "\n",
       "    * \"one_to_one\" or \"1:1\": check if merge keys are unique in both\n",
       "      left and right datasets.\n",
       "    * \"one_to_many\" or \"1:m\": check if merge keys are unique in left\n",
       "      dataset.\n",
       "    * \"many_to_one\" or \"m:1\": check if merge keys are unique in right\n",
       "      dataset.\n",
       "    * \"many_to_many\" or \"m:m\": allowed, but does not result in checks.\n",
       "\n",
       "    .. versionadded:: 0.21.0\n",
       "\n",
       "Returns\n",
       "-------\n",
       "DataFrame\n",
       "    A DataFrame of the two merged objects.\n",
       "\n",
       "See Also\n",
       "--------\n",
       "merge_ordered : Merge with optional filling/interpolation.\n",
       "merge_asof : Merge on nearest keys.\n",
       "DataFrame.join : Similar method using indices.\n",
       "\n",
       "Notes\n",
       "-----\n",
       "Support for specifying index levels as the `on`, `left_on`, and\n",
       "`right_on` parameters was added in version 0.23.0\n",
       "Support for merging named Series objects was added in version 0.24.0\n",
       "\n",
       "Examples\n",
       "--------\n",
       "\n",
       ">>> df1 = pd.DataFrame({'lkey': ['foo', 'bar', 'baz', 'foo'],\n",
       "...                     'value': [1, 2, 3, 5]})\n",
       ">>> df2 = pd.DataFrame({'rkey': ['foo', 'bar', 'baz', 'foo'],\n",
       "...                     'value': [5, 6, 7, 8]})\n",
       ">>> df1\n",
       "    lkey value\n",
       "0   foo      1\n",
       "1   bar      2\n",
       "2   baz      3\n",
       "3   foo      5\n",
       ">>> df2\n",
       "    rkey value\n",
       "0   foo      5\n",
       "1   bar      6\n",
       "2   baz      7\n",
       "3   foo      8\n",
       "\n",
       "Merge df1 and df2 on the lkey and rkey columns. The value columns have\n",
       "the default suffixes, _x and _y, appended.\n",
       "\n",
       ">>> df1.merge(df2, left_on='lkey', right_on='rkey')\n",
       "  lkey  value_x rkey  value_y\n",
       "0  foo        1  foo        5\n",
       "1  foo        1  foo        8\n",
       "2  foo        5  foo        5\n",
       "3  foo        5  foo        8\n",
       "4  bar        2  bar        6\n",
       "5  baz        3  baz        7\n",
       "\n",
       "Merge DataFrames df1 and df2 with specified left and right suffixes\n",
       "appended to any overlapping columns.\n",
       "\n",
       ">>> df1.merge(df2, left_on='lkey', right_on='rkey',\n",
       "...           suffixes=('_left', '_right'))\n",
       "  lkey  value_left rkey  value_right\n",
       "0  foo           1  foo            5\n",
       "1  foo           1  foo            8\n",
       "2  foo           5  foo            5\n",
       "3  foo           5  foo            8\n",
       "4  bar           2  bar            6\n",
       "5  baz           3  baz            7\n",
       "\n",
       "Merge DataFrames df1 and df2, but raise an exception if the DataFrames have\n",
       "any overlapping columns.\n",
       "\n",
       ">>> df1.merge(df2, left_on='lkey', right_on='rkey', suffixes=(False, False))\n",
       "Traceback (most recent call last):\n",
       "...\n",
       "ValueError: columns overlap but no suffix specified:\n",
       "    Index(['value'], dtype='object')\n",
       "\u001b[0;31mFile:\u001b[0m      ~/opt/anaconda3/lib/python3.7/site-packages/pandas/core/reshape/merge.py\n",
       "\u001b[0;31mType:\u001b[0m      function\n"
      ]
     },
     "metadata": {},
     "output_type": "display_data"
    }
   ],
   "source": [
    "pd.merge?"
   ]
  },
  {
   "cell_type": "code",
   "execution_count": 76,
   "metadata": {
    "slideshow": {
     "slide_type": "fragment"
    }
   },
   "outputs": [],
   "source": [
    "df_Y2573F10 = data[data.Identifier == 'Y2573F10']"
   ]
  },
  {
   "cell_type": "code",
   "execution_count": 77,
   "metadata": {
    "slideshow": {
     "slide_type": "fragment"
    }
   },
   "outputs": [],
   "source": [
    "df_Y2573F10 = df_Y2573F10[['Period','Market_Cap_USD','Name']]"
   ]
  },
  {
   "cell_type": "code",
   "execution_count": 78,
   "metadata": {
    "slideshow": {
     "slide_type": "fragment"
    }
   },
   "outputs": [],
   "source": [
    "df_14365830 = data[data.Identifier == '14365830']"
   ]
  },
  {
   "cell_type": "code",
   "execution_count": 79,
   "metadata": {
    "slideshow": {
     "slide_type": "fragment"
    }
   },
   "outputs": [],
   "source": [
    "df_14365830 = df_14365830[['Period','Market_Cap_USD','Name']]"
   ]
  },
  {
   "cell_type": "code",
   "execution_count": 80,
   "metadata": {
    "slideshow": {
     "slide_type": "fragment"
    }
   },
   "outputs": [],
   "source": [
    "portfolio_two = pd.merge(df_Y2573F10, df_14365830, on='Period', how='inner')"
   ]
  },
  {
   "cell_type": "code",
   "execution_count": 81,
   "metadata": {
    "jupyter": {
     "source_hidden": true
    }
   },
   "outputs": [
    {
     "data": {
      "text/html": [
       "<div>\n",
       "<style scoped>\n",
       "    .dataframe tbody tr th:only-of-type {\n",
       "        vertical-align: middle;\n",
       "    }\n",
       "\n",
       "    .dataframe tbody tr th {\n",
       "        vertical-align: top;\n",
       "    }\n",
       "\n",
       "    .dataframe thead th {\n",
       "        text-align: right;\n",
       "    }\n",
       "</style>\n",
       "<table border=\"1\" class=\"dataframe\">\n",
       "  <thead>\n",
       "    <tr style=\"text-align: right;\">\n",
       "      <th></th>\n",
       "      <th>Period</th>\n",
       "      <th>Market_Cap_USD_x</th>\n",
       "      <th>Name_x</th>\n",
       "      <th>Market_Cap_USD_y</th>\n",
       "      <th>Name_y</th>\n",
       "    </tr>\n",
       "  </thead>\n",
       "  <tbody>\n",
       "    <tr>\n",
       "      <td>0</td>\n",
       "      <td>2014-12-31</td>\n",
       "      <td>6575.6177</td>\n",
       "      <td>Flex Ltd.</td>\n",
       "      <td>17462.107</td>\n",
       "      <td>Carnival Corporation</td>\n",
       "    </tr>\n",
       "    <tr>\n",
       "      <td>1</td>\n",
       "      <td>2015-09-30</td>\n",
       "      <td>5944.4966</td>\n",
       "      <td>Flex Ltd.</td>\n",
       "      <td>20645.360</td>\n",
       "      <td>Carnival Corporation</td>\n",
       "    </tr>\n",
       "    <tr>\n",
       "      <td>2</td>\n",
       "      <td>2016-08-31</td>\n",
       "      <td>7263.2720</td>\n",
       "      <td>Flex Ltd.</td>\n",
       "      <td>19856.113</td>\n",
       "      <td>Carnival Corporation</td>\n",
       "    </tr>\n",
       "    <tr>\n",
       "      <td>3</td>\n",
       "      <td>2016-11-30</td>\n",
       "      <td>7729.5127</td>\n",
       "      <td>Flex Ltd.</td>\n",
       "      <td>18784.648</td>\n",
       "      <td>Carnival Corporation</td>\n",
       "    </tr>\n",
       "    <tr>\n",
       "      <td>4</td>\n",
       "      <td>2017-05-31</td>\n",
       "      <td>9320.4490</td>\n",
       "      <td>Flex Ltd.</td>\n",
       "      <td>22388.707</td>\n",
       "      <td>Carnival Corporation</td>\n",
       "    </tr>\n",
       "    <tr>\n",
       "      <td>...</td>\n",
       "      <td>...</td>\n",
       "      <td>...</td>\n",
       "      <td>...</td>\n",
       "      <td>...</td>\n",
       "      <td>...</td>\n",
       "    </tr>\n",
       "    <tr>\n",
       "      <td>56</td>\n",
       "      <td>2018-11-28</td>\n",
       "      <td>4553.7520</td>\n",
       "      <td>Flex Ltd.</td>\n",
       "      <td>26478.258</td>\n",
       "      <td>Carnival Corporation</td>\n",
       "    </tr>\n",
       "    <tr>\n",
       "      <td>57</td>\n",
       "      <td>2018-12-04</td>\n",
       "      <td>4485.8564</td>\n",
       "      <td>Flex Ltd.</td>\n",
       "      <td>24747.717</td>\n",
       "      <td>Carnival Corporation</td>\n",
       "    </tr>\n",
       "    <tr>\n",
       "      <td>58</td>\n",
       "      <td>2018-12-12</td>\n",
       "      <td>4357.9937</td>\n",
       "      <td>Flex Ltd.</td>\n",
       "      <td>23992.125</td>\n",
       "      <td>Carnival Corporation</td>\n",
       "    </tr>\n",
       "    <tr>\n",
       "      <td>59</td>\n",
       "      <td>2018-12-19</td>\n",
       "      <td>3979.7324</td>\n",
       "      <td>Flex Ltd.</td>\n",
       "      <td>23351.146</td>\n",
       "      <td>Carnival Corporation</td>\n",
       "    </tr>\n",
       "    <tr>\n",
       "      <td>60</td>\n",
       "      <td>2018-12-26</td>\n",
       "      <td>4038.3362</td>\n",
       "      <td>Flex Ltd.</td>\n",
       "      <td>20163.234</td>\n",
       "      <td>Carnival Corporation</td>\n",
       "    </tr>\n",
       "  </tbody>\n",
       "</table>\n",
       "<p>61 rows × 5 columns</p>\n",
       "</div>"
      ],
      "text/plain": [
       "       Period  Market_Cap_USD_x     Name_x  Market_Cap_USD_y  \\\n",
       "0  2014-12-31         6575.6177  Flex Ltd.         17462.107   \n",
       "1  2015-09-30         5944.4966  Flex Ltd.         20645.360   \n",
       "2  2016-08-31         7263.2720  Flex Ltd.         19856.113   \n",
       "3  2016-11-30         7729.5127  Flex Ltd.         18784.648   \n",
       "4  2017-05-31         9320.4490  Flex Ltd.         22388.707   \n",
       "..        ...               ...        ...               ...   \n",
       "56 2018-11-28         4553.7520  Flex Ltd.         26478.258   \n",
       "57 2018-12-04         4485.8564  Flex Ltd.         24747.717   \n",
       "58 2018-12-12         4357.9937  Flex Ltd.         23992.125   \n",
       "59 2018-12-19         3979.7324  Flex Ltd.         23351.146   \n",
       "60 2018-12-26         4038.3362  Flex Ltd.         20163.234   \n",
       "\n",
       "                  Name_y  \n",
       "0   Carnival Corporation  \n",
       "1   Carnival Corporation  \n",
       "2   Carnival Corporation  \n",
       "3   Carnival Corporation  \n",
       "4   Carnival Corporation  \n",
       "..                   ...  \n",
       "56  Carnival Corporation  \n",
       "57  Carnival Corporation  \n",
       "58  Carnival Corporation  \n",
       "59  Carnival Corporation  \n",
       "60  Carnival Corporation  \n",
       "\n",
       "[61 rows x 5 columns]"
      ]
     },
     "execution_count": 81,
     "metadata": {},
     "output_type": "execute_result"
    }
   ],
   "source": [
    "portfolio_two"
   ]
  },
  {
   "cell_type": "code",
   "execution_count": 82,
   "metadata": {
    "slideshow": {
     "slide_type": "slide"
    }
   },
   "outputs": [],
   "source": [
    "import matplotlib.pyplot as plt\n",
    "%matplotlib inline"
   ]
  },
  {
   "cell_type": "code",
   "execution_count": 83,
   "metadata": {},
   "outputs": [
    {
     "data": {
      "text/plain": [
       "<matplotlib.axes._subplots.AxesSubplot at 0x118f68f50>"
      ]
     },
     "execution_count": 83,
     "metadata": {},
     "output_type": "execute_result"
    },
    {
     "data": {
      "image/png": "[encoded data removed]",
      "text/plain": [
       "<Figure size 432x288 with 1 Axes>"
      ]
     },
     "metadata": {
      "needs_background": "light"
     },
     "output_type": "display_data"
    }
   ],
   "source": [
    "portfolio_two._get_numeric_data().plot()"
   ]
  },
  {
   "cell_type": "markdown",
   "metadata": {
    "slideshow": {
     "slide_type": "slide"
    }
   },
   "source": [
    "### Writing files"
   ]
  },
  {
   "cell_type": "code",
   "execution_count": 84,
   "metadata": {
    "slideshow": {
     "slide_type": "fragment"
    }
   },
   "outputs": [],
   "source": [
    "excelbook = pd.ExcelWriter('output.xlsx')"
   ]
  },
  {
   "cell_type": "code",
   "execution_count": 85,
   "metadata": {},
   "outputs": [
    {
     "data": {
      "text/plain": [
       "<pandas.io.excel._xlsxwriter._XlsxWriter at 0x11d4d7710>"
      ]
     },
     "execution_count": 85,
     "metadata": {},
     "output_type": "execute_result"
    }
   ],
   "source": [
    "excelbook"
   ]
  },
  {
   "cell_type": "code",
   "execution_count": 86,
   "metadata": {
    "slideshow": {
     "slide_type": "fragment"
    }
   },
   "outputs": [],
   "source": [
    "portfolio_two.to_excel(excelbook, 'sheet1')\n",
    "portfolio_two.to_excel(excelbook, 'sheet2')\n",
    "excelbook.save()"
   ]
  },
  {
   "cell_type": "code",
   "execution_count": 87,
   "metadata": {
    "slideshow": {
     "slide_type": "fragment"
    }
   },
   "outputs": [],
   "source": [
    "!rm output.xlsx"
   ]
  },
  {
   "cell_type": "markdown",
   "metadata": {
    "colab_type": "text",
    "id": "i-4QaTUtr10F",
    "slideshow": {
     "slide_type": "subslide"
    }
   },
   "source": [
    "Pandas, overall, is one of the reason why Python is such a great software. \n",
    "There are many other interesting pandas features I could have shown, but it’s already enough to understand why a data scientist cannot do without pandas. To sum up, pandas is simple to use, hiding all the complex and abstract computations behind (generally) intuitive fast, if not the fastest data analysis package (it highly optimized in C)."
   ]
  },
  {
   "cell_type": "code",
   "execution_count": 88,
   "metadata": {
    "slideshow": {
     "slide_type": "subslide"
    }
   },
   "outputs": [],
   "source": [
    "tuples = []\n",
    "for column in data.columns:\n",
    "    tuples.append((column, data[str(column)].map(type).unique()))"
   ]
  },
  {
   "cell_type": "code",
   "execution_count": 89,
   "metadata": {
    "slideshow": {
     "slide_type": "subslide"
    }
   },
   "outputs": [],
   "source": [
    "year_distr =data.groupby('year').count()['Identifier'].reset_index().sort_values('year')"
   ]
  },
  {
   "cell_type": "code",
   "execution_count": 90,
   "metadata": {
    "slideshow": {
     "slide_type": "fragment"
    }
   },
   "outputs": [],
   "source": [
    "year_distr['relative'] = year_distr.Identifier / year_distr.Identifier.sum() *100"
   ]
  },
  {
   "cell_type": "code",
   "execution_count": 91,
   "metadata": {},
   "outputs": [
    {
     "data": {
      "text/html": [
       "<div>\n",
       "<style scoped>\n",
       "    .dataframe tbody tr th:only-of-type {\n",
       "        vertical-align: middle;\n",
       "    }\n",
       "\n",
       "    .dataframe tbody tr th {\n",
       "        vertical-align: top;\n",
       "    }\n",
       "\n",
       "    .dataframe thead th {\n",
       "        text-align: right;\n",
       "    }\n",
       "</style>\n",
       "<table border=\"1\" class=\"dataframe\">\n",
       "  <thead>\n",
       "    <tr style=\"text-align: right;\">\n",
       "      <th></th>\n",
       "      <th>year</th>\n",
       "      <th>Identifier</th>\n",
       "      <th>relative</th>\n",
       "    </tr>\n",
       "  </thead>\n",
       "  <tbody>\n",
       "    <tr>\n",
       "      <td>0</td>\n",
       "      <td>2014</td>\n",
       "      <td>623</td>\n",
       "      <td>1.634527</td>\n",
       "    </tr>\n",
       "    <tr>\n",
       "      <td>1</td>\n",
       "      <td>2015</td>\n",
       "      <td>629</td>\n",
       "      <td>1.650269</td>\n",
       "    </tr>\n",
       "    <tr>\n",
       "      <td>2</td>\n",
       "      <td>2016</td>\n",
       "      <td>1221</td>\n",
       "      <td>3.203463</td>\n",
       "    </tr>\n",
       "    <tr>\n",
       "      <td>3</td>\n",
       "      <td>2017</td>\n",
       "      <td>3116</td>\n",
       "      <td>8.175259</td>\n",
       "    </tr>\n",
       "    <tr>\n",
       "      <td>4</td>\n",
       "      <td>2018</td>\n",
       "      <td>32526</td>\n",
       "      <td>85.336482</td>\n",
       "    </tr>\n",
       "  </tbody>\n",
       "</table>\n",
       "</div>"
      ],
      "text/plain": [
       "   year  Identifier   relative\n",
       "0  2014         623   1.634527\n",
       "1  2015         629   1.650269\n",
       "2  2016        1221   3.203463\n",
       "3  2017        3116   8.175259\n",
       "4  2018       32526  85.336482"
      ]
     },
     "execution_count": 91,
     "metadata": {},
     "output_type": "execute_result"
    }
   ],
   "source": [
    "year_distr"
   ]
  },
  {
   "cell_type": "markdown",
   "metadata": {
    "slideshow": {
     "slide_type": "subslide"
    }
   },
   "source": [
    "**Uniqueness**"
   ]
  },
  {
   "cell_type": "code",
   "execution_count": 92,
   "metadata": {
    "slideshow": {
     "slide_type": "fragment"
    }
   },
   "outputs": [],
   "source": [
    "sector = data.GICS_Sector.unique()"
   ]
  },
  {
   "cell_type": "code",
   "execution_count": 93,
   "metadata": {},
   "outputs": [
    {
     "data": {
      "text/plain": [
       "Index(['Identifier', 'Name', 'Period', 'Period_YYYYMMDD', 'Ticker',\n",
       "       'Universe_Returns_F1W', 'Universe_Returns_F4W', 'Universe_Returns_F12W',\n",
       "       'Weight', 'GICS_Sector', 'GICS_Ind_Grp', 'Market_Cap_USD', 'Price_USD',\n",
       "       'NTM_EP', 'LTM_ROA', 'BP', 'LTM_EP', '5Y_Sales_Growth', 'counting',\n",
       "       'month', 'day', 'year', 'market_label', 'LTM_AVG', 'extra'],\n",
       "      dtype='object')"
      ]
     },
     "execution_count": 93,
     "metadata": {},
     "output_type": "execute_result"
    }
   ],
   "source": [
    "data.columns"
   ]
  },
  {
   "cell_type": "code",
   "execution_count": 94,
   "metadata": {
    "slideshow": {
     "slide_type": "fragment"
    }
   },
   "outputs": [
    {
     "name": "stdout",
     "output_type": "stream",
     "text": [
      "11 ['Industrials' 'Utilities' 'Information Technology' 'Health Care'\n",
      " 'Financials' 'Consumer Staples' 'Consumer Discretionary' 'Materials'\n",
      " 'Energy' 'Communication Services' 'Real Estate']\n"
     ]
    }
   ],
   "source": [
    "print(len(sector), sector)"
   ]
  },
  {
   "cell_type": "markdown",
   "metadata": {
    "slideshow": {
     "slide_type": "subslide"
    }
   },
   "source": [
    "**Delete columns**"
   ]
  },
  {
   "cell_type": "code",
   "execution_count": 95,
   "metadata": {},
   "outputs": [
    {
     "data": {
      "text/plain": [
       "Index(['Identifier', 'Name', 'Period', 'Period_YYYYMMDD', 'Ticker',\n",
       "       'Universe_Returns_F1W', 'Universe_Returns_F4W', 'Universe_Returns_F12W',\n",
       "       'Weight', 'GICS_Sector', 'GICS_Ind_Grp', 'Market_Cap_USD', 'Price_USD',\n",
       "       'NTM_EP', 'LTM_ROA', 'BP', 'LTM_EP', '5Y_Sales_Growth', 'counting',\n",
       "       'month', 'day', 'year', 'market_label', 'LTM_AVG', 'extra'],\n",
       "      dtype='object')"
      ]
     },
     "execution_count": 95,
     "metadata": {},
     "output_type": "execute_result"
    }
   ],
   "source": [
    "data.columns"
   ]
  },
  {
   "cell_type": "code",
   "execution_count": 96,
   "metadata": {},
   "outputs": [],
   "source": [
    "del data['extra']"
   ]
  },
  {
   "cell_type": "markdown",
   "metadata": {
    "slideshow": {
     "slide_type": "subslide"
    }
   },
   "source": [
    "#### Trying with categories"
   ]
  },
  {
   "cell_type": "code",
   "execution_count": 97,
   "metadata": {
    "slideshow": {
     "slide_type": "fragment"
    }
   },
   "outputs": [],
   "source": [
    "df_ind_grp = data\\\n",
    "    .groupby('GICS_Ind_Grp')\\\n",
    "    .count()['Identifier']\\\n",
    "    .reset_index()\\\n",
    "    .sort_values(by='Identifier')"
   ]
  },
  {
   "cell_type": "code",
   "execution_count": 98,
   "metadata": {
    "slideshow": {
     "slide_type": "fragment"
    }
   },
   "outputs": [
    {
     "data": {
      "text/plain": [
       "<BarContainer object of 25 artists>"
      ]
     },
     "execution_count": 98,
     "metadata": {},
     "output_type": "execute_result"
    },
    {
     "data": {
      "image/png": "[encoded data removed]",
      "text/plain": [
       "<Figure size 720x504 with 1 Axes>"
      ]
     },
     "metadata": {
      "needs_background": "light"
     },
     "output_type": "display_data"
    }
   ],
   "source": [
    "plt.figure(figsize=(10,7))\n",
    "\n",
    "#x, y = df_ind_grp.GICS_Ind_Grp, df_ind_grp.Identifier\n",
    "x = df_ind_grp.GICS_Ind_Grp\n",
    "y = df_ind_grp.Identifier\n",
    "plt.barh(x,y)"
   ]
  },
  {
   "cell_type": "markdown",
   "metadata": {},
   "source": [
    "---\n",
    "#### *Learn more about Pandas package at [Pandas.org](https://pandas.pydata.org ) and its book [Pandas official documentation](https://pandas.pydata.org/docs/pandas.pdf) if you are familirized with SQL syntax the following sources are of much help [pydata.org/comparison_with_sql](https://pandas.pydata.org/pandas-docs/stable/getting_started/comparison/comparison_with_sql.html) and [medium.com/jbennetcodes](https://medium.com/jbennetcodes/how-to-rewrite-your-sql-queries-in-pandas-and-more-149d341fc53e)* "
   ]
  }
 ],
 "metadata": {
  "kernelspec": {
   "display_name": "Python 3",
   "language": "python",
   "name": "python3"
  },
  "language_info": {
   "codemirror_mode": {
    "name": "ipython",
    "version": 3
   },
   "file_extension": ".py",
   "mimetype": "text/x-python",
   "name": "python",
   "nbconvert_exporter": "python",
   "pygments_lexer": "ipython3",
   "version": "3.7.4"
  }
 },
 "nbformat": 4,
 "nbformat_minor": 4
}
