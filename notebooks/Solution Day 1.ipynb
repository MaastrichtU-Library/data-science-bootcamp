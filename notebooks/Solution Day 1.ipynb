{
 "cells": [
  {
   "cell_type": "markdown",
   "metadata": {},
   "source": [
    "## Assignment 1"
   ]
  },
  {
   "cell_type": "markdown",
   "metadata": {},
   "source": [
    "## A simple Exchange Rate Conversion app\n",
    "---"
   ]
  },
  {
   "cell_type": "markdown",
   "metadata": {},
   "source": [
    "The purpose of this assignment is to grasp the fundamentals of working with different structures in python performing a hands-on python application where the user will be able to insert a request getting valid responses in return.\n",
    "\n",
    "The main idea is to build a program or an executable code which task is to convert the value of one currency to another one, based on a dictionary of supported currencies. The currencies supported by the program is up to you, it is recommendable at least 3 different currencies. The program can be executed in this notebook, a python executable file or a GUI based on python."
   ]
  },
  {
   "cell_type": "markdown",
   "metadata": {},
   "source": [
    "---\n",
    "## Part 1: Fixing bugs"
   ]
  },
  {
   "cell_type": "markdown",
   "metadata": {},
   "source": [
    "1. Explain why this format of printing is not recomendable, fix with `.format()` method afterwards"
   ]
  },
  {
   "cell_type": "code",
   "execution_count": null,
   "metadata": {},
   "outputs": [],
   "source": [
    "name = 'Dave'\n",
    "dogs = 0\n",
    "print('My name is', name, 'and I own', dogs, 'dogs.')\n",
    "print('My name is {} and I own {} dogs.'.format(name, dogs))"
   ]
  },
  {
   "cell_type": "markdown",
   "metadata": {},
   "source": [
    "2. Run the code and fix the error(s)"
   ]
  },
  {
   "cell_type": "code",
   "execution_count": null,
   "metadata": {},
   "outputs": [],
   "source": [
    "# weather = 'Rain'\n",
    "# if weather = 'Rain':\n",
    "#     print('Wear a raincoat')\n",
    "#     else:\n",
    "#     print('No raincoat needed')"
   ]
  },
  {
   "cell_type": "code",
   "execution_count": null,
   "metadata": {},
   "outputs": [],
   "source": [
    "weather = 'Rain'\n",
    "\n",
    "if weather == 'Rain':\n",
    "    print('Wear a raincoat')\n",
    "else:\n",
    "    print('No raincoat needed')"
   ]
  },
  {
   "cell_type": "markdown",
   "metadata": {},
   "source": [
    "3. Run the code and fix the error(s)"
   ]
  },
  {
   "cell_type": "code",
   "execution_count": null,
   "metadata": {},
   "outputs": [],
   "source": [
    "# if (1 > 0) and (-1 > 0):\n",
    "#     print('Both parts are true')\n",
    "#     elif:\n",
    "#         print('One part is not true')"
   ]
  },
  {
   "cell_type": "code",
   "execution_count": null,
   "metadata": {},
   "outputs": [],
   "source": [
    "if (1 > 0) and (-1 > 0):\n",
    "    print('Both parts are true')\n",
    "else:\n",
    "    print('One part is not true')"
   ]
  },
  {
   "cell_type": "code",
   "execution_count": null,
   "metadata": {},
   "outputs": [],
   "source": [
    "if (1 > 0) and (-1 > 0):\n",
    "    print('Both parts are true')\n",
    "elif (-1 < 1):\n",
    "    pass\n",
    "else:\n",
    "    print('One part is not true')"
   ]
  },
  {
   "cell_type": "markdown",
   "metadata": {},
   "source": [
    "4. Run the code and fix the error(s)"
   ]
  },
  {
   "cell_type": "code",
   "execution_count": null,
   "metadata": {},
   "outputs": [],
   "source": [
    "# word = 'coronavirus'\n",
    "# for i in range(len(word)):\n",
    "#     print(word(i))"
   ]
  },
  {
   "cell_type": "code",
   "execution_count": null,
   "metadata": {},
   "outputs": [],
   "source": [
    "word = 'coronavirus'\n",
    "for i in range(len(word)):\n",
    "    print(word[i])"
   ]
  },
  {
   "cell_type": "code",
   "execution_count": null,
   "metadata": {},
   "outputs": [],
   "source": [
    "word = 'coronavirus'\n",
    "for i in word:\n",
    "    print(i)"
   ]
  },
  {
   "cell_type": "markdown",
   "metadata": {},
   "source": [
    "---\n",
    "## Part 2: Exchange Rate Conversion"
   ]
  },
  {
   "cell_type": "markdown",
   "metadata": {},
   "source": [
    "1. Go to Google and search for the exchange rate between the EUR and USD, as well as EUR and GBP. Save the exchange rates in variables"
   ]
  },
  {
   "cell_type": "code",
   "execution_count": null,
   "metadata": {},
   "outputs": [],
   "source": [
    "EUR2USD = 1.13\n",
    "EUR2GBP = 0.86"
   ]
  },
  {
   "cell_type": "markdown",
   "metadata": {},
   "source": [
    "2. Write a code that takes any positive value as input and convert EUR to USD and EUR to GBP"
   ]
  },
  {
   "cell_type": "code",
   "execution_count": null,
   "metadata": {},
   "outputs": [],
   "source": [
    "def eur2currency(euros, currency):\n",
    "    if currency == \"USD\":\n",
    "        value = euros * EUR2USD\n",
    "    elif currency == \"GBP\":\n",
    "        value = euros * EUR2GBP\n",
    "    else:\n",
    "        print(\"There is something wrong.\")\n",
    "    return value"
   ]
  },
  {
   "cell_type": "code",
   "execution_count": null,
   "metadata": {},
   "outputs": [],
   "source": [
    "eur2currency(20, \"GBP\")"
   ]
  },
  {
   "cell_type": "markdown",
   "metadata": {},
   "source": [
    "3. In the form of a Dictionary, write key-value pairs object to store supported currencies for your program and its currency codes."
   ]
  },
  {
   "cell_type": "markdown",
   "metadata": {},
   "source": [
    "python_dictionary = {   key1: value1,   key2: value2,   ...}"
   ]
  },
  {
   "cell_type": "code",
   "execution_count": null,
   "metadata": {},
   "outputs": [],
   "source": [
    "SUPPORTED_CURRENCIES = {\n",
    "    \"EUR\": \"European euro\",\n",
    "    \"USD\": \"US dollar\",\n",
    "    \"GBP\": \"Pound sterling\",\n",
    "    \"BRL\": \"Brazilian real\"\n",
    "}\n",
    "\n",
    "\n",
    "CURRENCY_CODES = {\n",
    "    1: \"EUR\",\n",
    "    2: \"USD\",\n",
    "    3: \"GBP\",\n",
    "    4: \"BRL\"\n",
    "}"
   ]
  },
  {
   "cell_type": "markdown",
   "metadata": {},
   "source": [
    "5. Write a for loop for printing both values of the currency and the name of the currency from the dictionary"
   ]
  },
  {
   "cell_type": "code",
   "execution_count": null,
   "metadata": {},
   "outputs": [],
   "source": [
    "for key, value in SUPPORTED_CURRENCIES.items():\n",
    "    print(key, value)"
   ]
  },
  {
   "cell_type": "markdown",
   "metadata": {},
   "source": [
    "6. Explore Rates API\n",
    "\n",
    "`Ratesapi.io` is an open-source initiative that where one can access current and historical foreign exchange rates built on top of data published by European Central Bank.   \n",
    "\n",
    "Using the following code, one can request the exchange rate of desired currencies."
   ]
  },
  {
   "cell_type": "code",
   "execution_count": null,
   "metadata": {},
   "outputs": [],
   "source": [
    "import requests\n",
    "api_uri = \"https://api.ratesapi.io/api/latest?format=1&base=EUR&symbols=USD\" #try this url in the web browser also\n",
    "api_response = requests.get(api_uri)\n",
    "api_response.json()"
   ]
  },
  {
   "cell_type": "markdown",
   "metadata": {},
   "source": [
    "7. Write the function `get_exchange_rate` which task is to display an exange rate from the Rates API platform.  \n",
    "\n",
    "The function should have `base currency` and `target currency` as input parameters."
   ]
  },
  {
   "cell_type": "code",
   "execution_count": null,
   "metadata": {},
   "outputs": [],
   "source": [
    "def get_exchange_rate(base_currency, target_currency):\n",
    "    if not (base_currency in SUPPORTED_CURRENCIES.keys()):\n",
    "        raise ValueError(\"base currency {} not supported\".format(base_currency))\n",
    "    if not (target_currency in SUPPORTED_CURRENCIES.keys()):\n",
    "        raise ValueError(\"target currency {} not supported\".format(target_currency))\n",
    "\n",
    "    if base_currency == target_currency:\n",
    "        return 1\n",
    "\n",
    "    api_uri = \"https://api.ratesapi.io/api/latest?format=1&base={}&symbols={}\".format(base_currency, target_currency)\n",
    "    api_response = requests.get(api_uri)\n",
    "    return api_response.json()[\"rates\"][target_currency]"
   ]
  },
  {
   "cell_type": "code",
   "execution_count": null,
   "metadata": {},
   "outputs": [],
   "source": [
    "base_currency = list(SUPPORTED_CURRENCIES.keys())[0]\n",
    "target_currency = list(SUPPORTED_CURRENCIES.keys())[1]"
   ]
  },
  {
   "cell_type": "code",
   "execution_count": null,
   "metadata": {},
   "outputs": [],
   "source": [
    "get_exchange_rate(base_currency, target_currency)"
   ]
  },
  {
   "cell_type": "markdown",
   "metadata": {},
   "source": [
    "8. Generalize a function currency exchange (similar to what is done in point 2).  \n",
    "\n",
    "The function should round the result up to 3 decimals."
   ]
  },
  {
   "cell_type": "code",
   "execution_count": null,
   "metadata": {},
   "outputs": [],
   "source": [
    "def calculate_value(base_currency, target_currency, amount):\n",
    "    exchange_rate = get_exchange_rate(base_currency, target_currency)\n",
    "    return round(amount * exchange_rate, 3)"
   ]
  },
  {
   "cell_type": "code",
   "execution_count": null,
   "metadata": {},
   "outputs": [],
   "source": [
    "calculate_value(base_currency, target_currency, 20)"
   ]
  },
  {
   "cell_type": "markdown",
   "metadata": {},
   "source": [
    "9. Develop a  a program or an executable code which task is to convert the value of one currency to another one, based on the previous steps.\n",
    "\n",
    "The program should be interactive and ask the user to enter an amount to convert, and the desired currencies to use."
   ]
  },
  {
   "cell_type": "code",
   "execution_count": null,
   "metadata": {},
   "outputs": [],
   "source": [
    "import requests\n",
    "\n",
    "\n",
    "SUPPORTED_CURRENCIES = {\n",
    "    \"EUR\": \"European euro\",\n",
    "    \"USD\": \"US dollar\",\n",
    "    \"GBP\": \"Pound sterling\",\n",
    "    \"BRL\": \"Brazilian real\"\n",
    "}\n",
    "\n",
    "\n",
    "CURRENCY_CODES = {\n",
    "    1: \"EUR\",\n",
    "    2: \"USD\",\n",
    "    3: \"GBP\",\n",
    "    4: \"BRL\"\n",
    "}\n",
    "\n",
    "\n",
    "def get_exchange_rate(base_currency, target_currency):\n",
    "    if not (base_currency in SUPPORTED_CURRENCIES.keys()):\n",
    "        raise ValueError(\"base currency {} not supported\".format(base_currency))\n",
    "    if not (target_currency in SUPPORTED_CURRENCIES.keys()):\n",
    "        raise ValueError(\"target currency {} not supported\".format(target_currency))\n",
    "\n",
    "    if base_currency == target_currency:\n",
    "        return 1\n",
    "\n",
    "    api_uri = \"https://api.ratesapi.io/api/latest?format=1&base={}&symbols={}\".format(base_currency, target_currency)\n",
    "    api_response = requests.get(api_uri)\n",
    "    return api_response.json()[\"rates\"][target_currency]\n",
    "\n",
    "def calculate_value(base_currency, target_currency, amount):\n",
    "    exchange_rate = get_exchange_rate(base_currency, target_currency)\n",
    "    return round(amount * exchange_rate, 3)\n",
    "\n",
    "if __name__ == '__main__':\n",
    "    print(\"Welcome to Currency Converter\")\n",
    "\n",
    "    amount = float(input(\"Enter the amount you wish to convert: \"))\n",
    "\n",
    "    print(\"Choose a base currency among our supported currencies:\")\n",
    "    while True:\n",
    "        for code, currency in CURRENCY_CODES.items():\n",
    "            print(\"code {}: base {}\".format(code, currency))\n",
    "        base_currency_code = int(input(\"Please digit the code: \"))\n",
    "        if base_currency_code in CURRENCY_CODES.keys():\n",
    "            break\n",
    "        else:\n",
    "            print(\"Invalid code\")\n",
    "    base_currency = CURRENCY_CODES[base_currency_code]\n",
    "\n",
    "    print(\"Choose a target currency among our supported currencies:\")\n",
    "    while True:\n",
    "        for code, currency in CURRENCY_CODES.items():\n",
    "            print(\"code {}: target {}\".format(code, currency))\n",
    "        target_currency_code = int(input(\"Please digit the code: \"))\n",
    "        if target_currency_code in CURRENCY_CODES.keys():\n",
    "            break\n",
    "        else:\n",
    "            print(\"Invalid code\")\n",
    "    target_currency = CURRENCY_CODES[target_currency_code]\n",
    "\n",
    "    calculated_value = calculate_value(base_currency, target_currency, amount)\n",
    "\n",
    "    print(\"{} {} is {} {}\".format(amount, base_currency, calculated_value, target_currency))"
   ]
  },
  {
   "cell_type": "code",
   "execution_count": null,
   "metadata": {},
   "outputs": [],
   "source": []
  }
 ],
 "metadata": {
  "kernelspec": {
   "display_name": "Python 3",
   "language": "python",
   "name": "python3"
  },
  "language_info": {
   "codemirror_mode": {
    "name": "ipython",
    "version": 3
   },
   "file_extension": ".py",
   "mimetype": "text/x-python",
   "name": "python",
   "nbconvert_exporter": "python",
   "pygments_lexer": "ipython3",
   "version": "3.7.3"
  }
 },
 "nbformat": 4,
 "nbformat_minor": 2
}
