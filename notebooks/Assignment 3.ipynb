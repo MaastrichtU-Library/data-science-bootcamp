{
 "cells": [
  {
   "cell_type": "markdown",
   "metadata": {},
   "source": [
    "## Assignment 3"
   ]
  },
  {
   "cell_type": "markdown",
   "metadata": {},
   "source": [
    "## Exploratory Data Analysis\n",
    "---"
   ]
  },
  {
   "cell_type": "markdown",
   "metadata": {},
   "source": [
    "The purpose of this assignment is to put in practice what is been learn during the bootcamp by executing the following use cases where the goal is to get insights from the data creating functions for analysis and calculations, data processing procedures as well as generation of plots and figures."
   ]
  },
  {
   "cell_type": "markdown",
   "metadata": {},
   "source": [
    "---\n",
    "## Case 1 - Houses data from Funda\n",
    "\n",
    "The repository [github.com/khpeek/funda-scraper](https://github.com/khpeek/funda-scraper) contains a web scraper of the Dutch real estate website Funda.nl, written in Python Scrapy. The method generates an automatic pipeline which output are JSON files with information of posted houses in the website.\n",
    "\n",
    "Using the raw URL from Github we can easily access the file directly. The raw URLs work very similarly to an API output `https://raw.githubusercontent.com/khpeek/funda-scraper/master/amsterdam_sold2.json`\n",
    "\n",
    "As a real state investor, you intend to analyze the market and have a general understanding of the situation in the city of Amsterdam. It is then pertinent to establish a set of key questions that will facilitate an exploratory data analysis for decision making. \n",
    "\n",
    "For example: Is there any relation between the time is posted online and the neighbourhoods? Or how the average prices change over time, is it maybe that is correlated the price of houses and apartments? Would it be possible to have an indication of whether if old housed tend to have more rooms on average than newer houses?\n",
    "\n",
    "You will create an executive report in HTML that supports with descriptive evidence and graphics the decision of an optimal investment strategy."
   ]
  },
  {
   "cell_type": "markdown",
   "metadata": {},
   "source": [
    "---\n",
    "## Case 2 - Mutual Funds vs Exchange-trade Funds\n",
    "The folder `datasets` contains 2 files (among others), `Mutual_funds.csv` and `ETFs.csv`. These datasets correspond to 25,265 Mutual Funds and 2,353 Exchange-trade Funds with general aspects (as Total Net Assets, management company and size), portfolio indicators (as cash, stocks, bonds, and sectors), returns (as year to date, 2018-10) and financial ratios (as price/earning, Treynor and Sharpe ratios, alpha, and beta).\n",
    "\n",
    "Perform an empirical data analysis where the central idea is to compare the overall indicators between the Mutual funds and the Exchange-trade funds and provide insights to what extent ETFs meets the idea of Socially responsible investment.\n",
    "\n",
    "The original dataset is in a [Kaggle](kaggle.com) public repository: [Mutual funds and ETFs data](https://www.kaggle.com/stefanoleone992/mutual-funds-and-etfs), the data was scraped by the publisher from the publicly available website [finance.yahoo.com](https://finance.yahoo.com).\n",
    "\n",
    "Some abstracts for inspiration:  \n",
    "https://papers.ssrn.com/sol3/papers.cfm?abstract_id=3186094  \n",
    "https://www.mdpi.com/2076-3387/9/2/31  \n",
    "https://www.ceeol.com/search/article-detail?id=527730  "
   ]
  },
  {
   "cell_type": "code",
   "execution_count": null,
   "metadata": {},
   "outputs": [],
   "source": []
  }
 ],
 "metadata": {
  "kernelspec": {
   "display_name": "Python 3",
   "language": "python",
   "name": "python3"
  },
  "language_info": {
   "codemirror_mode": {
    "name": "ipython",
    "version": 3
   },
   "file_extension": ".py",
   "mimetype": "text/x-python",
   "name": "python",
   "nbconvert_exporter": "python",
   "pygments_lexer": "ipython3",
   "version": "3.7.4"
  }
 },
 "nbformat": 4,
 "nbformat_minor": 4
}
